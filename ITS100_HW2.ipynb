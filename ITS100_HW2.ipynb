{
  "nbformat": 4,
  "nbformat_minor": 0,
  "metadata": {
    "colab": {
      "name": "ITS100_HW2.ipynb",
      "provenance": [],
      "authorship_tag": "ABX9TyNyDZ2X3qVa2KzlS+n11rNp",
      "include_colab_link": true
    },
    "kernelspec": {
      "name": "python3",
      "display_name": "Python 3"
    },
    "language_info": {
      "name": "python"
    }
  },
  "cells": [
    {
      "cell_type": "markdown",
      "metadata": {
        "id": "view-in-github",
        "colab_type": "text"
      },
      "source": [
        "<a href=\"https://colab.research.google.com/github/apichon/its100_1_2021/blob/main/ITS100_HW2.ipynb\" target=\"_parent\"><img src=\"https://colab.research.google.com/assets/colab-badge.svg\" alt=\"Open In Colab\"/></a>"
      ]
    },
    {
      "cell_type": "code",
      "metadata": {
        "colab": {
          "base_uri": "https://localhost:8080/"
        },
        "id": "q8dpQp-PSn6P",
        "outputId": "14ecb11b-1aa7-4b94-cb90-8e58456f402b"
      },
      "source": [
        "#HW2 problem 1\n",
        "\n",
        "import math\n",
        "\n",
        "def isfloat(num):\n",
        "    try:\n",
        "        #float(num)\n",
        "        float(num.replace(',', ''))\n",
        "        return True\n",
        "    except ValueError:\n",
        "        return False\n",
        "\n",
        "def calculate_s(n):\n",
        "    s = 0\n",
        "    for i in range(1,n+1):\n",
        "      s = s + (math.sqrt(2)*i) -1\n",
        "    return s\n",
        "\n",
        "v = input(\"Input v:\")\n",
        "\n",
        "if (isfloat(v)):\n",
        "  v=float(v)\n",
        "  i=1\n",
        "  S=calculate_s(i)\n",
        "  while S<=v:\n",
        "    i+=1\n",
        "    S=calculate_s(i)\n",
        "  print(\"Output: n = %d, S = %.2f\" % (i,S))\n",
        "else:\n",
        "  print(\"Invalid input\")\n",
        "\n",
        "\n"
      ],
      "execution_count": null,
      "outputs": [
        {
          "output_type": "stream",
          "name": "stdout",
          "text": [
            "Input v:100.5\n",
            "Output: n = 13, S = 115.69\n"
          ]
        }
      ]
    },
    {
      "cell_type": "code",
      "metadata": {
        "id": "q_4EbbUXg1UV",
        "colab": {
          "base_uri": "https://localhost:8080/"
        },
        "outputId": "248f2599-c30e-4134-cf1f-d4c07e9c2696"
      },
      "source": [
        "#HW2 problem 2 ISBN-13 is the 13-digit version of the International Standard Book Number.\n",
        "\n",
        "def calculate_check_digit(isbn):\n",
        "  s = 0\n",
        "  for i in range(12):\n",
        "    #print(i)\n",
        "    if (i % 2 == 0):\n",
        "      cal = int(isbn[i]) *1\n",
        "    else:\n",
        "      cal = int(isbn[i]) *3\n",
        "    #print(\"cal\",cal)\n",
        "    s +=cal\n",
        "  t = 10 - (s % 10)\n",
        "  if (t ==10):\n",
        "    return 0\n",
        "  else:\n",
        "    return t\n",
        "\n",
        "\n",
        "input_user = input(\"Input 12-digit string:\")\n",
        "if ((len(input_user) == 12) and input_user.isnumeric()):\n",
        "  check_digit = calculate_check_digit(input_user)\n",
        "  print(\"Output: check digit =\",check_digit)\n",
        "else:\n",
        "  print(\"invalid input\")"
      ],
      "execution_count": null,
      "outputs": [
        {
          "output_type": "stream",
          "name": "stdout",
          "text": [
            "Input 12-digit string:978043913636\n",
            "Output: check digit = 5\n"
          ]
        }
      ]
    }
  ]
}