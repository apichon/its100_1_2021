{
  "nbformat": 4,
  "nbformat_minor": 0,
  "metadata": {
    "colab": {
      "name": "ITS100.ipynb",
      "provenance": [],
      "authorship_tag": "ABX9TyMOWn9APPL1bwCbicK0TgOC",
      "include_colab_link": true
    },
    "kernelspec": {
      "name": "python3",
      "display_name": "Python 3"
    },
    "language_info": {
      "name": "python"
    }
  },
  "cells": [
    {
      "cell_type": "markdown",
      "metadata": {
        "id": "view-in-github",
        "colab_type": "text"
      },
      "source": [
        "<a href=\"https://colab.research.google.com/github/apichon/its100_1_2021/blob/main/ITS100.ipynb\" target=\"_parent\"><img src=\"https://colab.research.google.com/assets/colab-badge.svg\" alt=\"Open In Colab\"/></a>"
      ]
    },
    {
      "cell_type": "markdown",
      "metadata": {
        "id": "j_RgBM906xbL"
      },
      "source": [
        "# Lecture 2: Variable"
      ]
    },
    {
      "cell_type": "code",
      "metadata": {
        "id": "cniqAQsHUnGY"
      },
      "source": [
        "x+y\n",
        "x-y\n",
        "x*y\n",
        "x/y\n",
        "x % 3\n",
        "121 % y"
      ],
      "execution_count": null,
      "outputs": []
    },
    {
      "cell_type": "code",
      "metadata": {
        "id": "CxpXNzOIfiy6"
      },
      "source": [
        "A = \"X\"\n",
        "A+"
      ],
      "execution_count": null,
      "outputs": []
    },
    {
      "cell_type": "code",
      "metadata": {
        "colab": {
          "base_uri": "https://localhost:8080/"
        },
        "id": "EHPnT9u1SxLm",
        "outputId": "07e85cf6-4a2f-436e-ce0a-24655c7cd00e"
      },
      "source": [
        "#Example 2.11. Let x = 3.6, y = 2, a = \"Baby\", b = \"Love\", t = True, f = False. \n",
        "\n",
        "x = 3.6; y = 2; a = \"Baby\"; b = \"Love\"; t = True; f = False\n",
        "\n",
        "print(\"1. x+y =\",x+y)\n",
        "print(\"2. x-y =\",x-y)\n",
        "print(\"3. x*y =\",x*y)\n",
        "print(\"4. x/y =\",x/y)\n",
        "print(\"5. x%3 =\",x%3)\n",
        "print(\"6. 121%y =\",121%y)\n",
        "print(\"7. 5**y =\",5**y)\n",
        "x+=5\n",
        "print(\"8. x+=5 =\",x)\n",
        "x = 3.6\n",
        "print(\"9. 25//y =\",25//y)\n",
        "y+=2.5\n",
        "print(\"10. y+=2.5 =\",y)\n",
        "y = 2\n",
        "x-=y\n",
        "print(\"11 x-=y =\",x)\n",
        "x = 3.6\n",
        "y*=2.5\n",
        "print(\"12. y*=2.5 =\",y)\n"
      ],
      "execution_count": null,
      "outputs": [
        {
          "output_type": "stream",
          "text": [
            "1. x+y = 5.6\n",
            "2. x-y = 1.6\n",
            "3. x*y = 7.2\n",
            "4. x/y = 1.8\n",
            "5. x%3 = 0.6000000000000001\n",
            "6. 121%y = 1\n",
            "7. 5**y = 25\n",
            "8. x+=5 = 8.6\n",
            "9. 25//y = 12\n",
            "10. y+=2.5 = 4.5\n",
            "11 x-=y = 1.6\n",
            "12. y*=2.5 = 5.0\n"
          ],
          "name": "stdout"
        }
      ]
    },
    {
      "cell_type": "code",
      "metadata": {
        "colab": {
          "base_uri": "https://localhost:8080/"
        },
        "id": "W0NExrGWWwzK",
        "outputId": "d54f3545-804c-4d44-b555-94515c68616a"
      },
      "source": [
        "#Example 2.11. Let x = 3.6, y = 2, a = \"Baby\", b = \"Love\", t = True, f = False. \n",
        "\n",
        "x = 3.6; y = 2; a = \"Baby\"; b = \"Love\"; t = True; f = False\n",
        "\n",
        "x/=y\n",
        "print(\"13. x/=y =\",x)\n",
        "print(\"14. a+b =\",a+b)\n",
        "#print(\"15. a-b =\",a-b) #TypeError: unsupported operand type(s) for -: 'str' and 'str'\n",
        "a+=b\n",
        "print(\"16. a+=b =\",a)  \n",
        "a = \"Baby\"\n",
        "#print(\"17. a-y =\",a-y)   #TypeError: unsupported operand type(s) for -: 'str' and 'int'\n",
        "print(\"18. a*y =\",a*y)\n",
        "#print(\"19. a**y =\",a**y)  #TypeError: unsupported operand type(s) for ** or pow(): 'str' and 'int'"
      ],
      "execution_count": null,
      "outputs": [
        {
          "output_type": "stream",
          "text": [
            "13. x/=y = 1.8\n",
            "14. a+b = BabyLove\n",
            "16. a+=b = BabyLove\n",
            "18. a*y = BabyBaby\n"
          ],
          "name": "stdout"
        }
      ]
    },
    {
      "cell_type": "code",
      "metadata": {
        "colab": {
          "base_uri": "https://localhost:8080/"
        },
        "id": "nWOYfleCSw44",
        "outputId": "bc60bf2d-f666-4efe-c531-d148c0affe29"
      },
      "source": [
        "#Example 2.11. Let x = 3.6, y = 2, a = \"Baby\", b = \"Love\", t = True, f = False. \n",
        "\n",
        "x = 3.6; y = 2; a = \"Baby\"; b = \"Love\"; t = True; f = False\n",
        "\n",
        "print(\"20. t+f =\",t+f)\n",
        "#print(\"21. t/f =\",t/f)  # divide by zero\n",
        "print(\"22. f+y =\",f+y)\n",
        "#print(\"23. t+a =\",t+a)  #TypeError: unsupported operand type(s) for +: 'bool' and 'str'\n",
        "print(\"24. a*f =\",a*f)\n",
        "print(\"25. b*t =\",b*t)"
      ],
      "execution_count": null,
      "outputs": [
        {
          "output_type": "stream",
          "text": [
            "20. t+f = 1\n",
            "22. f+y = 2\n",
            "24. a*f = \n",
            "25. b*t = Love\n"
          ],
          "name": "stdout"
        }
      ]
    },
    {
      "cell_type": "code",
      "metadata": {
        "colab": {
          "base_uri": "https://localhost:8080/"
        },
        "id": "Hg2BJFdo7LcW",
        "outputId": "eaa3e433-1e52-429a-b8a7-a43ed91be86b"
      },
      "source": [
        "# Example 2.15. (02ex1.py) What is the output of the following program?\n",
        "A = \"X\"\n",
        "A += \"A\"\n",
        "A += \"A\"\n",
        "print(\"result =\", 3*A)"
      ],
      "execution_count": null,
      "outputs": [
        {
          "output_type": "stream",
          "text": [
            "result = XAAXAAXAA\n"
          ],
          "name": "stdout"
        }
      ]
    },
    {
      "cell_type": "code",
      "metadata": {
        "colab": {
          "base_uri": "https://localhost:8080/"
        },
        "id": "aq6CVPon68l6",
        "outputId": "48f30d86-d02e-42ed-b2b5-ae8e7b266789"
      },
      "source": [
        "#Example 2.16. (02ex2.py) What is the output of the following program?\n",
        "x = 5\n",
        "print(\"result =\", str(x)*int(x))\n"
      ],
      "execution_count": null,
      "outputs": [
        {
          "output_type": "stream",
          "text": [
            "result = 55555\n"
          ],
          "name": "stdout"
        }
      ]
    },
    {
      "cell_type": "code",
      "metadata": {
        "colab": {
          "base_uri": "https://localhost:8080/"
        },
        "id": "WYuEdurHCvM1",
        "outputId": "cb388b3d-246e-4491-e458-221f53123380"
      },
      "source": [
        "#Placeholders\n",
        "x = 16; y = 26.42; z = 7.56\n",
        "print(\"x = %d, y = %.1f, z = %.1f\" % (x, y, z))\n"
      ],
      "execution_count": null,
      "outputs": [
        {
          "output_type": "stream",
          "text": [
            "x = 16, y = 26.4, z = 7.6\n"
          ],
          "name": "stdout"
        }
      ]
    },
    {
      "cell_type": "code",
      "metadata": {
        "colab": {
          "base_uri": "https://localhost:8080/"
        },
        "id": "KC8fyuS9DkNW",
        "outputId": "1f5c6bff-4459-4f04-c1bc-6298d40b33e4"
      },
      "source": [
        "#Example 2.17. (02placeholder.py)\n",
        "x = 10\n",
        "y = 20\n",
        "z = 3.1416\n",
        "print(\"We have %d horses\" % x)\n",
        "print(\"The value of x is %d, y is %f and z is %.2f\" % (x,y,z))\n",
        "print(\"The value of z with 1 decimal points is %.1f\" % z)\n",
        "print(\"The value of z with 2 decimal points is %.2f\" % z)\n",
        "print(\"The value of z with 3 decimal points is %.3f\" % z)\n",
        "\n",
        "\n",
        "print(\"We have %s horses\" % x)\n",
        "print(\"We have %s horses\" % z)"
      ],
      "execution_count": null,
      "outputs": [
        {
          "output_type": "stream",
          "text": [
            "We have 10 horses\n",
            "The value of x is 10, y is 20.000000 and z is 3.14\n",
            "The value of z with 1 decimal points is 3.1\n",
            "The value of z with 2 decimal points is 3.14\n",
            "The value of z with 3 decimal points is 3.142\n",
            "We have 10 horses\n",
            "We have 3.1416 horses\n"
          ],
          "name": "stdout"
        }
      ]
    },
    {
      "cell_type": "code",
      "metadata": {
        "colab": {
          "base_uri": "https://localhost:8080/"
        },
        "id": "X1qpsqRoDkKR",
        "outputId": "ae38590b-d586-4dfc-d85f-5ddbba662854"
      },
      "source": [
        "#input\n",
        "x = input(\"What’s you name?: \")\n",
        "print(\"Nice to meet you,\", x)"
      ],
      "execution_count": null,
      "outputs": [
        {
          "output_type": "stream",
          "text": [
            "What’s you name?: AJ\n",
            "Nice to meet you, AJ\n"
          ],
          "name": "stdout"
        }
      ]
    },
    {
      "cell_type": "code",
      "metadata": {
        "colab": {
          "base_uri": "https://localhost:8080/"
        },
        "id": "nUbWlvbEDkDK",
        "outputId": "2d30aae3-655f-4ac9-ad59-46cc090fee1c"
      },
      "source": [
        "#Example 2.19. (02input2.py) Input 2\n",
        "x = input(\"How many blue pens do you have?: \")\n",
        "y = input(\"How many red pens do you have?: \")\n",
        "print(\"So you have\", x+y, \"pens.\")"
      ],
      "execution_count": null,
      "outputs": [
        {
          "output_type": "stream",
          "text": [
            "How many blue pens do you have?: 2\n",
            "How many red pens do you have?: 4\n",
            "So you have 24 pens.\n"
          ],
          "name": "stdout"
        }
      ]
    },
    {
      "cell_type": "code",
      "metadata": {
        "colab": {
          "base_uri": "https://localhost:8080/"
        },
        "id": "QWpznjUcDkAy",
        "outputId": "33abf692-3023-4340-f425-b0c1d76aa682"
      },
      "source": [
        "#Example 2.20. (02input3.py) Input 3\n",
        "x = input(\"How many blue pens do you have?: \")\n",
        "x = int(x)\n",
        "y = input(\"How many red pens do you have?: \")\n",
        "y = int(y)\n",
        "print(\"So you have\", x+y, \"pens.\")\n"
      ],
      "execution_count": null,
      "outputs": [
        {
          "output_type": "stream",
          "text": [
            "How many blue pens do you have?: 2\n",
            "How many red pens do you have?: 4\n",
            "So you have 6 pens.\n"
          ],
          "name": "stdout"
        }
      ]
    },
    {
      "cell_type": "code",
      "metadata": {
        "colab": {
          "base_uri": "https://localhost:8080/"
        },
        "id": "osGEA2MaHs5Z",
        "outputId": "c4ba7da1-09f7-4e63-af75-da1d3aacbda3"
      },
      "source": [
        "#Example 2.21. (02split1.py)\n",
        "# a= input(\"Give me three names: \")\n",
        "# b= input(\"Give me three names: \")\n",
        "# c= input(\"Give me three names: \")\n",
        "\n",
        "a, b, c = input(\"Give me three names: \").split()\n",
        "print(a, b, c)"
      ],
      "execution_count": null,
      "outputs": [
        {
          "output_type": "stream",
          "text": [
            "Give me three names: 1 2 3\n",
            "1 2 3\n"
          ],
          "name": "stdout"
        }
      ]
    },
    {
      "cell_type": "code",
      "metadata": {
        "colab": {
          "base_uri": "https://localhost:8080/"
        },
        "id": "Pab4O9dmHs2V",
        "outputId": "3f98d921-d024-4601-d994-4a50ecaa47cf"
      },
      "source": [
        "#Example 2.22. (02split2.py)\n",
        "a, b, c = input(\"Give me 3 numbers: \").split()\n",
        "a, b, c = int(a), int(b), int(c)\n",
        "average = (a+b+c)/3\n",
        "print(\"Average of\", a, b, c, \"is \", average)\n"
      ],
      "execution_count": null,
      "outputs": [
        {
          "output_type": "stream",
          "text": [
            "Give me 3 numbers: 3 5 13\n",
            "Average of 3 5 13 is  7.0\n"
          ],
          "name": "stdout"
        }
      ]
    },
    {
      "cell_type": "code",
      "metadata": {
        "colab": {
          "base_uri": "https://localhost:8080/"
        },
        "id": "5vgBs9NvHszK",
        "outputId": "5956f55f-62ac-425a-e680-84fbc47f1a52"
      },
      "source": [
        "#Example 2.23. (02split3.py)\n",
        "a, b, c = input(\"Input: \").split(\"x\")\n",
        "print(\"a =\", a)\n",
        "print(\"b =\", b)\n",
        "print(\"c =\", c)\n"
      ],
      "execution_count": null,
      "outputs": [
        {
          "output_type": "stream",
          "text": [
            "Input: 5x10x15\n",
            "a = 5\n",
            "b = 10\n",
            "c = 15\n"
          ],
          "name": "stdout"
        }
      ]
    },
    {
      "cell_type": "code",
      "metadata": {
        "colab": {
          "base_uri": "https://localhost:8080/"
        },
        "id": "dD2NtfypHswI",
        "outputId": "517a0c64-6857-4108-a054-637cdff62d76"
      },
      "source": [
        "#Example 2.24. (02inputplaceholder.py)\n",
        "\n",
        "name = input(\"What is your name?: \")\n",
        "height = input(\"%s, How tall are you? (cm): \" % name)\n",
        "print(\"The height of\", name, \"is\", height, \"cm.\")\n"
      ],
      "execution_count": null,
      "outputs": [
        {
          "output_type": "stream",
          "text": [
            "What is your name?: May\n",
            "May, How tall are you? (cm): 178\n",
            "The height of May is 178 cm.\n"
          ],
          "name": "stdout"
        }
      ]
    },
    {
      "cell_type": "code",
      "metadata": {
        "colab": {
          "base_uri": "https://localhost:8080/"
        },
        "id": "P9v7PS8oKUsE",
        "outputId": "7518bd3f-2799-435a-a47a-5e38ef6d4ef6"
      },
      "source": [
        "#Example 2.25. (02rectangle.py) Write a program that accepts the width\n",
        "#(w) and the height (h) of a rectangle. It then calculates and displays the area\n",
        "#(a) of the rectangle from the formula below. a = w × h\n",
        "\n",
        "### INPUT\n",
        "width = input(\"Enter the width: \")\n",
        "height = input(\"Enter the height: \")\n",
        "print (type(width))\n",
        "### PROCESS\n",
        "width = float(width)\n",
        "height = float(height)\n",
        "area = width*height\n",
        "print (type(width))\n",
        "### OUTPUT\n",
        "print(\"The area of the rectangle = %.2f\" % area)\n"
      ],
      "execution_count": null,
      "outputs": [
        {
          "output_type": "stream",
          "text": [
            "Enter the width: 5\n",
            "Enter the height: 4\n",
            "<class 'str'>\n",
            "<class 'float'>\n",
            "The area of the rectangle = 20.00\n"
          ],
          "name": "stdout"
        }
      ]
    },
    {
      "cell_type": "code",
      "metadata": {
        "colab": {
          "base_uri": "https://localhost:8080/"
        },
        "id": "30T-vbB-KUod",
        "outputId": "43a89ba9-df65-41b1-e3d5-378b7e4a3ed4"
      },
      "source": [
        "#Example 2.26.Write a program that accepts a temperature in kelvin (k) from a user. \n",
        "#The program then converts the temperature to degree celsius and displays\n",
        "#the result with 2 digits after the decimal point. c = k − 273.15\n",
        "\n",
        "### INPUT\n",
        "kelvin = input(\"Enter the temperature in kelvin: \")\n",
        "### PROCESS\n",
        "kelvin = float(kelvin)\n",
        "celsius = kelvin - 273.15\n",
        "### OUTPUT\n",
        "print(\"The temperature in degree celsius = %.2f\" % celsius)\n",
        "\n",
        "print(\"The temperature %s kelvin is equal to %.2f °C\" % (kelvin,celsius))\n",
        "\n",
        "\n",
        "\n"
      ],
      "execution_count": null,
      "outputs": [
        {
          "output_type": "stream",
          "text": [
            "Enter the temperature in kelvin: 500\n",
            "The temperature in degree celsius = 226.85\n",
            "The temperature 500.0 kelvin is equal to 226.85 °C\n"
          ],
          "name": "stdout"
        }
      ]
    },
    {
      "cell_type": "code",
      "metadata": {
        "colab": {
          "base_uri": "https://localhost:8080/"
        },
        "id": "50S-YeXyO3zD",
        "outputId": "1996f866-f2c7-4091-b1ba-74dc23e90272"
      },
      "source": [
        "#Example 2.27. Write a program that accepts a temperature in degree celsius(c). \n",
        "#It then converts the temperature to degree fahrenheit (f) and displays the\n",
        "#result with 2 digits after the decimal point.f =9c/5 + 32\n",
        "\n",
        "### INPUT\n",
        "celsius = input(\"Enter the temperature in celsius: \")\n",
        "### PROCESS\n",
        "celsius = float(celsius)\n",
        "fahrenheit = ((9*celsius)/5) + 32\n",
        "\n",
        "### OUTPUT\n",
        "print(\"The temperature in degree fahrenheit = %.2f\" % fahrenheit)\n",
        "#print(\"The temperature in degree fahrenheit = %.2f\" % fahrenheit2)\n"
      ],
      "execution_count": null,
      "outputs": [
        {
          "output_type": "stream",
          "text": [
            "Enter the temperature in celsius: 500\n",
            "The temperature in degree fahrenheit = 932.00\n"
          ],
          "name": "stdout"
        }
      ]
    },
    {
      "cell_type": "code",
      "metadata": {
        "colab": {
          "base_uri": "https://localhost:8080/"
        },
        "id": "942pRIw_O3qR",
        "outputId": "b63c69f4-fcd3-42cc-c6b3-0b5d725fa386"
      },
      "source": [
        "#Example 2.28. The stone, pound, and ounce are English units of mass,\n",
        "#where 1 stone is equal to 14 pounds, and 1 pound is equal to 16 ounces. One kilogram is equal to 2.2 pounds. \n",
        "#Write a program that accepts a mass in stones, pounds, and ounces from a user.\n",
        "#It then calculates and displays the equivalent mass in kilograms\n",
        "\n",
        "### INPUT\n",
        "stones = input(\"Enter stones: \")\n",
        "pounds = input(\"Enter pounds: \")\n",
        "ounces = input(\"Enter ounces: \")\n",
        "### PROCESS\n",
        "stones = float(stones)\n",
        "pounds = float(pounds)\n",
        "ounces = float(ounces)\n",
        "\n",
        "kilograms = ( (stones*14) +  pounds   +  (ounces/16) ) / 2.2\n",
        "### OUTPUT\n",
        "print(\"The total weight is %.2f kilograms\" % kilograms)\n"
      ],
      "execution_count": null,
      "outputs": [
        {
          "output_type": "stream",
          "text": [
            "Enter stones: 5\n",
            "Enter pounds: 6\n",
            "Enter ounces: 7\n",
            "The total weight is 34.74 kilograms\n"
          ],
          "name": "stdout"
        }
      ]
    },
    {
      "cell_type": "code",
      "metadata": {
        "colab": {
          "base_uri": "https://localhost:8080/"
        },
        "id": "wPbz2vfjMb_Z",
        "outputId": "ec2de2eb-2ed6-4de3-9b92-848df4ec8158"
      },
      "source": [
        "x = 1 + 2 * 3 - 4 / 5 ** 6\n",
        "print(x)\n",
        "\n",
        "1 + 6 - 4 / 15625\n",
        "1 + 6 - 0.00256*-1\n",
        "\n",
        "\n"
      ],
      "execution_count": null,
      "outputs": [
        {
          "output_type": "stream",
          "text": [
            "6.999744\n"
          ],
          "name": "stdout"
        }
      ]
    },
    {
      "cell_type": "code",
      "metadata": {
        "colab": {
          "base_uri": "https://localhost:8080/"
        },
        "id": "dAWqu2B8OwvS",
        "outputId": "031e134e-9c41-405a-9966-1acf3322b004"
      },
      "source": [
        "x = 1 + ((2 ** 3) / 4) * 5\n",
        "print(x)"
      ],
      "execution_count": null,
      "outputs": [
        {
          "output_type": "stream",
          "text": [
            "11.0\n"
          ],
          "name": "stdout"
        }
      ]
    },
    {
      "cell_type": "code",
      "metadata": {
        "colab": {
          "base_uri": "https://localhost:8080/"
        },
        "id": "vmOL3b7IPwjs",
        "outputId": "8170d6aa-785b-4bc4-b74a-a5e087f3feb3"
      },
      "source": [
        "print(2 ** 3 ** 2)     # the right-most ** operator gets done first!\n",
        "print((2 ** 3) ** 2)"
      ],
      "execution_count": null,
      "outputs": [
        {
          "output_type": "stream",
          "text": [
            "512\n",
            "64\n"
          ],
          "name": "stdout"
        }
      ]
    },
    {
      "cell_type": "code",
      "metadata": {
        "colab": {
          "base_uri": "https://localhost:8080/"
        },
        "id": "cRyo3E11Qc5N",
        "outputId": "1c4b7e3b-9825-4bae-a8d5-e4a543c90586"
      },
      "source": [
        "#Python Integer Division is Weird!\n",
        "print(10/2)\n",
        "print(9/2)\n",
        "print(99/100)\n",
        "print(10.0/2.0)\n",
        "print(99.0/100.0)"
      ],
      "execution_count": null,
      "outputs": [
        {
          "output_type": "stream",
          "text": [
            "5.0\n",
            "4.5\n",
            "0.99\n",
            "5.0\n",
            "0.99\n"
          ],
          "name": "stdout"
        }
      ]
    },
    {
      "cell_type": "markdown",
      "metadata": {
        "id": "A1kX6E2-7xqi"
      },
      "source": [
        "# Lecture 3: Library"
      ]
    },
    {
      "cell_type": "code",
      "metadata": {
        "id": "_3uy0_6468-E",
        "colab": {
          "base_uri": "https://localhost:8080/"
        },
        "outputId": "2b931060-71cb-402a-b48a-dbec48c875a8"
      },
      "source": [
        "#Example 3.1. Importing a library\n",
        "import math\n",
        "print(math.cos(math.pi))"
      ],
      "execution_count": null,
      "outputs": [
        {
          "output_type": "stream",
          "name": "stdout",
          "text": [
            "-1.0\n"
          ]
        }
      ]
    },
    {
      "cell_type": "code",
      "metadata": {
        "id": "t9OCSjcQ69Ca",
        "colab": {
          "base_uri": "https://localhost:8080/"
        },
        "outputId": "32c53fde-8b4b-420e-db42-1b08e06fcaf1"
      },
      "source": [
        "#Example 3.2. Importing a library and renaming it\n",
        "import math as m\n",
        "print(m.cos(m.pi))"
      ],
      "execution_count": null,
      "outputs": [
        {
          "output_type": "stream",
          "name": "stdout",
          "text": [
            "-1.0\n"
          ]
        }
      ]
    },
    {
      "cell_type": "code",
      "metadata": {
        "id": "S-QpI-Uw69Gv",
        "colab": {
          "base_uri": "https://localhost:8080/"
        },
        "outputId": "9853d469-6ae9-48bf-9391-df7408963656"
      },
      "source": [
        "#Example 3.3. Importing all math functions and constants\n",
        "from math import *\n",
        "print(cos(pi))"
      ],
      "execution_count": null,
      "outputs": [
        {
          "output_type": "stream",
          "name": "stdout",
          "text": [
            "-1.0\n"
          ]
        }
      ]
    },
    {
      "cell_type": "code",
      "metadata": {
        "id": "n-uslaUw69JW",
        "colab": {
          "base_uri": "https://localhost:8080/"
        },
        "outputId": "8a7dd52e-ad13-45dc-e518-d43be8841636"
      },
      "source": [
        "#Example 3.4. (03cmath.py) Name confusion\n",
        "\n",
        "from math import *\n",
        "from cmath import *\n",
        "\n",
        "print(\"cosine of pi =\", cos(pi))"
      ],
      "execution_count": null,
      "outputs": [
        {
          "output_type": "stream",
          "name": "stdout",
          "text": [
            "cosine of pi = (-1-0j)\n"
          ]
        }
      ]
    },
    {
      "cell_type": "code",
      "metadata": {
        "id": "WW2thhk869MM",
        "colab": {
          "base_uri": "https://localhost:8080/"
        },
        "outputId": "0d93a9fa-6a80-46b7-fc36-d8de5d3bf90d"
      },
      "source": [
        "print(math.cos(math.radians(30)) )\n",
        "print(math.cos(30))\n",
        "print(math.cos(math.pi))\n",
        "\n",
        "\n",
        "print(math.radians(30))\n",
        "\n",
        "print(math.degrees(30))"
      ],
      "execution_count": null,
      "outputs": [
        {
          "output_type": "stream",
          "name": "stdout",
          "text": [
            "0.8660254037844387\n",
            "0.15425144988758405\n",
            "-1.0\n",
            "0.5235987755982988\n",
            "1718.8733853924696\n"
          ]
        }
      ]
    },
    {
      "cell_type": "code",
      "metadata": {
        "colab": {
          "base_uri": "https://localhost:8080/"
        },
        "id": "XV3yrKGmmR7F",
        "outputId": "0b079159-0e96-4fe6-c282-9d44f12b80b4"
      },
      "source": [
        "#Example 3.5. (03math1.py)\n",
        "import math\n",
        "\n",
        "a = math.sin(math.radians(30))\n",
        "print(\"%.2f\" % a)\n",
        "\n",
        "\n",
        "\n",
        "math.cos"
      ],
      "execution_count": null,
      "outputs": [
        {
          "output_type": "stream",
          "name": "stdout",
          "text": [
            "0.50\n"
          ]
        }
      ]
    },
    {
      "cell_type": "code",
      "metadata": {
        "colab": {
          "base_uri": "https://localhost:8080/"
        },
        "id": "ON4SgzhGmR4P",
        "outputId": "fad6b6d8-7821-4ae9-a5fe-85cb6fa048d7"
      },
      "source": [
        "#Example 3.6. (03math2.py)\n",
        "import math\n",
        "\n",
        "a = math.sin(math.pi) + math.cos(math.pi)\n",
        "print(\"%.2f\" % a)"
      ],
      "execution_count": null,
      "outputs": [
        {
          "output_type": "stream",
          "name": "stdout",
          "text": [
            "-1.00\n"
          ]
        }
      ]
    },
    {
      "cell_type": "code",
      "metadata": {
        "colab": {
          "base_uri": "https://localhost:8080/"
        },
        "id": "BaQrPtjJmR1c",
        "outputId": "51e890d8-58db-4cf9-be78-dee5105c08bf"
      },
      "source": [
        "#Example 3.7. (03math3.py)\n",
        "from math import *\n",
        "\n",
        "a = 1\n",
        "b = 3\n",
        "c = 4\n",
        "d = 25\n",
        "\n",
        "print(log10(a)+exp(0))\n",
        "print(cos(pi) + pow(sqrt(d),b))\n",
        "print((sqrt(d)-sqrt(c))/(sin(pi/(sqrt(c)*b))+cos(pi/b)))"
      ],
      "execution_count": null,
      "outputs": [
        {
          "output_type": "stream",
          "name": "stdout",
          "text": [
            "1.0\n",
            "124.0\n",
            "3.0\n"
          ]
        }
      ]
    },
    {
      "cell_type": "code",
      "metadata": {
        "colab": {
          "base_uri": "https://localhost:8080/"
        },
        "id": "AzG7I8JvmRyv",
        "outputId": "65aa967c-d56d-4da8-a739-196e1d8245d0"
      },
      "source": [
        "#Example 3.8. Given lengths of two sides of a triangle (a, b) and an angle\n",
        "#between those sides (c), we can calculate the area of the triangle (A) by:\n",
        "\n",
        "#A = ab sin(c)/2\n",
        "\n",
        "### LIBRARIES\n",
        "import math\n",
        "\n",
        "### INPUT\n",
        "a, b = input(\"Enter lengths of two side: \").split()\n",
        "c = input(\"Enter an angle between them (in degrees):\")\n",
        "\n",
        "### PROCESS\n",
        "a,b = float(a),float(b)\n",
        "c = float(c)\n",
        "area = (a*b* math.sin(math.radians(c)))/2\n",
        "\n",
        "### OUTPUT\n",
        "print(\"The area of the triangle is %.2f\" % area)\n",
        "\n"
      ],
      "execution_count": null,
      "outputs": [
        {
          "output_type": "stream",
          "name": "stdout",
          "text": [
            "Enter lengths of two side: 3 4\n",
            "Enter an angle between them (in degrees):90\n",
            "The area of the triangle is 6.00\n"
          ]
        }
      ]
    },
    {
      "cell_type": "code",
      "metadata": {
        "colab": {
          "base_uri": "https://localhost:8080/"
        },
        "id": "xwiOgKAdo7bN",
        "outputId": "68a03e68-d1e3-4ad4-d970-3b3cc73307ba"
      },
      "source": [
        "#Example 3.9. The surface area of a cone with the height of h and the radius\n",
        "#of r can be calculated by:\n",
        "\n",
        "### LIBRARIES\n",
        "import math\n",
        "\n",
        "### INPUT\n",
        "height, radius = input(\"Enter height and radius of a cone:\").split()\n",
        "\n",
        "### PROCESS\n",
        "height, radius = float(height),float(radius)\n",
        "area_cone = (math.pi*radius * math.sqrt(math.pow(height,2)+math.pow(radius,2))) + (math.pi*math.pow(radius,2))\n",
        "\n",
        "### OUTPUT\n",
        "print(\"The area of the cone is %.2f\" % area_cone)\n"
      ],
      "execution_count": null,
      "outputs": [
        {
          "output_type": "stream",
          "name": "stdout",
          "text": [
            "Enter height and radius of a cone:3 4\n",
            "The area of the cone is 113.10\n"
          ]
        }
      ]
    },
    {
      "cell_type": "code",
      "metadata": {
        "colab": {
          "base_uri": "https://localhost:8080/"
        },
        "id": "tn54f0hzo7YN",
        "outputId": "009a3e8d-136f-43f8-ec71-06deaa809098"
      },
      "source": [
        "#Example 3.11. Write a program that generates a 6-digit random One-Time Password (OTP)\n",
        "\n",
        "### LIBRARIES\n",
        "import random\n",
        "\n",
        "### INPUT\n",
        "\n",
        "\n",
        "### PROCESS\n",
        "\n",
        "otp = random.randint(0,999999)\n",
        "\n",
        "### OUTPUT\n",
        "print(\"The OTP is %6d\" % otp)\n",
        "\n"
      ],
      "execution_count": null,
      "outputs": [
        {
          "output_type": "stream",
          "name": "stdout",
          "text": [
            "The OTP is 403792\n"
          ]
        }
      ]
    },
    {
      "cell_type": "code",
      "metadata": {
        "colab": {
          "base_uri": "https://localhost:8080/"
        },
        "id": "COadJcVgNxRY",
        "outputId": "1f7259b7-91b9-4c49-a34a-7d0017f4eff8"
      },
      "source": [
        "#Example 3.12. Write a program that accepts a positive integer (n) from a user. It then generates an n-digit random OTP.\n",
        "\n",
        "### LIBRARIES\n",
        "import random\n",
        "\n",
        "### INPUT\n",
        "n_digits = input(\"Enter number of digits for OTP:\")\n",
        "\n",
        "### PROCESS\n",
        "n_digits = int(n_digits)\n",
        "min_value = 10**(n_digits-1)\n",
        "max_value = (10**n_digits)-1\n",
        "\n",
        "otp = random.randint(min_value,max_value)\n",
        "\n",
        "### OUTPUT\n",
        "print(\"The min value is\", min_value)\n",
        "print(\"The max value is\", max_value)\n",
        "print(\"The otp is\", otp)\n",
        "\n",
        "\n",
        "\n"
      ],
      "execution_count": null,
      "outputs": [
        {
          "output_type": "stream",
          "name": "stdout",
          "text": [
            "Enter number of digits for OTP:10\n",
            "The min value is 1000000000\n",
            "The max value is 9999999999\n",
            "The otp is 5452381891\n"
          ]
        }
      ]
    },
    {
      "cell_type": "code",
      "metadata": {
        "colab": {
          "base_uri": "https://localhost:8080/"
        },
        "id": "Eh5u8RfFNxfc",
        "outputId": "31ae9c8c-b14e-42dc-e137-2ea27fc15113"
      },
      "source": [
        "txt = \"welcome to the jungle\"\n",
        "\n",
        "x = \"welcome to ITS100\".split()\n",
        "\n",
        "print(x)\n",
        "\n",
        "print (\" a b c \".strip())\n"
      ],
      "execution_count": null,
      "outputs": [
        {
          "output_type": "stream",
          "name": "stdout",
          "text": [
            "['welcome', 'to', 'ITS100']\n",
            "a b c\n"
          ]
        }
      ]
    },
    {
      "cell_type": "code",
      "metadata": {
        "colab": {
          "base_uri": "https://localhost:8080/"
        },
        "id": "wb_H6QPFNxky",
        "outputId": "7c8f17cf-627d-442f-cd3e-0f65802d4971"
      },
      "source": [
        "#Example 3.13. (03str1.py)\n",
        "a = \"Apichon\"\n",
        "print(a.capitalize())\n",
        "print(a.upper())\n",
        "print(a.isalpha())\n",
        "print(a.isnumeric())\n",
        "\n"
      ],
      "execution_count": null,
      "outputs": [
        {
          "output_type": "stream",
          "name": "stdout",
          "text": [
            "Apichon\n",
            "APICHON\n",
            "True\n",
            "False\n"
          ]
        }
      ]
    },
    {
      "cell_type": "code",
      "metadata": {
        "colab": {
          "base_uri": "https://localhost:8080/"
        },
        "id": "XwgDEAJmNxnQ",
        "outputId": "1a8a9a6b-057c-4933-85f6-980d3cd2c72f"
      },
      "source": [
        "#Example 3.14. (03str2.py)\n",
        "b = \"8675309\"\n",
        "print(b.capitalize())\n",
        "print(b.upper())\n",
        "print(b.isalpha())\n",
        "print(b.isnumeric())\n",
        "\n"
      ],
      "execution_count": null,
      "outputs": [
        {
          "output_type": "stream",
          "name": "stdout",
          "text": [
            "8675309\n",
            "8675309\n",
            "False\n",
            "True\n"
          ]
        }
      ]
    },
    {
      "cell_type": "code",
      "metadata": {
        "colab": {
          "base_uri": "https://localhost:8080/"
        },
        "id": "GIxgBmxKNxtN",
        "outputId": "b48d54e1-64bb-4dbc-c46e-2bdf14c4b4a4"
      },
      "source": [
        "#Example 3.15. (03str3.py) \n",
        "\n",
        "c = \"tel8675309\"\n",
        "print(c.capitalize())\n",
        "print(c.upper())\n",
        "print(c.isalpha())\n",
        "print(c.isnumeric())\n",
        "\n",
        "\n"
      ],
      "execution_count": null,
      "outputs": [
        {
          "output_type": "stream",
          "name": "stdout",
          "text": [
            "Tel8675309\n",
            "TEL8675309\n",
            "False\n",
            "False\n"
          ]
        }
      ]
    },
    {
      "cell_type": "code",
      "metadata": {
        "colab": {
          "base_uri": "https://localhost:8080/",
          "height": 244
        },
        "id": "-l0NWHgxNxwD",
        "outputId": "e07d1f2e-d1e5-4b74-8939-2b772666314a"
      },
      "source": [
        "#Example 3.16. (03str4.py)\n",
        "d = 8675309\n",
        "print(d.capitalize())\n",
        "print(d.isnumeric())\n",
        "\n"
      ],
      "execution_count": null,
      "outputs": [
        {
          "output_type": "error",
          "ename": "AttributeError",
          "evalue": "ignored",
          "traceback": [
            "\u001b[0;31m---------------------------------------------------------------------------\u001b[0m",
            "\u001b[0;31mAttributeError\u001b[0m                            Traceback (most recent call last)",
            "\u001b[0;32m<ipython-input-39-b6df72a8be6c>\u001b[0m in \u001b[0;36m<module>\u001b[0;34m()\u001b[0m\n\u001b[1;32m      1\u001b[0m \u001b[0;31m#Example 3.16. (03str4.py)\u001b[0m\u001b[0;34m\u001b[0m\u001b[0;34m\u001b[0m\u001b[0;34m\u001b[0m\u001b[0m\n\u001b[1;32m      2\u001b[0m \u001b[0md\u001b[0m \u001b[0;34m=\u001b[0m \u001b[0;36m8675309\u001b[0m\u001b[0;34m\u001b[0m\u001b[0;34m\u001b[0m\u001b[0m\n\u001b[0;32m----> 3\u001b[0;31m \u001b[0mprint\u001b[0m\u001b[0;34m(\u001b[0m\u001b[0md\u001b[0m\u001b[0;34m.\u001b[0m\u001b[0mcapitalize\u001b[0m\u001b[0;34m(\u001b[0m\u001b[0;34m)\u001b[0m\u001b[0;34m)\u001b[0m\u001b[0;34m\u001b[0m\u001b[0;34m\u001b[0m\u001b[0m\n\u001b[0m\u001b[1;32m      4\u001b[0m \u001b[0mprint\u001b[0m\u001b[0;34m(\u001b[0m\u001b[0md\u001b[0m\u001b[0;34m.\u001b[0m\u001b[0misnumeric\u001b[0m\u001b[0;34m(\u001b[0m\u001b[0;34m)\u001b[0m\u001b[0;34m)\u001b[0m\u001b[0;34m\u001b[0m\u001b[0;34m\u001b[0m\u001b[0m\n\u001b[1;32m      5\u001b[0m \u001b[0;34m\u001b[0m\u001b[0m\n",
            "\u001b[0;31mAttributeError\u001b[0m: 'int' object has no attribute 'capitalize'"
          ]
        }
      ]
    },
    {
      "cell_type": "code",
      "metadata": {
        "id": "GNCPXA12Nxyt",
        "colab": {
          "base_uri": "https://localhost:8080/"
        },
        "outputId": "9d270636-363c-48b5-80ce-54064fcba127"
      },
      "source": [
        "#Example 3.17. (03numpy.py)\n",
        "\n",
        "import numpy as np\n",
        "np.set_printoptions(precision=2, floatmode=\"fixed\")\n",
        "\n",
        "v = np.arange(0, 1, 0.2)\n",
        "print(v)\n",
        "print(v+2)\n",
        "print(v)\n",
        "print(np.power(v, 2))\n",
        "print(np.exp(v))\n",
        "\n"
      ],
      "execution_count": null,
      "outputs": [
        {
          "output_type": "stream",
          "name": "stdout",
          "text": [
            "[0.00 0.20 0.40 0.60 0.80]\n",
            "[2.00 2.20 2.40 2.60 2.80]\n",
            "[0.00 0.20 0.40 0.60 0.80]\n",
            "[0.00 0.04 0.16 0.36 0.64]\n",
            "[1.00 1.22 1.49 1.82 2.23]\n"
          ]
        }
      ]
    },
    {
      "cell_type": "code",
      "metadata": {
        "id": "CAQmoBU9Nx1J",
        "colab": {
          "base_uri": "https://localhost:8080/",
          "height": 265
        },
        "outputId": "b0e38414-c514-4bc7-f4c2-6a8cb6d8ff6b"
      },
      "source": [
        "#Example 3.18. (03plt1.py)\n",
        "\n",
        "import numpy as np\n",
        "import matplotlib.pyplot as plt\n",
        "\n",
        "x = np.arange(-10, 10, 0.1)\n",
        "y = x**2 + 2*x + 1\n",
        "\n",
        "plt.plot(x, y, color=\"blue\", linewidth=2, linestyle=\"dotted\")\n",
        "plt.show()\n"
      ],
      "execution_count": null,
      "outputs": [
        {
          "output_type": "display_data",
          "data": {
            "image/png": "[encoded data removed]",
            "text/plain": [
              "<Figure size 432x288 with 1 Axes>"
            ]
          },
          "metadata": {
            "needs_background": "light"
          }
        }
      ]
    },
    {
      "cell_type": "code",
      "metadata": {
        "id": "ow7ITd4NNx5T",
        "colab": {
          "base_uri": "https://localhost:8080/",
          "height": 265
        },
        "outputId": "9710ec6f-322f-4f4a-e888-e404db2d6631"
      },
      "source": [
        "#Example 3.18. (03plt1.py)\n",
        "\n",
        "import numpy as np\n",
        "import matplotlib.pyplot as plt\n",
        "\n",
        "x = np.arange(-10, 10, 0.1)\n",
        "y = x**2 + 2*x + 1\n",
        "\n",
        "plt.plot(x, y, color=\"red\", linewidth=4, linestyle=\"solid\")\n",
        "plt.show()\n"
      ],
      "execution_count": null,
      "outputs": [
        {
          "output_type": "display_data",
          "data": {
            "image/png": "[encoded data removed]",
            "text/plain": [
              "<Figure size 432x288 with 1 Axes>"
            ]
          },
          "metadata": {
            "needs_background": "light"
          }
        }
      ]
    },
    {
      "cell_type": "code",
      "metadata": {
        "colab": {
          "base_uri": "https://localhost:8080/",
          "height": 269
        },
        "id": "m8X2zwBxqpTl",
        "outputId": "9123ee5e-ae36-4f94-df16-ad714cd6eaaa"
      },
      "source": [
        "#Example 3.19. (03plt2.py)\n",
        "\n",
        "import numpy as np\n",
        "import matplotlib.pyplot as plt\n",
        "\n",
        "x = np.arange(-10, 10, 0.1)\n",
        "y = x**2 + 2*x + 1\n",
        "\n",
        "plt.plot(x, y, color=\"blue\", linewidth=2)\n",
        "plt.xlim(0, 5)\n",
        "plt.ylim(0, 40)\n",
        "plt.show()\n",
        "\n"
      ],
      "execution_count": null,
      "outputs": [
        {
          "output_type": "display_data",
          "data": {
            "image/png": "[encoded data removed]",
            "text/plain": [
              "<Figure size 432x288 with 1 Axes>"
            ]
          },
          "metadata": {
            "needs_background": "light"
          }
        }
      ]
    },
    {
      "cell_type": "code",
      "metadata": {
        "colab": {
          "base_uri": "https://localhost:8080/",
          "height": 265
        },
        "id": "NTfg_ISdqpYG",
        "outputId": "99ffd965-c328-4fb9-b91a-3059e64e2f2d"
      },
      "source": [
        "#Example 3.20. (03plt3.py)\n",
        "\n",
        "import numpy as np\n",
        "import matplotlib.pyplot as plt\n",
        "import math as m\n",
        "\n",
        "x = np.arange(-m.pi*2, m.pi*2, 0.1)\n",
        "y1 = np.cos(x)\n",
        "y2 = np.sin(x)\n",
        "\n",
        "plt.plot(x, y1, color=\"blue\", linewidth=2, linestyle=\"dashed\")\n",
        "plt.plot(x, y2, color=\"orange\", linewidth=2)\n",
        "plt.show()\n"
      ],
      "execution_count": null,
      "outputs": [
        {
          "output_type": "display_data",
          "data": {
            "image/png": "[encoded data removed]",
            "text/plain": [
              "<Figure size 432x288 with 1 Axes>"
            ]
          },
          "metadata": {
            "needs_background": "light"
          }
        }
      ]
    },
    {
      "cell_type": "code",
      "metadata": {
        "colab": {
          "base_uri": "https://localhost:8080/",
          "height": 265
        },
        "id": "G6yq_tPMqpbV",
        "outputId": "53ffa71b-e3f4-41db-a25c-6b5f20229a4c"
      },
      "source": [
        "#Example 3.21. (03plt4.py)\n",
        "\n",
        "import numpy as np\n",
        "import matplotlib.pyplot as plt\n",
        "import math as m\n",
        "\n",
        "x = np.arange(-m.pi*2, m.pi*2, 0.1)\n",
        "y1 = np.cos(x)\n",
        "y2 = np.sin(x)\n",
        "\n",
        "plt.plot(x, y1, color=\"blue\", linewidth=2, linestyle=\"dashed\")\n",
        "plt.plot(x, y2, color=\"orange\", linewidth=2)\n",
        "plt.xlim(-20, 20)\n",
        "plt.show()\n"
      ],
      "execution_count": null,
      "outputs": [
        {
          "output_type": "display_data",
          "data": {
            "image/png": "[encoded data removed]",
            "text/plain": [
              "<Figure size 432x288 with 1 Axes>"
            ]
          },
          "metadata": {
            "needs_background": "light"
          }
        }
      ]
    },
    {
      "cell_type": "code",
      "metadata": {
        "colab": {
          "base_uri": "https://localhost:8080/",
          "height": 265
        },
        "id": "2_2u3Jikqper",
        "outputId": "59a6ebfd-e944-4063-d2df-ba2ca1fe52fb"
      },
      "source": [
        "#Example 3.22. Write a Python program that plots the following function:\n",
        "#f(x) =(x2(x + 1))1/3\n",
        "### LIBRARIES\n",
        "import numpy as np\n",
        "import matplotlib.pyplot as plt\n",
        "\n",
        "### PROCESS\n",
        "x = np.arange(-1, 1, 0.01)\n",
        "y = ((x**2)*(x + 1))**(1/3)\n",
        "\n",
        "### OUTPUT\n",
        "plt.plot(x, y, color=\"blue\", linewidth=2)\n",
        "plt.show()\n",
        "\n"
      ],
      "execution_count": null,
      "outputs": [
        {
          "output_type": "display_data",
          "data": {
            "image/png": "[encoded data removed]",
            "text/plain": [
              "<Figure size 432x288 with 1 Axes>"
            ]
          },
          "metadata": {
            "needs_background": "light"
          }
        }
      ]
    },
    {
      "cell_type": "code",
      "metadata": {
        "colab": {
          "base_uri": "https://localhost:8080/",
          "height": 265
        },
        "id": "Nf0ZTPJLqpg-",
        "outputId": "5b63cefa-5828-414d-ce6a-ee5c1c2a7934"
      },
      "source": [
        "#Example 3.23.Write a Python program that plots the following function, and set the range of x-axis to [−5, +5]\n",
        "\n",
        "### LIBRARIES\n",
        "import numpy as np\n",
        "import matplotlib.pyplot as plt\n",
        "\n",
        "### PROCESS\n",
        "x1 = np.arange(-5, 1, 0.1)\n",
        "x2 = np.arange(1, 5, 0.1)\n",
        "y1 = 7-(4*x1)\n",
        "y2 = (x2**2) +2 \n",
        "\n",
        "### OUTPUT\n",
        "plt.plot(x1, y1, color=\"blue\", linewidth=2, linestyle=\"dashed\")\n",
        "plt.plot(x2, y2, color=\"orange\", linewidth=2)\n",
        "plt.xlim(-5, 5)\n",
        "plt.show()\n",
        "\n"
      ],
      "execution_count": null,
      "outputs": [
        {
          "output_type": "display_data",
          "data": {
            "image/png": "[encoded data removed]",
            "text/plain": [
              "<Figure size 432x288 with 1 Axes>"
            ]
          },
          "metadata": {
            "needs_background": "light"
          }
        }
      ]
    },
    {
      "cell_type": "code",
      "metadata": {
        "colab": {
          "base_uri": "https://localhost:8080/",
          "height": 295
        },
        "id": "zCzJRyG6qpkQ",
        "outputId": "bc9a0a0a-1020-476c-b759-6e12354860ac"
      },
      "source": [
        "import numpy as np\n",
        "import matplotlib.pyplot as plt\n",
        "import math as m\n",
        "\n",
        "x = np.arange(-m.pi*4, m.pi*4, 0.1)\n",
        "y1 = np.cos(x)\n",
        "y2 = np.sin(x)\n",
        "\n",
        "\n",
        "plt.plot(x, y1, color=\"blue\", linewidth=2, linestyle=\"dashed\")\n",
        "plt.xlim(-20, 20)\n",
        "\n",
        "plt.xlabel('x - axis')                   # naming the x axis\n",
        "plt.ylabel('y - axis')                   # naming the y axis\n",
        "plt.title('My title')   # giving a title to my graph\n",
        "#plt.show()\n",
        "plt.savefig(\"main.png\")\n"
      ],
      "execution_count": null,
      "outputs": [
        {
          "output_type": "display_data",
          "data": {
            "image/png": "[encoded data removed]",
            "text/plain": [
              "<Figure size 432x288 with 1 Axes>"
            ]
          },
          "metadata": {
            "needs_background": "light"
          }
        }
      ]
    },
    {
      "cell_type": "code",
      "metadata": {
        "colab": {
          "base_uri": "https://localhost:8080/"
        },
        "id": "iar9pFJTqpsV",
        "outputId": "a248856f-faab-4c43-daac-7958c2565f7d"
      },
      "source": [
        "#Example \n",
        "\n",
        "import numpy as np\n",
        "import matplotlib.pyplot as plt\n",
        "import math as m\n",
        "\n",
        "x= np.array([[0,1,2,3],[10,11,12,13]])\n",
        "print(x)\n",
        "\n",
        "print (x[0,0])\n",
        "print (x[0,1])\n",
        "print (x[0,-1])\n",
        "\n",
        "print (x[0,:])\n",
        "\n",
        "print (x[:,0])"
      ],
      "execution_count": null,
      "outputs": [
        {
          "output_type": "stream",
          "name": "stdout",
          "text": [
            "[[ 0  1  2  3]\n",
            " [10 11 12 13]]\n",
            "0\n",
            "1\n",
            "3\n",
            "[0 1 2 3]\n",
            "[ 0 10]\n"
          ]
        }
      ]
    },
    {
      "cell_type": "code",
      "metadata": {
        "id": "DN6MXSUjdgl4"
      },
      "source": [
        "\"test\".capitalize"
      ],
      "execution_count": null,
      "outputs": []
    },
    {
      "cell_type": "markdown",
      "metadata": {
        "id": "xkoVQ0x66fqI"
      },
      "source": [
        "# Lecture 4: Conditional Structure\n"
      ]
    },
    {
      "cell_type": "code",
      "metadata": {
        "colab": {
          "base_uri": "https://localhost:8080/"
        },
        "id": "ynUqzdox659i",
        "outputId": "230f84fd-3f39-46c5-dc43-e3db7723b1f0"
      },
      "source": [
        "#Example 4.1. (04comparison.py)\n",
        "print(1 == 1)\n",
        "print(1 != 2)\n",
        "print(1 > 2)\n",
        "print(1.0 <= 2)\n",
        "print(\"SIIT\" < \"TU\")\n",
        "print(True == True)\n",
        "\n",
        "print(\"18/10/2021\" > \"17/11/2021\")\n",
        "print(\"2021-10-18\" > \"2021-11-17\")"
      ],
      "execution_count": null,
      "outputs": [
        {
          "output_type": "stream",
          "name": "stdout",
          "text": [
            "True\n",
            "True\n",
            "False\n",
            "True\n",
            "True\n",
            "True\n",
            "True\n",
            "False\n"
          ]
        }
      ]
    },
    {
      "cell_type": "code",
      "metadata": {
        "colab": {
          "base_uri": "https://localhost:8080/"
        },
        "id": "FU8LfB946839",
        "outputId": "6e3e8652-39da-4e32-e287-88d074bddf7d"
      },
      "source": [
        "#Example 4.2. (04logical.py)\n",
        "\n",
        "found = False\n",
        "print(not found)\n",
        "score = 50\n",
        "print((score >= 0) and (score <= 100))\n",
        "print(0 <= score <= 100)\n",
        "print((score != 50) or (score != 40))"
      ],
      "execution_count": null,
      "outputs": [
        {
          "output_type": "stream",
          "name": "stdout",
          "text": [
            "True\n",
            "True\n",
            "True\n",
            "True\n"
          ]
        }
      ]
    },
    {
      "cell_type": "code",
      "metadata": {
        "colab": {
          "base_uri": "https://localhost:8080/"
        },
        "id": "VQQ7jcZsG0_t",
        "outputId": "c3f984d3-c06a-42d8-b1e6-01e7d8b3e8dc"
      },
      "source": [
        "#Example 4.3. (04if1.py)\n",
        "\n",
        "x = 5\n",
        "if x > 3:\n",
        "  print(\"Hello\")\n",
        "  print(\"Kitty\"*x)\n",
        "print(\"Hello\"*x)\n"
      ],
      "execution_count": null,
      "outputs": [
        {
          "output_type": "stream",
          "name": "stdout",
          "text": [
            "Hello\n",
            "KittyKittyKittyKittyKitty\n",
            "HelloHelloHelloHelloHello\n"
          ]
        }
      ]
    },
    {
      "cell_type": "code",
      "metadata": {
        "colab": {
          "base_uri": "https://localhost:8080/"
        },
        "id": "6x28H3wm681Z",
        "outputId": "1befbe95-8499-4629-85ed-1e6e98f8041d"
      },
      "source": [
        "#Example 4.4. (04if2.py)\n",
        "x = 2\n",
        "if x > 3:\n",
        "  print(\"Hello\")\n",
        "  print(\"Kitty\"*x)\n",
        "print(\"Hello\"*x)\n"
      ],
      "execution_count": null,
      "outputs": [
        {
          "output_type": "stream",
          "name": "stdout",
          "text": [
            "HelloHello\n"
          ]
        }
      ]
    },
    {
      "cell_type": "code",
      "metadata": {
        "colab": {
          "base_uri": "https://localhost:8080/",
          "height": 135
        },
        "id": "i5t2VLB668y0",
        "outputId": "0079ffa5-0fa6-4c34-cfbe-28c25e25d938"
      },
      "source": [
        "#Example 4.5. (04if3.py)\n",
        "\n",
        "x = 2\n",
        "if x > 3:\n",
        "  print(\"Hello\")\n",
        "    print(\"Kitty\"*x)\n",
        "print(\"Hello\"*x)"
      ],
      "execution_count": null,
      "outputs": [
        {
          "output_type": "error",
          "ename": "IndentationError",
          "evalue": "ignored",
          "traceback": [
            "\u001b[0;36m  File \u001b[0;32m\"<ipython-input-9-341b3795b0d0>\"\u001b[0;36m, line \u001b[0;32m6\u001b[0m\n\u001b[0;31m    print(\"Kitty\"*x)\u001b[0m\n\u001b[0m    ^\u001b[0m\n\u001b[0;31mIndentationError\u001b[0m\u001b[0;31m:\u001b[0m unexpected indent\n"
          ]
        }
      ]
    },
    {
      "cell_type": "code",
      "metadata": {
        "colab": {
          "base_uri": "https://localhost:8080/",
          "height": 135
        },
        "id": "n5FrMClv68vw",
        "outputId": "f9aa18e4-10fa-4ae7-81f7-5c6c8e5d3aba"
      },
      "source": [
        "#Example 4.6. (04if4.py)\n",
        "x = 2\n",
        "if x > 3:\n",
        "    print(\"Hello\")\n",
        "  print(\"Kitty\"*x)\n",
        "print(\"Hello\"*x)\n"
      ],
      "execution_count": null,
      "outputs": [
        {
          "output_type": "error",
          "ename": "IndentationError",
          "evalue": "ignored",
          "traceback": [
            "\u001b[0;36m  File \u001b[0;32m\"<ipython-input-10-130c64da8463>\"\u001b[0;36m, line \u001b[0;32m5\u001b[0m\n\u001b[0;31m    print(\"Kitty\"*x)\u001b[0m\n\u001b[0m                    ^\u001b[0m\n\u001b[0;31mIndentationError\u001b[0m\u001b[0;31m:\u001b[0m unindent does not match any outer indentation level\n"
          ]
        }
      ]
    },
    {
      "cell_type": "code",
      "metadata": {
        "colab": {
          "base_uri": "https://localhost:8080/"
        },
        "id": "QjOwkhIVxreQ",
        "outputId": "3b91b919-7f33-4b7c-e7fe-0ecf6e600840"
      },
      "source": [
        "#Example 4.7. (04ifelse1.py)\n",
        "\n",
        "from math import *\n",
        "x = 5\n",
        "y = 16\n",
        "if x != 0 and y > 0:\n",
        "  print(sqrt(y)/x)\n",
        "else:\n",
        "  print(\"Invalid Number\")\n"
      ],
      "execution_count": null,
      "outputs": [
        {
          "output_type": "stream",
          "name": "stdout",
          "text": [
            "0.8\n"
          ]
        }
      ]
    },
    {
      "cell_type": "code",
      "metadata": {
        "colab": {
          "base_uri": "https://localhost:8080/"
        },
        "id": "bXQd-h70xrbx",
        "outputId": "82c9d52b-dd83-479c-a9a3-734f6d56cbfa"
      },
      "source": [
        "#Example 4.8. (04ifelse2.py)\n",
        "\n",
        "from math import *\n",
        "x = 5\n",
        "y = 16\n",
        "z = 25\n",
        "\n",
        "if x != 0 and y-z > 0:\n",
        "  print(sqrt(y-z)/x)\n",
        "else:\n",
        "  print(\"Invalid Number\")\n"
      ],
      "execution_count": null,
      "outputs": [
        {
          "output_type": "stream",
          "name": "stdout",
          "text": [
            "Invalid Number\n"
          ]
        }
      ]
    },
    {
      "cell_type": "code",
      "metadata": {
        "colab": {
          "base_uri": "https://localhost:8080/"
        },
        "id": "D8nVi8d7xrZP",
        "outputId": "07df216f-5204-41cd-d380-0c4dffba8815"
      },
      "source": [
        "#Example 4.9. (04ifelse3.py)\n",
        "\n",
        "x = input(\"How old are you?: \")\n",
        "y = input(\"How old is the person to your left?: \")\n",
        "\n",
        "if x.isnumeric() and y.isnumeric():\n",
        "  print(\"Your combined age is\", int(x)+int(y))\n",
        "else:\n",
        "  print(\"Cannot calculate your combined age.\")\n",
        "  print(\"Your responses must be numeric.\")\n"
      ],
      "execution_count": null,
      "outputs": [
        {
          "output_type": "stream",
          "name": "stdout",
          "text": [
            "How old are you?: 20\n",
            "How old is the person to your left?: 18\n",
            "Your combined age is 38\n"
          ]
        }
      ]
    },
    {
      "cell_type": "code",
      "metadata": {
        "colab": {
          "base_uri": "https://localhost:8080/",
          "height": 262
        },
        "id": "tztk0jOwxrRb",
        "outputId": "0ac85daf-98ba-4d5c-c6b6-7433f21a5cb2"
      },
      "source": [
        "#Example 4.10. (04elif.py)\n",
        "\n",
        "x = input(\"Input X: \")\n",
        "x = int(x)\n",
        "\n",
        "if x == 100:\n",
        " print(\"Perfect!\")\n",
        "elif 100 >= x >= 40:\n",
        " print(\"No F for you!\")\n",
        "elif 40 > x >= 0:\n",
        " print(\"You got an F!\")\n",
        "else:\n",
        "  print(\"Invalid score. It must be between 0 and 100.\")"
      ],
      "execution_count": null,
      "outputs": [
        {
          "name": "stdout",
          "output_type": "stream",
          "text": [
            "Input X: Apichon\n"
          ]
        },
        {
          "output_type": "error",
          "ename": "ValueError",
          "evalue": "ignored",
          "traceback": [
            "\u001b[0;31m---------------------------------------------------------------------------\u001b[0m",
            "\u001b[0;31mValueError\u001b[0m                                Traceback (most recent call last)",
            "\u001b[0;32m<ipython-input-12-c24c61c63f42>\u001b[0m in \u001b[0;36m<module>\u001b[0;34m()\u001b[0m\n\u001b[1;32m      2\u001b[0m \u001b[0;34m\u001b[0m\u001b[0m\n\u001b[1;32m      3\u001b[0m \u001b[0mx\u001b[0m \u001b[0;34m=\u001b[0m \u001b[0minput\u001b[0m\u001b[0;34m(\u001b[0m\u001b[0;34m\"Input X: \"\u001b[0m\u001b[0;34m)\u001b[0m\u001b[0;34m\u001b[0m\u001b[0;34m\u001b[0m\u001b[0m\n\u001b[0;32m----> 4\u001b[0;31m \u001b[0mx\u001b[0m \u001b[0;34m=\u001b[0m \u001b[0mint\u001b[0m\u001b[0;34m(\u001b[0m\u001b[0mx\u001b[0m\u001b[0;34m)\u001b[0m\u001b[0;34m\u001b[0m\u001b[0;34m\u001b[0m\u001b[0m\n\u001b[0m\u001b[1;32m      5\u001b[0m \u001b[0;34m\u001b[0m\u001b[0m\n\u001b[1;32m      6\u001b[0m \u001b[0;32mif\u001b[0m \u001b[0mx\u001b[0m \u001b[0;34m==\u001b[0m \u001b[0;36m100\u001b[0m\u001b[0;34m:\u001b[0m\u001b[0;34m\u001b[0m\u001b[0;34m\u001b[0m\u001b[0m\n",
            "\u001b[0;31mValueError\u001b[0m: invalid literal for int() with base 10: 'Apichon'"
          ]
        }
      ]
    },
    {
      "cell_type": "code",
      "metadata": {
        "colab": {
          "base_uri": "https://localhost:8080/"
        },
        "id": "h7aukj5Eye74",
        "outputId": "03d8b469-7e1b-4864-ca4a-01c48aeb1b08"
      },
      "source": [
        "#Example 4.11. (04quadratic.py) Write a program that finds real-number\n",
        "#solutions of a quadratic equation ax2 + bx + c = 0 using the following formul\n",
        "\n",
        "import math as m\n",
        "\n",
        "a, b, c = input(\"Input a,b,c: \").split()\n",
        "if a.isnumeric() and b.isnumeric() and c.isnumeric():\n",
        "  a, b, c = float(a), float(b), float(c)\n",
        "  if b**2-4*a*c < 0:\n",
        "    print(\"There is not real-number solutions.\")\n",
        "  elif a == 0:\n",
        "    print(\"This is not a quadratic equation.\")\n",
        "  else:\n",
        "    s = m.sqrt(b**2 - 4*a*c)\n",
        "    x1, x2 = (-b + s)/(2*a), (-b - s)/(2*a)\n",
        "    print(\"Solution = %.2f %.2f\" % (x1, x2))\n",
        "else:\n",
        "  print(\"Error: non-numeric coefficients\")\n",
        "\n",
        "\n"
      ],
      "execution_count": null,
      "outputs": [
        {
          "output_type": "stream",
          "name": "stdout",
          "text": [
            "Input a,b,c: 1 0 0\n",
            "Solution = 0.00 -0.00\n"
          ]
        }
      ]
    },
    {
      "cell_type": "code",
      "metadata": {
        "colab": {
          "base_uri": "https://localhost:8080/"
        },
        "id": "Qj3W6Qznye6D",
        "outputId": "c2140310-640d-41e2-9a69-27481b25ab51"
      },
      "source": [
        "#Example 4.12. Write a Python program that accepts an integer for a score in \n",
        "#[0, 100] and displays the grade according to the following conditions: \n",
        "# ‘A’ when the score is in [80, 100],\n",
        "# ‘B’ when the score is in [70, 80),\n",
        "# ‘C’ when the score is in [60, 70),\n",
        "# ‘D’ when the score is in [40, 60). \n",
        "#Otherwise, it displays ‘F’.:\n",
        "\n",
        "#The program should report an error when the score not in the range of [0,100] and when the score is not a number.\n",
        "\n",
        "\n",
        "input_score = input(\"Input a score [0-100]: \")\n",
        "if input_score.isnumeric():\n",
        "  score = int(input_score)\n",
        "  if 0 <= score <=100 :\n",
        "    #do something\n",
        "    if 80 <= score <=100 :\n",
        "      print(\"Your grade is\", \"A\")\n",
        "    elif 70 <= score <80 :\n",
        "      print(\"Your grade is\", \"B\")\n",
        "    elif 60 <= score <70 :\n",
        "      print(\"Your grade is\", \"C\")\n",
        "    elif 40 <= score <60 :\n",
        "      print(\"Your grade is\", \"D\")\n",
        "    else :\n",
        "      print(\"Your grade is\", \"F\")\n",
        "  else :\n",
        "    print(\"Error: value out of range [0-100]\")\n",
        "else :\n",
        "  print(\"Error: non-numeric value\")\n",
        "\n",
        "\n"
      ],
      "execution_count": null,
      "outputs": [
        {
          "output_type": "stream",
          "name": "stdout",
          "text": [
            "Input a score [0-100]: 95\n",
            "Your grade is A\n"
          ]
        }
      ]
    },
    {
      "cell_type": "code",
      "metadata": {
        "colab": {
          "base_uri": "https://localhost:8080/"
        },
        "id": "sC-R3QXLye2p",
        "outputId": "c413bbd9-a71e-480b-d2c0-74698c140641"
      },
      "source": [
        "#Example 4.13. Consider the following situations:\n",
        "#\n",
        "# 1 A freshman male student goes to room 209\n",
        "# 2 A freshman female student goes to room 210\n",
        "# 3 For non-freshman, MT or EM students go to room 301\n",
        "# 4 For non-freshman, IT or CPE students go to room 302\n",
        "# 5 For non-freshman, other departments go to room 305\n",
        "\n",
        "year = int(input(\"What year are you?: \"))\n",
        "if year == 1:\n",
        "\tsex = input(\"male or female? \")\n",
        "\tif sex == \"male\":\n",
        "\t\troom = 209\n",
        "\telse:\n",
        "\t\troom = 210\n",
        "else:\n",
        "\tdept = input(\"What department are you?: \")\n",
        "\tif dept == \"MT\" or dept == \"EM\":\n",
        "\t\troom = 301\n",
        "\telif dept == \"IT\" or dept == \"CPE\":\n",
        "\t\troom = 302\n",
        "\telse:\n",
        "\t\troom = 305\n",
        "print (\"Your room is:\", room)\n"
      ],
      "execution_count": null,
      "outputs": [
        {
          "output_type": "stream",
          "name": "stdout",
          "text": [
            "What year are you?: 2\n",
            "What department are you?: CPE\n",
            "Your room is: 302\n"
          ]
        }
      ]
    },
    {
      "cell_type": "code",
      "metadata": {
        "colab": {
          "base_uri": "https://localhost:8080/"
        },
        "id": "PlMenCGmyezz",
        "outputId": "5b9f2ad4-7494-43e8-81fe-a297b0ca1eb6"
      },
      "source": [
        "year = int(input(\"What year are you?: \"))\n",
        "sex = input(\"male or female?: \")\n",
        "dept = input(\"What department are you?: \")\n",
        "if year == 1 and sex == \"male\":\n",
        "\troom = 209\n",
        "elif year == 1 and sex == \"female\":\n",
        "\troom = 210\n",
        "elif year > 1 and (dept == \"MT\" or dept == \"EM\"):\n",
        "\troom = 301\n",
        "elif year > 1 and (dept == \"IT\" or dept == \"CPE\"):\n",
        "\troom = 302\n",
        "else:\n",
        "\troom = 305\n",
        "print (\"Your room is:\", room)\n"
      ],
      "execution_count": null,
      "outputs": [
        {
          "output_type": "stream",
          "name": "stdout",
          "text": [
            "What year are you?: 1\n",
            "male or female?: male\n",
            "What department are you?: CPE\n",
            "Your room is: 209\n"
          ]
        }
      ]
    },
    {
      "cell_type": "code",
      "metadata": {
        "colab": {
          "base_uri": "https://localhost:8080/"
        },
        "id": "lpLSZTaN68r5",
        "outputId": "043fc335-6561-4410-fded-3a5b0599ee40"
      },
      "source": [
        "#Example 4.14. Write a Python program that accepts a distance, d, from the user. \n",
        "#It then calculates the shipping cost according to d using the following rate. \n",
        "#The result must be displayed with 2 digits after the decimal point.\n",
        "\n",
        "#When d is greater than 0 and less than 100 km, the cost is equal to 10 dollars.\n",
        "#When d is greater than or equal to 100 km and less than 150 km,1the cost is    10 + 5(d − 100) dollars.\n",
        "#When d is greater than or equal to 150 km, the cost is 260 + 7(d − 150) dollars.\n",
        "\n",
        "\n",
        "d = input(\"Input a distance (km): \")\n",
        "if not d.isnumeric():\n",
        "  print(\"Error: invalid distance value\")\n",
        "else:\n",
        "  d = int(d)\n",
        "  if d <= 0:\n",
        "    print(\"Error: the distance must be more than zero\")\n",
        "  else:\n",
        "    if 0 < d < 100:\n",
        "      cost = 10\n",
        "    elif 100 <= d < 150:\n",
        "      cost = 10 + (5*(d-100))\n",
        "    elif d >= 150:\n",
        "      cost = 260 + (7*(d-150) )\n",
        "    print(\"The shipping cost is %.2f dollars\" % cost)\n",
        " \n",
        "\n"
      ],
      "execution_count": null,
      "outputs": [
        {
          "output_type": "stream",
          "name": "stdout",
          "text": [
            "Input a distance (km): AP\n",
            "Error: invalid distance value\n"
          ]
        }
      ]
    },
    {
      "cell_type": "code",
      "metadata": {
        "colab": {
          "base_uri": "https://localhost:8080/"
        },
        "id": "kE0OWw-G68k-",
        "outputId": "291f5a95-80fc-41c9-d804-b6be4e2ec070"
      },
      "source": [
        "#Extra Example. Write a Python program that convert temperature from Celsius  to Fahrenheit or opposite way. Input sample is 45F or 102C. \n",
        "\n",
        "temp = input(\"Input the  temperature you like to convert? (e.g., 45F, 102C etc.) : \")\n",
        "degree = int(temp[:-1])\n",
        "i_convention = temp[-1]\n",
        "\n",
        "if i_convention.upper() == \"C\":\n",
        "  result = int(round((9 * degree) / 5 + 32))\n",
        "  o_convention = \"Fahrenheit\"\n",
        "elif i_convention.upper() == \"F\":\n",
        "  result = int(round((degree - 32) * 5 / 9))\n",
        "  o_convention = \"Celsius\"\n",
        "else:\n",
        "  print(\"Input proper convention.\")\n",
        "  quit()\n",
        "print(\"The temperature in\", o_convention, \"is\", result, \"degrees.\")"
      ],
      "execution_count": null,
      "outputs": [
        {
          "output_type": "stream",
          "name": "stdout",
          "text": [
            "Input the  temperature you like to convert? (e.g., 45F, 102C etc.) : 32f\n",
            "The temperature in Celsius is 0 degrees.\n"
          ]
        }
      ]
    },
    {
      "cell_type": "markdown",
      "metadata": {
        "id": "j-NkY78Ri0ns"
      },
      "source": [
        "# Lecture 5: Repetition Structure "
      ]
    },
    {
      "cell_type": "code",
      "metadata": {
        "colab": {
          "base_uri": "https://localhost:8080/"
        },
        "id": "WN4Zmh_Zi_70",
        "outputId": "9681b7eb-49ac-448b-af8b-fbb498f4cc05"
      },
      "source": [
        "#Example 5.6\n",
        "n = input(\"Input n: \")\n",
        "if n.isnumeric():\n",
        "\tn = int(n)\n",
        "\tfor i in range(1, n+1):\n",
        "\t\tprint(\"* \"*i)\n",
        "else:\n",
        "\tprint(\"Invalid input\")\n"
      ],
      "execution_count": null,
      "outputs": [
        {
          "output_type": "stream",
          "name": "stdout",
          "text": [
            "Input n: 5\n",
            "* \n",
            "* * \n",
            "* * * \n",
            "* * * * \n",
            "* * * * * \n"
          ]
        }
      ]
    },
    {
      "cell_type": "code",
      "metadata": {
        "colab": {
          "base_uri": "https://localhost:8080/"
        },
        "id": "6-7Y29L4i_4a",
        "outputId": "d7fcd3d7-037e-4746-ce7e-cfbf5a12064d"
      },
      "source": [
        "#Example 5.7. Write a program that accepts a positive integer n (0 ≤ n ≤ 9),\n",
        "#and print a half pyramid of numbers of size n as shown below\n",
        "\n",
        "#Input n: 5\n",
        "#1\n",
        "#2 2\n",
        "#3 3 3\n",
        "#4 4 4 4\n",
        "#5 5 5 5 5\n",
        "\n",
        "n = input(\"Input n [0 ≤ n ≤ 9]: \")\n",
        "if n.isnumeric():\n",
        "  n = int(n)\n",
        "  if (0<= n <=9):\n",
        "    for i in range(1, n+1):\n",
        "      print((str(i)+\" \")*i)\n",
        "  else:\n",
        "  \tprint(\"Invalid input range [0 ≤ n ≤ 9]\")    \n",
        "else:\n",
        "\tprint(\"Invalid input\")\n",
        "\n"
      ],
      "execution_count": null,
      "outputs": [
        {
          "output_type": "stream",
          "name": "stdout",
          "text": [
            "Input n [0 ≤ n ≤ 9]: 8\n",
            "1 \n",
            "2 2 \n",
            "3 3 3 \n",
            "4 4 4 4 \n",
            "5 5 5 5 5 \n",
            "6 6 6 6 6 6 \n",
            "7 7 7 7 7 7 7 \n",
            "8 8 8 8 8 8 8 8 \n"
          ]
        }
      ]
    },
    {
      "cell_type": "code",
      "metadata": {
        "colab": {
          "base_uri": "https://localhost:8080/"
        },
        "id": "t9tQ5oLUi_y3",
        "outputId": "c5abb9b4-df9b-4ee4-bea3-ecc903936cec"
      },
      "source": [
        "#Example 5.8.Write a program that accepts 5 positive integers from a user. \n",
        "#It then calculates and displays the sum and the average of the input values\n",
        "\n",
        "# Input number 1: 12\n",
        "# Input number 2: 22\n",
        "# Input number 3: 51\n",
        "# Input number 4: 9\n",
        "# Input number 5: 17\n",
        "# Sum = 111\n",
        "# Average = 22.20\n",
        "\n",
        "sum = 0\n",
        "for i in range(1,6,1):\n",
        "  in_data = input(\"Input number %d:\" % i)\n",
        "  sum = sum + int(in_data)\n",
        "avg = sum/5  \n",
        "\n",
        "print(\"Sum =\",sum)\n",
        "print(\"Average = %.2f\" % avg)\n"
      ],
      "execution_count": null,
      "outputs": [
        {
          "output_type": "stream",
          "name": "stdout",
          "text": [
            "Input number 1:12\n",
            "Input number 2:22\n",
            "Input number 3:51\n",
            "Input number 4:9\n",
            "Input number 5:17\n",
            "Sum = 111\n",
            "Average = 22.20\n"
          ]
        }
      ]
    },
    {
      "cell_type": "code",
      "metadata": {
        "id": "sfhVTNcdi_xh",
        "colab": {
          "base_uri": "https://localhost:8080/"
        },
        "outputId": "f2a35ac7-0302-411e-a0d8-6a738e5dba88"
      },
      "source": [
        "#Example 5.8. with input validation\n",
        "\n",
        "sum = 0\n",
        "isok = 1\n",
        "for i in range(1,6,1):\n",
        "  in_data = input(\"Input number %d:\" % i)\n",
        "  if (in_data.isnumeric()):\n",
        "    input_value = int(in_data)\n",
        "    if (input_value >  0):\n",
        "      sum = sum + input_value\n",
        "    else:\n",
        "      print(\"Invalid input range: n > 0\")\n",
        "      isok=0\n",
        "      break\n",
        "  else:\n",
        "    print(\"Invalid input\")\n",
        "    isok=0\n",
        "    break\n",
        "\n",
        "if (isok==1):\n",
        "  avg = sum/5  \n",
        "  print(\"Sum =\",sum)\n",
        "  print(\"Average = %.2f\" % avg)\n"
      ],
      "execution_count": null,
      "outputs": [
        {
          "output_type": "stream",
          "name": "stdout",
          "text": [
            "Input number 1:5\n",
            "Input number 2:4\n",
            "Input number 3:-4\n",
            "Invalid input\n"
          ]
        }
      ]
    },
    {
      "cell_type": "code",
      "metadata": {
        "id": "TOwIgHwui_tj",
        "colab": {
          "base_uri": "https://localhost:8080/"
        },
        "outputId": "1f8168ee-5ba9-4d45-c2e7-ba277af45d8b"
      },
      "source": [
        "#Example 5.10. (05vowelconsonant.py)\n",
        "\n",
        "nvows, ncons = 0, 0\n",
        "#message = \"Super\"\n",
        "message = \"Hi, Alice\"\n",
        "\n",
        "for ch in message:\n",
        "\tif ch in \"aeiou\":\n",
        "\t\tprint(ch, \"is a vowel.\")\n",
        "\t\tnvows += 1\n",
        "\telse:\n",
        "\t\tprint(ch, \"is a consonant.\")\n",
        "\t\tncons += 1\n",
        "print(\"%d vowels and %d consonants.\" % (nvows, ncons))\n"
      ],
      "execution_count": null,
      "outputs": [
        {
          "output_type": "stream",
          "name": "stdout",
          "text": [
            "H is a consonant.\n",
            "i is a vowel.\n",
            ", is a consonant.\n",
            "  is a consonant.\n",
            "A is a consonant.\n",
            "l is a consonant.\n",
            "i is a vowel.\n",
            "c is a consonant.\n",
            "e is a vowel.\n",
            "3 vowels and 6 consonants.\n"
          ]
        }
      ]
    },
    {
      "cell_type": "code",
      "metadata": {
        "id": "aBhI10uli_rM",
        "colab": {
          "base_uri": "https://localhost:8080/"
        },
        "outputId": "630a23cc-759f-4487-88d1-0fb8288ab16c"
      },
      "source": [
        "#Example 5.11. (modified version of 5.10)\n",
        "\n",
        "nvows, ncons = 0, 0\n",
        "#message = \"Super\"\n",
        "message = \"Hi, Alice\"\n",
        "\n",
        "for ch in message:\n",
        "  if ch in \"aeiou\":\n",
        "    print(ch, \"is a vowel.\")\n",
        "    nvows += 1\n",
        "  elif (ch.isalpha()):\n",
        "    print(ch, \"is a consonant.\")\n",
        "    ncons += 1\n",
        "  else:\n",
        "    print(ch, \"is a symbol or space.\")\n",
        "print(\"%d vowels and %d consonants.\" % (nvows, ncons))\n"
      ],
      "execution_count": null,
      "outputs": [
        {
          "output_type": "stream",
          "name": "stdout",
          "text": [
            "H is a consonant.\n",
            "i is a vowel.\n",
            ", is a symbol or space.\n",
            "  is a symbol or space.\n",
            "A is a consonant.\n",
            "l is a consonant.\n",
            "i is a vowel.\n",
            "c is a consonant.\n",
            "e is a vowel.\n",
            "3 vowels and 4 consonants.\n"
          ]
        }
      ]
    },
    {
      "cell_type": "code",
      "metadata": {
        "id": "XrVqCAQBi_ou",
        "colab": {
          "base_uri": "https://localhost:8080/"
        },
        "outputId": "80ded7c5-9a60-40b7-f063-0068c3907730"
      },
      "source": [
        "#Example 5.12. (05nested1.py)\n",
        "\n",
        "for x in range(2):\n",
        "  for y in range(3):\n",
        "    print(x, y)"
      ],
      "execution_count": null,
      "outputs": [
        {
          "output_type": "stream",
          "name": "stdout",
          "text": [
            "0 0\n",
            "0 1\n",
            "0 2\n",
            "1 0\n",
            "1 1\n",
            "1 2\n"
          ]
        }
      ]
    },
    {
      "cell_type": "code",
      "metadata": {
        "id": "jLz3FJkqi_l6",
        "colab": {
          "base_uri": "https://localhost:8080/"
        },
        "outputId": "1d775eca-7c61-42c4-98ab-f77e55482cd8"
      },
      "source": [
        "#Example 5.13. (05nested2.py)\n",
        "\n",
        "for y in range(5):\n",
        "  for x in range(8):\n",
        "    if (x+y) % 2 == 0:\n",
        "      print(\"x\", end=\" \")\n",
        "    else:\n",
        "      print(\"O\", end=\" \")\n",
        "  print()\n"
      ],
      "execution_count": null,
      "outputs": [
        {
          "output_type": "stream",
          "name": "stdout",
          "text": [
            "x O x O x O x O \n",
            "O x O x O x O x \n",
            "x O x O x O x O \n",
            "O x O x O x O x \n",
            "x O x O x O x O \n"
          ]
        }
      ]
    },
    {
      "cell_type": "code",
      "metadata": {
        "id": "1IbcYzP6i_hv",
        "colab": {
          "base_uri": "https://localhost:8080/"
        },
        "outputId": "b2081c1d-04c5-454f-e13f-d7ee91b88059"
      },
      "source": [
        "#Example 5.14. Write a program that accepts a positive integer n, and prints\n",
        "#another version of half pyramid of numbers as shown below\n",
        "\n",
        "#Input n: 5\n",
        "#1\n",
        "#1 2\n",
        "#1 2 3\n",
        "#1 2 3 4\n",
        "#1 2 3 4 5\n",
        "\n",
        "n = input(\"Input n:\")\n",
        "if n.isnumeric():\n",
        "  n = int(n)\n",
        "  if (n > 0):\n",
        "    for i in range(1, n+1):\n",
        "      for k in range(1, i+1):\n",
        "        print(k, end=\" \")\n",
        "      print()\n",
        "  else:\n",
        "  \tprint(\"Invalid input range [n > 0]\")    \n",
        "else:\n",
        "\tprint(\"Invalid input\")"
      ],
      "execution_count": null,
      "outputs": [
        {
          "output_type": "stream",
          "name": "stdout",
          "text": [
            "Input n:5\n",
            "1 \n",
            "1 2 \n",
            "1 2 3 \n",
            "1 2 3 4 \n",
            "1 2 3 4 5 \n"
          ]
        }
      ]
    },
    {
      "cell_type": "code",
      "metadata": {
        "id": "wR7R0bOti_fM",
        "colab": {
          "base_uri": "https://localhost:8080/"
        },
        "outputId": "fe7397f0-4a35-4ff4-adf4-4058080408a9"
      },
      "source": [
        "#Example 5.15. Gregory-Leibniz series can be used to approximate π as\n",
        "\n",
        "n = input(\"Input n:\")\n",
        "n = int(n)\n",
        "result = 0.0\n",
        "for i in range(0,n+1):\n",
        "  result += (-1.0)**i/(2.0*i+1.0)\n",
        "\n",
        "result = result *4 \n",
        "\n",
        "print(\"pi value is\", result)\n",
        "\n",
        "\n",
        "\n"
      ],
      "execution_count": null,
      "outputs": [
        {
          "output_type": "stream",
          "name": "stdout",
          "text": [
            "Input n:1000\n",
            "pi value is 3.1425916543395442\n"
          ]
        }
      ]
    },
    {
      "cell_type": "code",
      "metadata": {
        "colab": {
          "base_uri": "https://localhost:8080/"
        },
        "id": "3hFclMKTXucq",
        "outputId": "5cf43fe4-d8da-404d-8acc-fe99a8257bdd"
      },
      "source": [
        "#Riemann sum is an approximation of an integral using a sum\n",
        "#of finite rectangles. The midpoint Reimann sum of function f over [a, b] using\n",
        "#n subdivisions is defined as\n",
        "\n",
        "\n",
        "a,b,N = input(\"a b n value:\").split()\n",
        "a,b,N = int(a),int(b),int(N)\n",
        "\n",
        "d = (b-a)/N\n",
        "print(\"d is\",d)\n",
        "result = 0.0\n",
        "#X = np.arange(a, b, 0.1)\n",
        "for i in range(1,N+1):\n",
        "  x = a + (((2*i)-1)*d/2)\n",
        "  y= ((x**3) + 2) \n",
        "  print(\"x value is %.3f y is %.3f\" % (x,y))\n",
        "  result = result + y #EQ\n",
        "\n",
        "result *= d;\n",
        "\n",
        "print(\"Riemann sum is %.2f\" % result)"
      ],
      "execution_count": null,
      "outputs": [
        {
          "output_type": "stream",
          "name": "stdout",
          "text": [
            "a b n value:0 2 10\n",
            "d is 0.2\n",
            "x value is 0.100 y is 2.001\n",
            "x value is 0.300 y is 2.027\n",
            "x value is 0.500 y is 2.125\n",
            "x value is 0.700 y is 2.343\n",
            "x value is 0.900 y is 2.729\n",
            "x value is 1.100 y is 3.331\n",
            "x value is 1.300 y is 4.197\n",
            "x value is 1.500 y is 5.375\n",
            "x value is 1.700 y is 6.913\n",
            "x value is 1.900 y is 8.859\n",
            "Riemann sum is 7.98\n"
          ]
        }
      ]
    },
    {
      "cell_type": "code",
      "metadata": {
        "colab": {
          "base_uri": "https://localhost:8080/",
          "height": 524
        },
        "id": "aHmVzEKKyk_q",
        "outputId": "fbabf0d9-dc58-406a-e72e-294a06d4626f"
      },
      "source": [
        "import numpy as np\n",
        "import matplotlib.pyplot as plt\n",
        "\n",
        "a,b,N = input(\"a b n value:\").split()\n",
        "a,b,N = int(a),int(b),int(N)\n",
        "\n",
        "arr_x = np.zeros(N)\n",
        "arr_y = np.zeros(N)\n",
        "print(arr_x[0])\n",
        "d = (b-a)/N\n",
        "print(\"d is\",d)\n",
        "result = 0.0\n",
        "for i in range(1,N+1):\n",
        "  x = a + (((2*i)-1)*d/2)\n",
        "  y= ((x**3) + 2) \n",
        "  arr_x[i-1] = x\n",
        "  arr_y[i-1] = y\n",
        "  print(\"x value is %.3f y is %.3f\" % (x,y))\n",
        "  result = result + y #EQ\n",
        "\n",
        "result *= d;\n",
        "\n",
        "print(\"Riemann sum is %.2f\" % result)\n",
        "plt.title(\"Midpoint Riemann Sum, N = {}\".format(N))\n",
        "\n",
        "X = np.arange(a,b+d,d)\n",
        "Y = ((X**3) + 2) \n",
        "\n",
        "plt.plot(X, Y, color=\"blue\")\n",
        "plt.plot(arr_x,arr_y,'b.',markersize=10)\n",
        "plt.bar(arr_x,arr_y,width=d,alpha=0.2,edgecolor='b')\n",
        "plt.show()\n"
      ],
      "execution_count": null,
      "outputs": [
        {
          "output_type": "stream",
          "name": "stdout",
          "text": [
            "a b n value:0 2 10\n",
            "0.0\n",
            "d is 0.2\n",
            "x value is 0.100 y is 2.001\n",
            "x value is 0.300 y is 2.027\n",
            "x value is 0.500 y is 2.125\n",
            "x value is 0.700 y is 2.343\n",
            "x value is 0.900 y is 2.729\n",
            "x value is 1.100 y is 3.331\n",
            "x value is 1.300 y is 4.197\n",
            "x value is 1.500 y is 5.375\n",
            "x value is 1.700 y is 6.913\n",
            "x value is 1.900 y is 8.859\n",
            "Riemann sum is 7.98\n"
          ]
        },
        {
          "output_type": "display_data",
          "data": {
            "image/png": "[encoded data removed]",
            "text/plain": [
              "<Figure size 432x288 with 1 Axes>"
            ]
          },
          "metadata": {
            "needs_background": "light"
          }
        }
      ]
    },
    {
      "cell_type": "code",
      "metadata": {
        "colab": {
          "base_uri": "https://localhost:8080/"
        },
        "id": "JjkO3T60XuVX",
        "outputId": "f6961cfa-6c4f-4023-c406-2f18b553f45b"
      },
      "source": [
        "a,b,N = input(\"a b n value:\").split()\n",
        "a,b,N = int(a),int(b),int(N)\n",
        "\n",
        "d = (b-a)/N\n",
        "print(\"d is\",d)\n",
        "result = 0.0\n",
        "#X = np.arange(a, b, 0.1)\n",
        "for i in range(1,N+1):\n",
        "  x = a + (((2*i)-1)*d/2)\n",
        "  y= ((x**2) + (2*x) + 1) \n",
        "  print(\"x value is %.3f y is %.3f\" % (x,y))\n",
        "  result = result + y #EQ\n",
        "\n",
        "result *= d;\n",
        "\n",
        "print(\"Riemann sum is %.2f\" % result)"
      ],
      "execution_count": null,
      "outputs": [
        {
          "output_type": "stream",
          "name": "stdout",
          "text": [
            "a b n value:0 2 10\n",
            "d is 0.2\n",
            "x value is 0.100 y is 1.210\n",
            "x value is 0.300 y is 1.690\n",
            "x value is 0.500 y is 2.250\n",
            "x value is 0.700 y is 2.890\n",
            "x value is 0.900 y is 3.610\n",
            "x value is 1.100 y is 4.410\n",
            "x value is 1.300 y is 5.290\n",
            "x value is 1.500 y is 6.250\n",
            "x value is 1.700 y is 7.290\n",
            "x value is 1.900 y is 8.410\n",
            "Riemann sum is 8.66\n"
          ]
        }
      ]
    },
    {
      "cell_type": "code",
      "metadata": {
        "colab": {
          "base_uri": "https://localhost:8080/",
          "height": 680
        },
        "id": "CmZrCAg-XuNw",
        "outputId": "41715060-2836-4671-e1ef-394bd05bb1cc"
      },
      "source": [
        "import numpy as np\n",
        "import matplotlib.pyplot as plt\n",
        "\n",
        "a,b,N = input(\"a b n value:\").split()\n",
        "a,b,N = int(a),int(b),int(N)\n",
        "\n",
        "arr_x,arr_y = np.zeros(N),np.zeros(N)\n",
        "d = (b-a)/N\n",
        "print(\"d is\",d)\n",
        "result = 0.0\n",
        "for i in range(1,N+1):\n",
        "  x = a + (((2*i)-1)*d/2)\n",
        "  y= ((x**2) + (2*x) + 1) \n",
        "  arr_x[i-1],arr_y[i-1]  = x,y\n",
        "  print(\"x value is %.3f y is %.3f\" % (x,y))\n",
        "  result = result + y #EQ\n",
        "\n",
        "result *= d;\n",
        "\n",
        "print(\"Riemann sum is %.2f\" % result)\n",
        "\n",
        "X = np.arange(a,b+d,d)\n",
        "Y = ((X**2) + (2*X) + 1) \n",
        "\n",
        "plt.plot(X, Y, color=\"blue\")\n",
        "plt.plot(arr_x,arr_y,'b.',markersize=10)\n",
        "plt.bar(arr_x,arr_y,width=d,alpha=0.2,edgecolor='b')\n",
        "plt.title(\"Midpoint Riemann Sum, N = {}\".format(N))\n",
        "plt.show()\n"
      ],
      "execution_count": null,
      "outputs": [
        {
          "output_type": "stream",
          "name": "stdout",
          "text": [
            "a b n value:0 2 20\n",
            "d is 0.1\n",
            "x value is 0.050 y is 1.103\n",
            "x value is 0.150 y is 1.323\n",
            "x value is 0.250 y is 1.562\n",
            "x value is 0.350 y is 1.823\n",
            "x value is 0.450 y is 2.103\n",
            "x value is 0.550 y is 2.402\n",
            "x value is 0.650 y is 2.723\n",
            "x value is 0.750 y is 3.062\n",
            "x value is 0.850 y is 3.423\n",
            "x value is 0.950 y is 3.803\n",
            "x value is 1.050 y is 4.203\n",
            "x value is 1.150 y is 4.623\n",
            "x value is 1.250 y is 5.062\n",
            "x value is 1.350 y is 5.523\n",
            "x value is 1.450 y is 6.003\n",
            "x value is 1.550 y is 6.503\n",
            "x value is 1.650 y is 7.023\n",
            "x value is 1.750 y is 7.562\n",
            "x value is 1.850 y is 8.123\n",
            "x value is 1.950 y is 8.703\n",
            "Riemann sum is 8.67\n"
          ]
        },
        {
          "output_type": "display_data",
          "data": {
            "image/png": "[encoded data removed]",
            "text/plain": [
              "<Figure size 432x288 with 1 Axes>"
            ]
          },
          "metadata": {
            "needs_background": "light"
          }
        }
      ]
    },
    {
      "cell_type": "markdown",
      "metadata": {
        "id": "8_Qj6FCbabAD"
      },
      "source": [
        "# Lecture 6: Problem Solving and Review"
      ]
    },
    {
      "cell_type": "code",
      "metadata": {
        "colab": {
          "base_uri": "https://localhost:8080/"
        },
        "id": "UntiwwV9aiCZ",
        "outputId": "661ada05-b4d2-4355-edd4-e1993a0fec02"
      },
      "source": [
        "#Homework 1: Half-life\n",
        "\n",
        "#library\n",
        "import math\n",
        "\n",
        "#input\n",
        "t  = input(\"Input t: \")\n",
        "N0 = input(\"Input N0: \")\n",
        "Nt = input(\"Input Nt: \")\n",
        "t,N0,Nt = float(t),float(N0),float(Nt)\n",
        "\n",
        "#process\n",
        "if (N0 == Nt):\n",
        "  print(\"invalid input\")\n",
        "else:\n",
        "\n",
        "  half_life = (-693*t)/math.log(N0/Nt)\n",
        "\n",
        "#output\n",
        "  print(\"Output = %.4f\" % half_life)\n"
      ],
      "execution_count": 3,
      "outputs": [
        {
          "output_type": "stream",
          "name": "stdout",
          "text": [
            "Input t: 10\n",
            "Input N0: 1000\n",
            "Input Nt: 1000\n",
            "invalid input\n"
          ]
        }
      ]
    },
    {
      "cell_type": "code",
      "metadata": {
        "colab": {
          "base_uri": "https://localhost:8080/"
        },
        "id": "VBf1SsiD0gmu",
        "outputId": "ddb2a571-ae17-4748-a107-fe678ecbcd4a"
      },
      "source": [
        "#Homework 1: Half-life\n",
        "\n",
        "#library\n",
        "import math\n",
        "\n",
        "#input\n",
        "t  = input(\"Input t: \")\n",
        "N0 = input(\"Input N0: \")\n",
        "Nt = input(\"Input Nt: \")\n",
        "if (t.isnumeric() and N0.isnumeric() and Nt.isnumeric()):\n",
        "  t,N0,Nt = float(t),float(N0),float(Nt)\n",
        "\n",
        "  #process\n",
        "  if ((N0 == Nt) or (Nt ==0)):\n",
        "    print(\"invalid input\")\n",
        "  else:\n",
        "    half_life = (-693*t)/math.log(N0/Nt)\n",
        "    #output\n",
        "    print(\"Output = %.4f\" % half_life)\n",
        "else:\n",
        "  print(\"invalid input\")\n"
      ],
      "execution_count": 6,
      "outputs": [
        {
          "output_type": "stream",
          "name": "stdout",
          "text": [
            "Input t: 10\n",
            "Input N0: 1000\n",
            "Input Nt: 1000\n",
            "invalid input\n"
          ]
        }
      ]
    },
    {
      "cell_type": "code",
      "metadata": {
        "id": "HkKfWl5C2I2B"
      },
      "source": [
        "#Problem 2: Hexadecimal\n",
        "\n",
        "Hex =  \"0123456789ABCDEF\"\n",
        "w,x,y,z = input(\"Input: \").split(\":\")\n",
        "\n",
        "print(Hex )\n",
        "\n",
        "\n",
        "# if ((w not in Hex) or (x not in Hex) or (y not in Hex) or (z not in Hex)):\n",
        "#   print(\"invalid input\")\n",
        "# else:\n",
        "#   if (w=\"A\"):\n",
        "#   w = int(w, 16)\n",
        "#   x = int(x, 16)\n",
        "#   y = int(y, 16)\n",
        "#   z = int(z, 16)\n",
        "#   n = ((16**3)*w) + ((16**2)*x) + (16*y) + z\n",
        "#   print(\"output\",n)\n",
        "\n"
      ],
      "execution_count": null,
      "outputs": []
    },
    {
      "cell_type": "code",
      "metadata": {
        "colab": {
          "base_uri": "https://localhost:8080/"
        },
        "id": "qrBy3ipyaiSV",
        "outputId": "f7af1bc2-89bd-43c9-b6a8-b165a5d79dc7"
      },
      "source": [
        "#Problem 2: Hexadecimal\n",
        "\n",
        "Hex =  \"0123456789ABCDEF\"\n",
        "w,x,y,z = input(\"Input: \").split(\":\")\n",
        "\n",
        "print(w in Hex )\n",
        "\n",
        "if ((w not in Hex) or (x not in Hex) or (y not in Hex) or (z not in Hex)):\n",
        "  print(\"invalid input\")\n",
        "else:\n",
        "  w = int(w, 16)\n",
        "  x = int(x, 16)\n",
        "  y = int(y, 16)\n",
        "  z = int(z, 16)\n",
        "  n = ((16**3)*w) + ((16**2)*x) + (16*y) + z\n",
        "  print(\"output\",n)\n",
        "\n",
        "\n",
        "\n"
      ],
      "execution_count": 17,
      "outputs": [
        {
          "output_type": "stream",
          "name": "stdout",
          "text": [
            "Input: 0:0:1:B\n",
            "True\n",
            "output 27\n"
          ]
        }
      ]
    },
    {
      "cell_type": "code",
      "metadata": {
        "colab": {
          "base_uri": "https://localhost:8080/"
        },
        "id": "2BQzNzyQaisk",
        "outputId": "82519d0c-50a2-458f-c1a5-b00aa73abba3"
      },
      "source": [
        "#Q1\n",
        "print(\"aa\"); print(\"bb\")\n",
        "print(\"cc\")"
      ],
      "execution_count": 18,
      "outputs": [
        {
          "output_type": "stream",
          "name": "stdout",
          "text": [
            "aa\n",
            "bb\n",
            "cc\n"
          ]
        }
      ]
    },
    {
      "cell_type": "code",
      "metadata": {
        "colab": {
          "base_uri": "https://localhost:8080/"
        },
        "id": "oorsSMWiajrS",
        "outputId": "153f4d85-73df-4ccc-ffc5-26a01407e018"
      },
      "source": [
        "#Q2\n",
        "a = \"bat\"\n",
        "b = 5\n",
        "print(a*b)"
      ],
      "execution_count": 19,
      "outputs": [
        {
          "output_type": "stream",
          "name": "stdout",
          "text": [
            "batbatbatbatbat\n"
          ]
        }
      ]
    },
    {
      "cell_type": "code",
      "metadata": {
        "colab": {
          "base_uri": "https://localhost:8080/"
        },
        "id": "8GFKylpQajd0",
        "outputId": "fa74cc9b-e498-4f25-e5ff-6b1c2c1f99bd"
      },
      "source": [
        "#Q3\n",
        "a = float(2)\n",
        "print(\"a is %f\" % a)"
      ],
      "execution_count": 20,
      "outputs": [
        {
          "output_type": "stream",
          "name": "stdout",
          "text": [
            "a is 2.000000\n"
          ]
        }
      ]
    },
    {
      "cell_type": "code",
      "metadata": {
        "colab": {
          "base_uri": "https://localhost:8080/",
          "height": 207
        },
        "id": "lrGAVhw3ajbl",
        "outputId": "99d661ab-50fb-4dba-a4e7-aa2fc8d99e85"
      },
      "source": [
        "#Q4\n",
        "a =5\n",
        "b = \"a\"\n",
        "print(a+b)"
      ],
      "execution_count": 21,
      "outputs": [
        {
          "output_type": "error",
          "ename": "TypeError",
          "evalue": "ignored",
          "traceback": [
            "\u001b[0;31m---------------------------------------------------------------------------\u001b[0m",
            "\u001b[0;31mTypeError\u001b[0m                                 Traceback (most recent call last)",
            "\u001b[0;32m<ipython-input-21-2b78da143714>\u001b[0m in \u001b[0;36m<module>\u001b[0;34m()\u001b[0m\n\u001b[1;32m      1\u001b[0m \u001b[0ma\u001b[0m \u001b[0;34m=\u001b[0m\u001b[0;36m5\u001b[0m\u001b[0;34m\u001b[0m\u001b[0;34m\u001b[0m\u001b[0m\n\u001b[1;32m      2\u001b[0m \u001b[0mb\u001b[0m \u001b[0;34m=\u001b[0m \u001b[0;34m\"a\"\u001b[0m\u001b[0;34m\u001b[0m\u001b[0;34m\u001b[0m\u001b[0m\n\u001b[0;32m----> 3\u001b[0;31m \u001b[0mprint\u001b[0m\u001b[0;34m(\u001b[0m\u001b[0ma\u001b[0m\u001b[0;34m+\u001b[0m\u001b[0mb\u001b[0m\u001b[0;34m)\u001b[0m\u001b[0;34m\u001b[0m\u001b[0;34m\u001b[0m\u001b[0m\n\u001b[0m",
            "\u001b[0;31mTypeError\u001b[0m: unsupported operand type(s) for +: 'int' and 'str'"
          ]
        }
      ]
    },
    {
      "cell_type": "code",
      "metadata": {
        "colab": {
          "base_uri": "https://localhost:8080/",
          "height": 135
        },
        "id": "Nrw5flFDajYY",
        "outputId": "9e2e1835-c31f-4111-f0d8-0ca41ed07251"
      },
      "source": [
        "#Q5\n",
        "\\\"My name is superman.\"/"
      ],
      "execution_count": 22,
      "outputs": [
        {
          "output_type": "error",
          "ename": "SyntaxError",
          "evalue": "ignored",
          "traceback": [
            "\u001b[0;36m  File \u001b[0;32m\"<ipython-input-22-02ecd89b3466>\"\u001b[0;36m, line \u001b[0;32m2\u001b[0m\n\u001b[0;31m    \\\"My name is superman.\"/\u001b[0m\n\u001b[0m                            ^\u001b[0m\n\u001b[0;31mSyntaxError\u001b[0m\u001b[0;31m:\u001b[0m unexpected character after line continuation character\n"
          ]
        }
      ]
    },
    {
      "cell_type": "code",
      "metadata": {
        "colab": {
          "base_uri": "https://localhost:8080/"
        },
        "id": "TsT4WLSoajWE",
        "outputId": "f7cd4032-b07a-4f0c-eb7c-4d67c2b5edfc"
      },
      "source": [
        "#Q6\n",
        "a_1 = 10\n",
        "a_2 = 20\n",
        "a_1 += a_2\n",
        "print(a_1)"
      ],
      "execution_count": 23,
      "outputs": [
        {
          "output_type": "stream",
          "name": "stdout",
          "text": [
            "30\n"
          ]
        }
      ]
    },
    {
      "cell_type": "code",
      "metadata": {
        "colab": {
          "base_uri": "https://localhost:8080/"
        },
        "id": "sXZ908lMajSk",
        "outputId": "1241de6d-39ab-439e-e848-346c343e7061"
      },
      "source": [
        "#Q7\n",
        "a = 280 % 3\n",
        "print(\"%.2f\" % a)\n"
      ],
      "execution_count": 24,
      "outputs": [
        {
          "output_type": "stream",
          "name": "stdout",
          "text": [
            "1.00\n"
          ]
        }
      ]
    },
    {
      "cell_type": "code",
      "metadata": {
        "colab": {
          "base_uri": "https://localhost:8080/"
        },
        "id": "T9I2MmfmajPw",
        "outputId": "b6551c7e-0696-4894-cc0c-14982900966c"
      },
      "source": [
        "#Q8\n",
        "a = \"ABC\"\n",
        "print(a.isalpha())"
      ],
      "execution_count": 25,
      "outputs": [
        {
          "output_type": "stream",
          "name": "stdout",
          "text": [
            "True\n"
          ]
        }
      ]
    },
    {
      "cell_type": "code",
      "metadata": {
        "colab": {
          "base_uri": "https://localhost:8080/",
          "height": 207
        },
        "id": "b_Ig518AajKU",
        "outputId": "fc6d2ee3-3e96-4aa1-b464-a5e702d3a72b"
      },
      "source": [
        "#Q9\n",
        "a = \"2.0\"\n",
        "b = 3\n",
        "print(a**b)"
      ],
      "execution_count": 27,
      "outputs": [
        {
          "output_type": "error",
          "ename": "TypeError",
          "evalue": "ignored",
          "traceback": [
            "\u001b[0;31m---------------------------------------------------------------------------\u001b[0m",
            "\u001b[0;31mTypeError\u001b[0m                                 Traceback (most recent call last)",
            "\u001b[0;32m<ipython-input-27-72ea7e3ff1e2>\u001b[0m in \u001b[0;36m<module>\u001b[0;34m()\u001b[0m\n\u001b[1;32m      2\u001b[0m \u001b[0ma\u001b[0m \u001b[0;34m=\u001b[0m \u001b[0;34m\"2.0\"\u001b[0m\u001b[0;34m\u001b[0m\u001b[0;34m\u001b[0m\u001b[0m\n\u001b[1;32m      3\u001b[0m \u001b[0mb\u001b[0m \u001b[0;34m=\u001b[0m \u001b[0;36m3\u001b[0m\u001b[0;34m\u001b[0m\u001b[0;34m\u001b[0m\u001b[0m\n\u001b[0;32m----> 4\u001b[0;31m \u001b[0mprint\u001b[0m\u001b[0;34m(\u001b[0m\u001b[0ma\u001b[0m\u001b[0;34m**\u001b[0m\u001b[0mb\u001b[0m\u001b[0;34m)\u001b[0m\u001b[0;34m\u001b[0m\u001b[0;34m\u001b[0m\u001b[0m\n\u001b[0m",
            "\u001b[0;31mTypeError\u001b[0m: unsupported operand type(s) for ** or pow(): 'str' and 'int'"
          ]
        }
      ]
    },
    {
      "cell_type": "code",
      "metadata": {
        "colab": {
          "base_uri": "https://localhost:8080/"
        },
        "id": "rP2_upKiajGY",
        "outputId": "6d56b34c-0344-426f-b3db-5d01529cd9ef"
      },
      "source": [
        "#Q10\n",
        "\n",
        "import math as m\n",
        "x = m.pow(2, 6)\n",
        "print(x)"
      ],
      "execution_count": 28,
      "outputs": [
        {
          "output_type": "stream",
          "name": "stdout",
          "text": [
            "64.0\n"
          ]
        }
      ]
    },
    {
      "cell_type": "code",
      "metadata": {
        "colab": {
          "base_uri": "https://localhost:8080/"
        },
        "id": "7Hb1bnUa2MrO",
        "outputId": "043a5032-30f7-487e-bdc1-cc416eec2701"
      },
      "source": [
        "#Q11\n",
        "import math\n",
        "\n",
        "a, b, c = input(\"a, b, c = \").split()\n",
        "a, b, c = float(a), float(b), float(c)\n",
        "s = (a+b+c)/2\n",
        "area = math.sqrt(s*(s-a)*(s-b)*(s-c))\n",
        "\n",
        "print(\"area = \", area)"
      ],
      "execution_count": 31,
      "outputs": [
        {
          "output_type": "stream",
          "name": "stdout",
          "text": [
            "a, b, c = 5 4 3\n",
            "area =  6.0\n"
          ]
        }
      ]
    },
    {
      "cell_type": "code",
      "metadata": {
        "colab": {
          "base_uri": "https://localhost:8080/"
        },
        "id": "RvpvamCY2MoM",
        "outputId": "d8ec7fcc-80fe-4221-da67-440902280e09"
      },
      "source": [
        "#Q12\n",
        "\n",
        "import math\n",
        "a, b = input(\"The lengths of two sides :\").split()\n",
        "a, b = float(a), float(b)\n",
        "\n",
        "c = math.sqrt((a**2) + (b**2))\n",
        "\n",
        "print(\"The length of hypotenuse is\", c)"
      ],
      "execution_count": 34,
      "outputs": [
        {
          "output_type": "stream",
          "name": "stdout",
          "text": [
            "The lengths of two sides5 1\n",
            "The length of hypotenuse is 5.0990195135927845\n"
          ]
        }
      ]
    },
    {
      "cell_type": "code",
      "metadata": {
        "colab": {
          "base_uri": "https://localhost:8080/"
        },
        "id": "Y6eqVjhi2Mlf",
        "outputId": "e782686f-0de6-43d8-cd2c-f5b9aa2bff7a"
      },
      "source": [
        "#Q13\n",
        "\n",
        "import math\n",
        "r = input(\"Radius r = \")\n",
        "h = input(\"Height h = \")\n",
        "r = float(r)\n",
        "h = float(h)\n",
        "\n",
        "V = (1/3) * math.pi * (r**2) * h\n",
        "\n",
        "print(\"Volume V = \", V)"
      ],
      "execution_count": 35,
      "outputs": [
        {
          "output_type": "stream",
          "name": "stdout",
          "text": [
            "Radius r = 10\n",
            "Height h = 10\n",
            "Volume V =  1047.1975511965977\n"
          ]
        }
      ]
    },
    {
      "cell_type": "code",
      "metadata": {
        "colab": {
          "base_uri": "https://localhost:8080/"
        },
        "id": "qOyjuvgk2Mdc",
        "outputId": "3e6069bb-3208-4df4-a9e2-08f85a689556"
      },
      "source": [
        "#Q14\n",
        "\n",
        "import random as r\n",
        "x = r.randint(1,100)\n",
        "y = r.randint(1,100)\n",
        "print(x+y)"
      ],
      "execution_count": 36,
      "outputs": [
        {
          "output_type": "stream",
          "name": "stdout",
          "text": [
            "94\n"
          ]
        }
      ]
    },
    {
      "cell_type": "code",
      "metadata": {
        "colab": {
          "base_uri": "https://localhost:8080/"
        },
        "id": "fUdvjEpQ2Ma8",
        "outputId": "6f93dda9-6d55-4e7a-e6a5-c57bbba155d5"
      },
      "source": [
        "#Q15\n",
        "# Purpose: Convert Thai area units to squared meters.\n",
        "# Obtain input data\n",
        "no_rai = input('Input the number of Rai')\n",
        "no_ngan = input('Input the number of Ngan')\n",
        "no_tarangwa = input('Input the number of Tarangwa')\n",
        "# Compute\n",
        "\n",
        "  squared_meters = (float(no_rai)*4*100*4) + (float(no_ngan)*100*4)+ (float(no_tarangwa)*4)\n",
        "\n",
        "print('The total area in squared meters is', squared_meters)"
      ],
      "execution_count": 37,
      "outputs": [
        {
          "output_type": "stream",
          "name": "stdout",
          "text": [
            "Input the number of Rai1\n",
            "Input the number of Ngan2\n",
            "Input the number of Tarangwa3\n",
            "The total area in squared meters is 2412.0\n"
          ]
        }
      ]
    },
    {
      "cell_type": "code",
      "metadata": {
        "colab": {
          "base_uri": "https://localhost:8080/",
          "height": 280
        },
        "id": "fuXPBu6l2rU5",
        "outputId": "c421f70e-0b7e-4ee0-934f-be59eb1754d7"
      },
      "source": [
        "#Q16\n",
        "\n",
        "# Purpose: Compute the distance between 2-D points\n",
        "from math import *\n",
        "x1, y1 = input('Enter ordinates of first point').split()\n",
        "x1, y1 = float(x1), float(y1)\n",
        "x2, y2 = input('Enter ordinates of second point').split()\n",
        "x2, y2 = float(x2),float(y2)\n",
        "# Compute\n",
        "d = sqrt( ((x1-x2)**2)  + ((y1-y2)**2)  )\n",
        "print('Distance between (', x1, y1, ') and (', x2, y2, ') is ', d)\n",
        "\n"
      ],
      "execution_count": 2,
      "outputs": [
        {
          "name": "stdout",
          "output_type": "stream",
          "text": [
            "Enter ordinates of first point1 2\n",
            "Enter ordinates of second point3 2\n"
          ]
        },
        {
          "output_type": "error",
          "ename": "NameError",
          "evalue": "ignored",
          "traceback": [
            "\u001b[0;31m---------------------------------------------------------------------------\u001b[0m",
            "\u001b[0;31mNameError\u001b[0m                                 Traceback (most recent call last)",
            "\u001b[0;32m<ipython-input-2-cd078a9ee578>\u001b[0m in \u001b[0;36m<module>\u001b[0;34m()\u001b[0m\n\u001b[1;32m      8\u001b[0m \u001b[0mx2\u001b[0m\u001b[0;34m,\u001b[0m \u001b[0my2\u001b[0m \u001b[0;34m=\u001b[0m \u001b[0mfloat\u001b[0m\u001b[0;34m(\u001b[0m\u001b[0mx2\u001b[0m\u001b[0;34m)\u001b[0m\u001b[0;34m,\u001b[0m\u001b[0mfloat\u001b[0m\u001b[0;34m(\u001b[0m\u001b[0my2\u001b[0m\u001b[0;34m)\u001b[0m\u001b[0;34m\u001b[0m\u001b[0;34m\u001b[0m\u001b[0m\n\u001b[1;32m      9\u001b[0m \u001b[0;31m# Compute\u001b[0m\u001b[0;34m\u001b[0m\u001b[0;34m\u001b[0m\u001b[0;34m\u001b[0m\u001b[0m\n\u001b[0;32m---> 10\u001b[0;31m \u001b[0md\u001b[0m \u001b[0;34m=\u001b[0m \u001b[0mmath\u001b[0m\u001b[0;34m.\u001b[0m\u001b[0msqrt\u001b[0m\u001b[0;34m(\u001b[0m \u001b[0;34m(\u001b[0m\u001b[0;34m(\u001b[0m\u001b[0mx1\u001b[0m\u001b[0;34m-\u001b[0m\u001b[0mx2\u001b[0m\u001b[0;34m)\u001b[0m\u001b[0;34m**\u001b[0m\u001b[0;36m2\u001b[0m\u001b[0;34m)\u001b[0m  \u001b[0;34m+\u001b[0m \u001b[0;34m(\u001b[0m\u001b[0;34m(\u001b[0m\u001b[0my1\u001b[0m\u001b[0;34m-\u001b[0m\u001b[0my2\u001b[0m\u001b[0;34m)\u001b[0m\u001b[0;34m**\u001b[0m\u001b[0;36m2\u001b[0m\u001b[0;34m)\u001b[0m  \u001b[0;34m)\u001b[0m\u001b[0;34m\u001b[0m\u001b[0;34m\u001b[0m\u001b[0m\n\u001b[0m\u001b[1;32m     11\u001b[0m \u001b[0mprint\u001b[0m\u001b[0;34m(\u001b[0m\u001b[0;34m'Distance between ('\u001b[0m\u001b[0;34m,\u001b[0m \u001b[0mx1\u001b[0m\u001b[0;34m,\u001b[0m \u001b[0my1\u001b[0m\u001b[0;34m,\u001b[0m \u001b[0;34m') and ('\u001b[0m\u001b[0;34m,\u001b[0m \u001b[0mx2\u001b[0m\u001b[0;34m,\u001b[0m \u001b[0my2\u001b[0m\u001b[0;34m,\u001b[0m \u001b[0;34m') is '\u001b[0m\u001b[0;34m,\u001b[0m \u001b[0md\u001b[0m\u001b[0;34m)\u001b[0m\u001b[0;34m\u001b[0m\u001b[0;34m\u001b[0m\u001b[0m\n\u001b[1;32m     12\u001b[0m \u001b[0;34m\u001b[0m\u001b[0m\n",
            "\u001b[0;31mNameError\u001b[0m: name 'math' is not defined"
          ]
        }
      ]
    },
    {
      "cell_type": "code",
      "metadata": {
        "colab": {
          "base_uri": "https://localhost:8080/"
        },
        "id": "E40EA2uE2rQw",
        "outputId": "c11402e3-381c-4ae2-aec2-3f94b352e6d0"
      },
      "source": [
        "#Q17\n",
        "import random as r\n",
        "x = r.randint(1,100) + r.random()\n",
        "print(x)\n"
      ],
      "execution_count": 8,
      "outputs": [
        {
          "output_type": "stream",
          "name": "stdout",
          "text": [
            "22.826034865622034\n"
          ]
        }
      ]
    },
    {
      "cell_type": "code",
      "metadata": {
        "colab": {
          "base_uri": "https://localhost:8080/"
        },
        "id": "lGmeNuyf2rOX",
        "outputId": "1c04da66-1db7-4c5d-85b4-a8cdafea5a88"
      },
      "source": [
        "#Q18\n",
        "x = float(input(\"x=\"))\n",
        "import math\n",
        "print(\"y=\", math.floor(x) + math.ceil(x))"
      ],
      "execution_count": 7,
      "outputs": [
        {
          "output_type": "stream",
          "name": "stdout",
          "text": [
            "x=7\n",
            "y= 14\n"
          ]
        }
      ]
    },
    {
      "cell_type": "code",
      "metadata": {
        "colab": {
          "base_uri": "https://localhost:8080/"
        },
        "id": "erQPGYcv2rM8",
        "outputId": "3eff8e38-0fdc-4366-f034-9014c500d728"
      },
      "source": [
        "#Q19\n",
        "x = 3\n",
        "if x>3:\n",
        "  print('Superman!', end = ' ')\n",
        "print('Supermom!', end = ' ')\n",
        "print('Supergirl!', end = ' ')"
      ],
      "execution_count": 5,
      "outputs": [
        {
          "output_type": "stream",
          "name": "stdout",
          "text": [
            "Supermom! Supergirl! "
          ]
        }
      ]
    },
    {
      "cell_type": "code",
      "metadata": {
        "colab": {
          "base_uri": "https://localhost:8080/"
        },
        "id": "TIXGzIfi2rLy",
        "outputId": "fdd59e75-04e9-4b05-8720-59fee01b1892"
      },
      "source": [
        "#Q20\n",
        "\n",
        "x = int(input(\"x=\"))\n",
        "if x-1 > 1:\n",
        "  print('Superman!', end = ' ')\n",
        "  print('Supermom!', end = ' ')\n",
        "print('Supergirl!', end = ' ')\n"
      ],
      "execution_count": 4,
      "outputs": [
        {
          "output_type": "stream",
          "name": "stdout",
          "text": [
            "x=11\n",
            "Superman! Supermom! Supergirl! "
          ]
        }
      ]
    },
    {
      "cell_type": "code",
      "metadata": {
        "colab": {
          "base_uri": "https://localhost:8080/"
        },
        "id": "J38zJYad2rJ6",
        "outputId": "41bcb102-2b57-49c1-9736-12ab0c0c93ed"
      },
      "source": [
        "#Q21\n",
        "# Purpose: Find the smallest integer among three integers\n",
        "a,b,c = input('Enter three integers:').split()\n",
        "a,b,c = int(a), int(b), int(c)\n",
        "m = a\n",
        "if m>b: m = b\n",
        "if m>c: m = c\n",
        "print('The smallest integer is ', m)"
      ],
      "execution_count": 3,
      "outputs": [
        {
          "output_type": "stream",
          "name": "stdout",
          "text": [
            "Enter three integers:5 4 2\n",
            "The smallest integer is  2\n"
          ]
        }
      ]
    },
    {
      "cell_type": "code",
      "metadata": {
        "colab": {
          "base_uri": "https://localhost:8080/"
        },
        "id": "IgbrZ_gH2rEx",
        "outputId": "58226d60-82bb-4990-f019-0e445e8dac26"
      },
      "source": [
        "#Q22\n",
        "x=11000\n",
        "if x>10000:\n",
        "  print('Discount is 10%')\n",
        "if x>5000:\n",
        "  print('Discount is 8%')\n",
        "if x>1000:\n",
        "  print('Discount is 7%')\n",
        "else:\n",
        "  print('No discount')"
      ],
      "execution_count": 53,
      "outputs": [
        {
          "output_type": "stream",
          "name": "stdout",
          "text": [
            "Discount is 10%\n",
            "Discount is 8%\n",
            "Discount is 7%\n"
          ]
        }
      ]
    },
    {
      "cell_type": "code",
      "metadata": {
        "colab": {
          "base_uri": "https://localhost:8080/"
        },
        "id": "YviAaQdy2rCD",
        "outputId": "461f653d-aeba-4642-98ad-674217bdbbfa"
      },
      "source": [
        "#Q23\n",
        "x = input(\"x?(True/False)\")\n",
        "if x==\"True\":\n",
        "  x = True\n",
        "else:\n",
        "  x = False\n",
        "y = input(\"y?(True/False)\")\n",
        "if y==\"True\":\n",
        "  y = True\n",
        "else:\n",
        "  y = False\n",
        "if x and y:\n",
        "  print(\"Hello\")\n",
        "else:\n",
        "  print(\"World\")"
      ],
      "execution_count": 52,
      "outputs": [
        {
          "output_type": "stream",
          "name": "stdout",
          "text": [
            "x?(True/False)False\n",
            "y?(True/False)False\n",
            "World\n"
          ]
        }
      ]
    },
    {
      "cell_type": "code",
      "metadata": {
        "colab": {
          "base_uri": "https://localhost:8080/"
        },
        "id": "zR0DefR-941m",
        "outputId": "53ac6cf5-88a2-4377-aa32-28870b852e7a"
      },
      "source": [
        "#Q24\n",
        "\n",
        "x = input(\"x?(True/False)\")\n",
        "if x==\"True\":\n",
        "  x = True\n",
        "else:\n",
        "  x = False\n",
        "y = input(\"y?(True/False)\")\n",
        "if y==\"True\":\n",
        "  y = True\n",
        "else:\n",
        "  y = False\n",
        "if x and y:\n",
        "  print(\"Hello\")\n",
        "else:\n",
        "  print(\"World\")\n",
        "\n"
      ],
      "execution_count": 51,
      "outputs": [
        {
          "output_type": "stream",
          "name": "stdout",
          "text": [
            "x?(True/False)True\n",
            "y?(True/False)True\n",
            "Hello\n"
          ]
        }
      ]
    },
    {
      "cell_type": "code",
      "metadata": {
        "colab": {
          "base_uri": "https://localhost:8080/"
        },
        "id": "o1RXOUMK94zU",
        "outputId": "d9c52b72-f2cf-4242-9b94-028fa2c7281d"
      },
      "source": [
        "#Q25\n",
        "for i in range(2, 10, 2):\n",
        "  print(\"Superman\")"
      ],
      "execution_count": 50,
      "outputs": [
        {
          "output_type": "stream",
          "name": "stdout",
          "text": [
            "Superman\n",
            "Superman\n",
            "Superman\n",
            "Superman\n"
          ]
        }
      ]
    },
    {
      "cell_type": "code",
      "metadata": {
        "colab": {
          "base_uri": "https://localhost:8080/",
          "height": 135
        },
        "id": "vcxoTzMS94v2",
        "outputId": "a0d35527-1c28-440d-85e0-ff89a1dcaf86"
      },
      "source": [
        "#Q26\n",
        "for i in \"Superman\":\n",
        "print(\"Spiderman\")"
      ],
      "execution_count": 69,
      "outputs": [
        {
          "output_type": "error",
          "ename": "IndentationError",
          "evalue": "ignored",
          "traceback": [
            "\u001b[0;36m  File \u001b[0;32m\"<ipython-input-69-275723d78d64>\"\u001b[0;36m, line \u001b[0;32m3\u001b[0m\n\u001b[0;31m    print(\"Spiderman\")\u001b[0m\n\u001b[0m        ^\u001b[0m\n\u001b[0;31mIndentationError\u001b[0m\u001b[0;31m:\u001b[0m expected an indented block\n"
          ]
        }
      ]
    },
    {
      "cell_type": "code",
      "metadata": {
        "colab": {
          "base_uri": "https://localhost:8080/"
        },
        "id": "zaBV5daZ94to",
        "outputId": "de14c56d-8af4-4a64-e0ed-ffdbe2f5caee"
      },
      "source": [
        "#Q27\n",
        "for i in [10,1,-1]:\n",
        "  print(\"Superman\")"
      ],
      "execution_count": 48,
      "outputs": [
        {
          "output_type": "stream",
          "name": "stdout",
          "text": [
            "Superman\n",
            "Superman\n",
            "Superman\n"
          ]
        }
      ]
    },
    {
      "cell_type": "code",
      "metadata": {
        "colab": {
          "base_uri": "https://localhost:8080/"
        },
        "id": "EpGS6mpz94qP",
        "outputId": "46907e6d-289b-44e5-ea73-6545bf9c4e31"
      },
      "source": [
        "#Q28\n",
        "\n",
        "for i in \"Superman\":\n",
        "  print(\"Superman\")"
      ],
      "execution_count": 47,
      "outputs": [
        {
          "output_type": "stream",
          "name": "stdout",
          "text": [
            "Superman\n",
            "Superman\n",
            "Superman\n",
            "Superman\n",
            "Superman\n",
            "Superman\n",
            "Superman\n",
            "Superman\n"
          ]
        }
      ]
    },
    {
      "cell_type": "code",
      "metadata": {
        "colab": {
          "base_uri": "https://localhost:8080/"
        },
        "id": "moVuKhNR94oH",
        "outputId": "17db9db3-a50b-40d5-98e7-814fe2fb82e6"
      },
      "source": [
        "#Q29\n",
        "x = 10\n",
        "y = \"20\"\n",
        "z = \"Superman\"\n",
        "print(y + x*z)"
      ],
      "execution_count": 46,
      "outputs": [
        {
          "output_type": "stream",
          "name": "stdout",
          "text": [
            "20SupermanSupermanSupermanSupermanSupermanSupermanSupermanSupermanSupermanSuperman\n"
          ]
        }
      ]
    },
    {
      "cell_type": "code",
      "metadata": {
        "colab": {
          "base_uri": "https://localhost:8080/"
        },
        "id": "JMo0ndAS94gT",
        "outputId": "2dde8d30-b213-4566-a66f-6563df396cbd"
      },
      "source": [
        "#Q30\n",
        "x = 2\n",
        "for i in range(1,5,1):\n",
        "  x = x + i*2\n",
        "print(x)"
      ],
      "execution_count": 45,
      "outputs": [
        {
          "output_type": "stream",
          "name": "stdout",
          "text": [
            "22\n"
          ]
        }
      ]
    },
    {
      "cell_type": "code",
      "metadata": {
        "colab": {
          "base_uri": "https://localhost:8080/"
        },
        "id": "HdjCTP_h9_k-",
        "outputId": "f618419b-529d-4a17-a393-25be5d4c8aa0"
      },
      "source": [
        "#Q31\n",
        "\n",
        "for x in range(10):\n",
        "  for y in range(10):\n",
        "    if x < 5 and y > 5:\n",
        "      print(x*y)\n"
      ],
      "execution_count": 43,
      "outputs": [
        {
          "output_type": "stream",
          "name": "stdout",
          "text": [
            "0\n",
            "0\n",
            "0\n",
            "0\n",
            "6\n",
            "7\n",
            "8\n",
            "9\n",
            "12\n",
            "14\n",
            "16\n",
            "18\n",
            "18\n",
            "21\n",
            "24\n",
            "27\n",
            "24\n",
            "28\n",
            "32\n",
            "36\n"
          ]
        }
      ]
    },
    {
      "cell_type": "code",
      "metadata": {
        "colab": {
          "base_uri": "https://localhost:8080/"
        },
        "id": "uQTPteDV9_eb",
        "outputId": "a481a492-2e79-44c7-ea87-e603a579e373"
      },
      "source": [
        "#Q32\n",
        "\n",
        "for a in range(10):\n",
        "  for b in range(20):\n",
        "    if a < b:\n",
        "      print(a-b)"
      ],
      "execution_count": 42,
      "outputs": [
        {
          "output_type": "stream",
          "name": "stdout",
          "text": [
            "-1\n",
            "-2\n",
            "-3\n",
            "-4\n",
            "-5\n",
            "-6\n",
            "-7\n",
            "-8\n",
            "-9\n",
            "-10\n",
            "-11\n",
            "-12\n",
            "-13\n",
            "-14\n",
            "-15\n",
            "-16\n",
            "-17\n",
            "-18\n",
            "-19\n",
            "-1\n",
            "-2\n",
            "-3\n",
            "-4\n",
            "-5\n",
            "-6\n",
            "-7\n",
            "-8\n",
            "-9\n",
            "-10\n",
            "-11\n",
            "-12\n",
            "-13\n",
            "-14\n",
            "-15\n",
            "-16\n",
            "-17\n",
            "-18\n",
            "-1\n",
            "-2\n",
            "-3\n",
            "-4\n",
            "-5\n",
            "-6\n",
            "-7\n",
            "-8\n",
            "-9\n",
            "-10\n",
            "-11\n",
            "-12\n",
            "-13\n",
            "-14\n",
            "-15\n",
            "-16\n",
            "-17\n",
            "-1\n",
            "-2\n",
            "-3\n",
            "-4\n",
            "-5\n",
            "-6\n",
            "-7\n",
            "-8\n",
            "-9\n",
            "-10\n",
            "-11\n",
            "-12\n",
            "-13\n",
            "-14\n",
            "-15\n",
            "-16\n",
            "-1\n",
            "-2\n",
            "-3\n",
            "-4\n",
            "-5\n",
            "-6\n",
            "-7\n",
            "-8\n",
            "-9\n",
            "-10\n",
            "-11\n",
            "-12\n",
            "-13\n",
            "-14\n",
            "-15\n",
            "-1\n",
            "-2\n",
            "-3\n",
            "-4\n",
            "-5\n",
            "-6\n",
            "-7\n",
            "-8\n",
            "-9\n",
            "-10\n",
            "-11\n",
            "-12\n",
            "-13\n",
            "-14\n",
            "-1\n",
            "-2\n",
            "-3\n",
            "-4\n",
            "-5\n",
            "-6\n",
            "-7\n",
            "-8\n",
            "-9\n",
            "-10\n",
            "-11\n",
            "-12\n",
            "-13\n",
            "-1\n",
            "-2\n",
            "-3\n",
            "-4\n",
            "-5\n",
            "-6\n",
            "-7\n",
            "-8\n",
            "-9\n",
            "-10\n",
            "-11\n",
            "-12\n",
            "-1\n",
            "-2\n",
            "-3\n",
            "-4\n",
            "-5\n",
            "-6\n",
            "-7\n",
            "-8\n",
            "-9\n",
            "-10\n",
            "-11\n",
            "-1\n",
            "-2\n",
            "-3\n",
            "-4\n",
            "-5\n",
            "-6\n",
            "-7\n",
            "-8\n",
            "-9\n",
            "-10\n"
          ]
        }
      ]
    },
    {
      "cell_type": "code",
      "metadata": {
        "id": "ilUTSX0A9_Xw"
      },
      "source": [
        "#Q33\n",
        "for superman in range(10):\n",
        "  if superman==\"Superhero\":\n",
        "    print(superman)"
      ],
      "execution_count": 41,
      "outputs": []
    },
    {
      "cell_type": "code",
      "metadata": {
        "colab": {
          "base_uri": "https://localhost:8080/"
        },
        "id": "eIHsW7889_SK",
        "outputId": "780d7e60-04b6-4945-d465-d4ef2419aa9b"
      },
      "source": [
        "#Q34\n",
        "abc = 0\n",
        "for x in range(5):\n",
        "  for y in range(x+3):\n",
        "    if y > 2:\n",
        "      abc = abc + y\n",
        "print(abc)"
      ],
      "execution_count": 39,
      "outputs": [
        {
          "output_type": "stream",
          "name": "stdout",
          "text": [
            "40\n"
          ]
        }
      ]
    },
    {
      "cell_type": "code",
      "metadata": {
        "colab": {
          "base_uri": "https://localhost:8080/"
        },
        "id": "-2emvMU6-QSa",
        "outputId": "e614ffef-847b-47b6-9236-1c09800d5427"
      },
      "source": [
        "#Q35\n",
        "y = 10\n",
        "for i in range(5):\n",
        "  for x in range(i):\n",
        "    y += x*i\n",
        "print(y)"
      ],
      "execution_count": 38,
      "outputs": [
        {
          "output_type": "stream",
          "name": "stdout",
          "text": [
            "45\n"
          ]
        }
      ]
    },
    {
      "cell_type": "code",
      "metadata": {
        "colab": {
          "base_uri": "https://localhost:8080/"
        },
        "id": "UFrsMQJ-TftC",
        "outputId": "ffaef07a-9faf-4a59-f04e-44d3d39af0c1"
      },
      "source": [
        "#Lab Quiz: Q1\n",
        "\n",
        "H,M,S = input('Input:').split(\":\")\n",
        "\n",
        "if (H.isnumeric() and M.isnumeric() and S.isnumeric()):\n",
        "   H,M,S = int(H),int(M),int(S)\n",
        "   if ( (0<=H<=23) and   (0<=M<=59) and   (0<=S<=59)  ):\n",
        "      total_seconds =  (H*60*60)+ (M*60) + S\n",
        "      print(\"The number of seconds =\",total_seconds)\n",
        "   else:\n",
        "      print(\"Invalid time\")\n",
        "else:\n",
        " print(\"Invalid time\")\n",
        "\n"
      ],
      "execution_count": 6,
      "outputs": [
        {
          "output_type": "stream",
          "name": "stdout",
          "text": [
            "Input:23:59:59\n",
            "The number of seconds = 86399\n"
          ]
        }
      ]
    },
    {
      "cell_type": "code",
      "metadata": {
        "colab": {
          "base_uri": "https://localhost:8080/"
        },
        "id": "S5F2_f4NTfp3",
        "outputId": "8a169dd6-975d-4ffa-f8db-d6862cb9111d"
      },
      "source": [
        "#Lab Quiz: Q2\n",
        "N = input('Input:')\n",
        "if (N.isnumeric()):\n",
        "  N = int(N)\n",
        "  if (1<=N<=15):\n",
        "    count=0;\n",
        "    for i in range(1, N+1):\n",
        "      for j in range(1, N+1):\n",
        "        if (i > j):\n",
        "          print(\"0\", end = \"\\t\");\n",
        "        else:\n",
        "          count+=1\n",
        "          print(count,end = \"\\t\" );\n",
        "      print(\"\");\n",
        "  else:\n",
        "    print(\"Invalid input\")\n",
        "else:\n",
        "  print(\"Invalid input\")\n",
        "\n"
      ],
      "execution_count": 68,
      "outputs": [
        {
          "output_type": "stream",
          "name": "stdout",
          "text": [
            "Input:5\n",
            "1\t2\t3\t4\t5\t\n",
            "0\t6\t7\t8\t9\t\n",
            "0\t0\t10\t11\t12\t\n",
            "0\t0\t0\t13\t14\t\n",
            "0\t0\t0\t0\t15\t\n"
          ]
        }
      ]
    },
    {
      "cell_type": "code",
      "metadata": {
        "colab": {
          "base_uri": "https://localhost:8080/"
        },
        "id": "dw8oRNCjTflv",
        "outputId": "d67f6f5b-cee0-4e8a-f12c-89b36776fe94"
      },
      "source": [
        "#Lab Quiz: Q3\n",
        "#\n",
        "customer_number = input(\"Input (Number of customers):\")\n",
        "discount_code = input(\"Input (Discount code):\")\n",
        "\n",
        "if (customer_number.isnumeric()):\n",
        "  customer_number = int(customer_number)\n",
        "\n",
        "  price_per_person = 0\n",
        "  if (1<=customer_number<=3):\n",
        "    price_per_person=399\n",
        "  elif (4<=customer_number<=6):\n",
        "    price_per_person=499 \n",
        "  elif (customer_number>6):\n",
        "    price_per_person=599\n",
        "\n",
        "  ontop_discount = 0\n",
        "  if (discount_code==\"CASH\"):\n",
        "    ontop_discount=5\n",
        "  elif (discount_code==\"BIRTHDAY\"):\n",
        "    ontop_discount=10\n",
        "  elif (discount_code==\"COVID\"):\n",
        "    ontop_discount=30\n",
        "  else:\n",
        "    ontop_discount=0\n",
        "\n",
        "  sub_total = customer_number * price_per_person\n",
        "  total_price =  sub_total - (ontop_discount*sub_total/100)\n",
        "  print(\"%d person x %.2f baht\" % (customer_number,price_per_person))\n",
        "  print(\"A Subtotal price is %.2f baht\" % sub_total)\n",
        "  print(\"On-top discount %d%%\" % ontop_discount)\n",
        "  print(\"a total price is %.2f baht\" % total_price)\n",
        "else:\n",
        "  print(\"Invalid input\")\n",
        "\n",
        "\n",
        "\n"
      ],
      "execution_count": 28,
      "outputs": [
        {
          "output_type": "stream",
          "name": "stdout",
          "text": [
            "Input (Number of customers):7\n",
            "Input (Discount code):CASH\n",
            "7 person x 599.00 baht\n",
            "A Subtotal price is 4193.00 baht\n",
            "On-top discount 5%\n",
            "a total price is 3983.35 baht\n"
          ]
        }
      ]
    },
    {
      "cell_type": "code",
      "metadata": {
        "colab": {
          "base_uri": "https://localhost:8080/"
        },
        "id": "jXq1F_P3TfZI",
        "outputId": "93b8e1ad-1ef6-4864-8a46-4b676bfbd61d"
      },
      "source": [
        "#Lab Quiz Q4\n",
        "import random as r\n",
        "width = input(\"Rectangle width:\")\n",
        "height = input(\"Rectangle height:\")\n",
        "border = input(\"Border thickness:\")\n",
        "width,height,border = int(width),int(height),int(border)\n",
        "# w,h,b = 3,3,1\n",
        "# w,h,b = 20,6,2\n",
        "# w,h,b = 10,4,3\n",
        "#w,h,b = 15,7,3\n",
        "border_pattern = [\"#\",\"*\",\"$\"]\n",
        "\n",
        "for i in range(1, height+1):\n",
        "  for j in range(1, width+1):\n",
        "    if (i<=border or j<=border):\n",
        "      print(r.choice(border_pattern),end=\"\")\n",
        "    elif( (i>=(height-border+1)) or (j>=(width-border+1)) ):\n",
        "      print(r.choice(border_pattern),end=\"\")    \n",
        "    else:\n",
        "      print(\" \",end=\"\")\n",
        "  print()\n",
        "\n",
        "\n"
      ],
      "execution_count": 48,
      "outputs": [
        {
          "output_type": "stream",
          "name": "stdout",
          "text": [
            "Rectangle width:10\n",
            "Rectangle height:4\n",
            "Border thickness:3\n",
            "*#$##*$$#$\n",
            "***#*##$**\n",
            "$*$*##*$$*\n",
            "$**#$*#*$*\n"
          ]
        }
      ]
    },
    {
      "cell_type": "code",
      "metadata": {
        "colab": {
          "base_uri": "https://localhost:8080/"
        },
        "id": "ONuxWdKITfKG",
        "outputId": "e0577371-1277-41db-99f4-69c903d57811"
      },
      "source": [
        "#Q9\n",
        "\n",
        "speed = input(\"Enter speed in mph:\")\n",
        "if (not speed.isnumeric()): \n",
        "  print(\"Invalid input\")\n",
        "else:\n",
        "  distance = input(\"Enter distance in miles:\")\n",
        "  if (not distance.isnumeric()): \n",
        "    print(\"Invalid input\")\n",
        "  else:\n",
        "    output_format = input(\"Enter output format (D or M):\")\n",
        "    if (not (output_format==\"D\" or output_format==\"M\") ): \n",
        "      print(\"Invalid input\") \n",
        "    else:\n",
        "      speed,distance=int(speed),int(distance)\n",
        "      if (speed>0 and distance > 0):\n",
        "        total_time = (distance/speed)\n",
        "        if (output_format==\"D\"):\n",
        "          print(\"At %d mph, it will take\" % speed)\n",
        "          print(\"%.2f hours to travel %d miles\" % (total_time,distance) )\n",
        "        elif (output_format==\"M\"):\n",
        "          hour = (total_time*60) // 60\n",
        "          min =  (total_time*60) %  60\n",
        "          print(\"At %d mph, it will take\" % speed)\n",
        "          print(\"%d hours and %d minutes to travel %d miles\" % (hour,min,distance) )\n",
        "      else:\n",
        "        print(\"Invalid input\")\n"
      ],
      "execution_count": 59,
      "outputs": [
        {
          "output_type": "stream",
          "name": "stdout",
          "text": [
            "Enter speed in mph:50\n",
            "Enter distance in miles:475\n",
            "Enter output format (D or M):M\n",
            "At 50 mph, it will take\n",
            "9 hours and 30 minutes to travel 475 miles\n"
          ]
        }
      ]
    },
    {
      "cell_type": "code",
      "metadata": {
        "colab": {
          "base_uri": "https://localhost:8080/"
        },
        "id": "vRTUMh23KZzQ",
        "outputId": "b6030fb0-cbd5-4c26-8276-27a1bb514f03"
      },
      "source": [
        "#Q10\n",
        "\n",
        "DNA = input(\"DNA:\")\n",
        "base = input(\"base:\")\n",
        "\n",
        "if (DNA.isnumeric() or base.isnumeric()): \n",
        "  print(\"This is not DNA String\")\n",
        "else:\n",
        "  base_count = 0\n",
        "  for ch in DNA:\n",
        "    print(\"c:\",ch)\n",
        "    if (ch==base):\n",
        "      base_count +=1\n",
        "      print(\"True if test\")\n",
        "  print(\"There are %d times that the base %s occur in this DNA.\" % (base_count,base))\n",
        "\n",
        "\n",
        "\n"
      ],
      "execution_count": 63,
      "outputs": [
        {
          "output_type": "stream",
          "name": "stdout",
          "text": [
            "DNA:TAGCCTAGC\n",
            "base:3\n",
            "This is not DNA String\n"
          ]
        }
      ]
    },
    {
      "cell_type": "code",
      "metadata": {
        "colab": {
          "base_uri": "https://localhost:8080/"
        },
        "id": "PwwRj2XGKZt-",
        "outputId": "f98e03d7-5d01-431c-c4a0-8e8262a53738"
      },
      "source": [
        "#Q10\n",
        "\n",
        "a = input(\"Input: a=?\")\n",
        "b = input(\"Input: b=?\")\n",
        "c = input(\"Input: c=?\")\n",
        "\n",
        "try:\n",
        "  a,b,c = float(a),float(c),float(c)\n",
        "  if (a>0 and b>0 and c>0):\n",
        "    if (a>=b and a>=c and a < (b+c)): \n",
        "      print(\"Output: Form a triangle\")\n",
        "    elif (b>=a and b>=c and b < (a+c)): \n",
        "      print(\"Output: Form a triangle\")\n",
        "    elif (c>=a and c>=a and c < (a+c)): \n",
        "      print(\"Output: Form a triangle\")\n",
        "    else:\n",
        "      print(\"Output: Can't form a triangle\")   \n",
        "  else:\n",
        "    print(\"a,b,c must all be postive\")\n",
        "except ValueError:\n",
        "    print(\"Some input is not a number\")\n",
        "\n"
      ],
      "execution_count": 67,
      "outputs": [
        {
          "output_type": "stream",
          "name": "stdout",
          "text": [
            "Input: a=?0\n",
            "Input: b=?-1\n",
            "Input: c=?d\n",
            "Some input is not a number\n"
          ]
        }
      ]
    }
  ]
}