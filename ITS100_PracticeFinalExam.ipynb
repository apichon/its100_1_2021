{
  "nbformat": 4,
  "nbformat_minor": 0,
  "metadata": {
    "colab": {
      "name": "ITS100-PracticeFinalExam.ipynb",
      "provenance": [],
      "authorship_tag": "ABX9TyPefXjdRU9ylYX2XFZ1HhhQ",
      "include_colab_link": true
    },
    "kernelspec": {
      "name": "python3",
      "display_name": "Python 3"
    },
    "language_info": {
      "name": "python"
    }
  },
  "cells": [
    {
      "cell_type": "markdown",
      "metadata": {
        "id": "view-in-github",
        "colab_type": "text"
      },
      "source": [
        "<a href=\"https://colab.research.google.com/github/apichon/its100_1_2021/blob/main/ITS100_PracticeFinalExam.ipynb\" target=\"_parent\"><img src=\"https://colab.research.google.com/assets/colab-badge.svg\" alt=\"Open In Colab\"/></a>"
      ]
    },
    {
      "cell_type": "code",
      "metadata": {
        "colab": {
          "base_uri": "https://localhost:8080/"
        },
        "id": "pXOO80870CBr",
        "outputId": "cf1d185b-5939-45b3-8af8-97ceeb16f4f5"
      },
      "source": [
        "#Q1 The following program aims at computing 1+2+: : : +n. What has to be at the blank on line 2?\n",
        "\n",
        "n = int(input(\"n=? \"))\n",
        "#p,i = ______________________\n",
        "p,i = 0,0\n",
        "while i < n:\n",
        "  i = i+1\n",
        "  p = p+i\n",
        "print(\"1+2+...+n=\",p)\n"
      ],
      "execution_count": null,
      "outputs": [
        {
          "output_type": "stream",
          "name": "stdout",
          "text": [
            "n=? 5\n",
            "1+2+...+n= 15\n"
          ]
        }
      ]
    },
    {
      "cell_type": "code",
      "metadata": {
        "id": "OjNWXJmk9ujl"
      },
      "source": [
        "#Q2 How many time Nobita will be printed? (forever)\n",
        "\n",
        "i = 0\n",
        "while i < 10:\n",
        "  print(\"Nobita\")\n",
        "  print(\"Nobita\")\n",
        "  i = i-1\n",
        "\n"
      ],
      "execution_count": null,
      "outputs": []
    },
    {
      "cell_type": "code",
      "metadata": {
        "colab": {
          "base_uri": "https://localhost:8080/"
        },
        "id": "gMQIB1KE9ugN",
        "outputId": "8790c070-f17d-4c74-8685-1a636ce544e7"
      },
      "source": [
        "#Q3 How many time Superman will be printed?\n",
        "\n",
        "i = 0\n",
        "cont = True\n",
        "while cont:\n",
        "  i = i+1\n",
        "  if i > 2:\n",
        "    cont = False\n",
        "    print(\"Superman\")\n",
        "  print(\"Superman\")"
      ],
      "execution_count": null,
      "outputs": [
        {
          "output_type": "stream",
          "name": "stdout",
          "text": [
            "Superman\n",
            "Superman\n",
            "Superman\n",
            "Superman\n"
          ]
        }
      ]
    },
    {
      "cell_type": "code",
      "metadata": {
        "colab": {
          "base_uri": "https://localhost:8080/"
        },
        "id": "U2jDjvs29udX",
        "outputId": "d03eaea9-367d-4e9b-a225-5e9474a185bd"
      },
      "source": [
        "#Q4 The following program computes the average of numbers given by the user. What should be in line 5?\n",
        "\n",
        "cont = True\n",
        "c, s = 0, 0\n",
        "while cont:\n",
        "  n = input(\"number?\")\n",
        "  #if ____________________\n",
        "  if n == '':\n",
        "      cont =False\n",
        "  else:\n",
        "    c = c+1\n",
        "    s = s+float(n)\n",
        "print(\"Average = \", s/c)"
      ],
      "execution_count": null,
      "outputs": [
        {
          "output_type": "stream",
          "name": "stdout",
          "text": [
            "number?5\n",
            "number?5\n",
            "number?\n",
            "Average =  5.0\n"
          ]
        }
      ]
    },
    {
      "cell_type": "code",
      "metadata": {
        "id": "11PiEdG49ua8"
      },
      "source": [
        "#Q5 We can convert a for loop into a while while loop as follows. What should be written at line 5 in the while loop\n",
        "# for i in range(start,stop):\n",
        "#   statement1\n",
        "#   statement2\n",
        "\n",
        "#The while loop statement:\n",
        "i = start\n",
        "  while i < stop:\n",
        "    statement1\n",
        "    statement2\n",
        "    i = i+1\n"
      ],
      "execution_count": null,
      "outputs": []
    },
    {
      "cell_type": "code",
      "metadata": {
        "colab": {
          "base_uri": "https://localhost:8080/"
        },
        "id": "S87X-DqL9uYc",
        "outputId": "8d573d80-c350-469d-f4aa-a10ad34dc4c3"
      },
      "source": [
        "#Q6 How many times ITS100 will be printed out by the following program?\n",
        "\n",
        "x = 1\n",
        "y = 20\n",
        "while x < 20 or y > 1:\n",
        "  x = x*2\n",
        "  y = y-5\n",
        "  print(\"ITS100\")\n",
        "\n",
        "#1*2 2*2 4*2 8*2 -16*2\n",
        "#20-5 15-5 10-5 5-5 0"
      ],
      "execution_count": null,
      "outputs": [
        {
          "output_type": "stream",
          "name": "stdout",
          "text": [
            "ITS100\n",
            "ITS100\n",
            "ITS100\n",
            "ITS100\n",
            "ITS100\n"
          ]
        }
      ]
    },
    {
      "cell_type": "code",
      "metadata": {
        "id": "FwDQIA6u9uV4"
      },
      "source": [
        "#Q7 How many times hello will be printed out by the following program?\n",
        "\n",
        "n = 10\n",
        "for i in range(n):\n",
        "  while i < 5:\n",
        "    print(\"hello\")\n",
        "\n",
        "# forever"
      ],
      "execution_count": null,
      "outputs": []
    },
    {
      "cell_type": "code",
      "metadata": {
        "colab": {
          "base_uri": "https://localhost:8080/"
        },
        "id": "6LyCv6hk9uUA",
        "outputId": "d43aeb95-cb45-418a-bed3-acced4a9f6b7"
      },
      "source": [
        "#Q8The following program aims at computing 1! + 2! + ::: + n! where n is given by the user and k! = 1 \u0002 2 \u0002 ::: \u0002 k. What should be in line 6 and line 7?\n",
        "\n",
        "n = int(input(\"n=?\"))\n",
        "s = 0\n",
        "for i in range(1, n+1):\n",
        "  p = 1\n",
        "  for j in range(1, i+1):\n",
        "    #__________________\n",
        "    p = p * j\n",
        "  #__________________\n",
        "  s = s + p\n",
        "    \n",
        "print(\"1!+2!+...+n!=\", s)"
      ],
      "execution_count": null,
      "outputs": [
        {
          "output_type": "stream",
          "name": "stdout",
          "text": [
            "n=?3\n",
            "1!+2!+...+n!= 9\n"
          ]
        }
      ]
    },
    {
      "cell_type": "code",
      "metadata": {
        "colab": {
          "base_uri": "https://localhost:8080/"
        },
        "id": "vU8j5snz9uRL",
        "outputId": "8a482bdb-dc31-426a-f8ed-7b0bf835be0d"
      },
      "source": [
        "#Q9 The following program aims at computing 22 +44 +66 +\u0001 \u0001 \u0001+(2n)2n. What should be in line 5 and line 6?\n",
        "\n",
        "n = int(input(\"n=?\"))\n",
        "s = 0\n",
        "i = 1\n",
        "while i <= n:\n",
        "  #_____________________\n",
        "  #_____________________\n",
        "  s = s + ( (2*i)**(2*i) )\n",
        "  i = i + 1\n",
        "print(\"2**2+...+(2n)**(2n)=\",s)"
      ],
      "execution_count": null,
      "outputs": [
        {
          "output_type": "stream",
          "name": "stdout",
          "text": [
            "n=?3\n",
            "1 4\n",
            "2 256\n",
            "3 46656\n",
            "2**2+...+(2n)**(2n)= 46916\n"
          ]
        }
      ]
    },
    {
      "cell_type": "code",
      "metadata": {
        "colab": {
          "base_uri": "https://localhost:8080/"
        },
        "id": "joE2CZnr9uOf",
        "outputId": "3cced353-1a4c-457e-95ba-97c0a4e83abd"
      },
      "source": [
        "#Q10 What is an output of the following program? If there is an error message, what cause it?\n",
        "\n",
        "def test():\n",
        "  print(\"cat\")\n",
        "print(\"dog\")\n",
        "test()\n",
        "print(\"pig\")"
      ],
      "execution_count": null,
      "outputs": [
        {
          "output_type": "stream",
          "name": "stdout",
          "text": [
            "dog\n",
            "cat\n",
            "pig\n"
          ]
        }
      ]
    },
    {
      "cell_type": "code",
      "metadata": {
        "colab": {
          "base_uri": "https://localhost:8080/",
          "height": 35
        },
        "id": "bD05oQDu9uMC",
        "outputId": "dab5cdd8-d1dd-4408-9246-cae95a9c2f16"
      },
      "source": [
        "#Q11 What is an output of the following program? If there is an error message, what cause it?\n",
        "\n",
        "def superman(x):\n",
        "  if x < 10:\n",
        "    print(\"spiderman\")\n",
        "  elif x == 10:\n",
        "    return \"x-men\"\n",
        "  else:\n",
        "    print(\"batman\")\n",
        "superman(10)\n"
      ],
      "execution_count": null,
      "outputs": [
        {
          "output_type": "execute_result",
          "data": {
            "application/vnd.google.colaboratory.intrinsic+json": {
              "type": "string"
            },
            "text/plain": [
              "'x-men'"
            ]
          },
          "metadata": {},
          "execution_count": 19
        }
      ]
    },
    {
      "cell_type": "code",
      "metadata": {
        "colab": {
          "base_uri": "https://localhost:8080/",
          "height": 200
        },
        "id": "rBw7DfMYKZ22",
        "outputId": "547d6dd7-b405-4ad9-c598-8acb7ca04256"
      },
      "source": [
        "#Q12 What is an output of the following program? If there is an error message, what cause it?\n",
        "\n",
        "def student(name, age=18):\n",
        "  print(name, \"is\", age)\n",
        "\n",
        "student(\"super\", \"man\", 25)\n",
        "#TypeError: student() takes from 1 to 2 positional arguments but 3 were given"
      ],
      "execution_count": null,
      "outputs": [
        {
          "output_type": "error",
          "ename": "TypeError",
          "evalue": "ignored",
          "traceback": [
            "\u001b[0;31m---------------------------------------------------------------------------\u001b[0m",
            "\u001b[0;31mTypeError\u001b[0m                                 Traceback (most recent call last)",
            "\u001b[0;32m<ipython-input-20-72f9303cce77>\u001b[0m in \u001b[0;36m<module>\u001b[0;34m()\u001b[0m\n\u001b[1;32m      4\u001b[0m   \u001b[0mprint\u001b[0m\u001b[0;34m(\u001b[0m\u001b[0mname\u001b[0m\u001b[0;34m,\u001b[0m \u001b[0;34m\"is\"\u001b[0m\u001b[0;34m,\u001b[0m \u001b[0mage\u001b[0m\u001b[0;34m)\u001b[0m\u001b[0;34m\u001b[0m\u001b[0;34m\u001b[0m\u001b[0m\n\u001b[1;32m      5\u001b[0m \u001b[0;34m\u001b[0m\u001b[0m\n\u001b[0;32m----> 6\u001b[0;31m \u001b[0mstudent\u001b[0m\u001b[0;34m(\u001b[0m\u001b[0;34m\"super\"\u001b[0m\u001b[0;34m,\u001b[0m \u001b[0;34m\"man\"\u001b[0m\u001b[0;34m,\u001b[0m \u001b[0;36m25\u001b[0m\u001b[0;34m)\u001b[0m\u001b[0;34m\u001b[0m\u001b[0;34m\u001b[0m\u001b[0m\n\u001b[0m",
            "\u001b[0;31mTypeError\u001b[0m: student() takes from 1 to 2 positional arguments but 3 were given"
          ]
        }
      ]
    },
    {
      "cell_type": "code",
      "metadata": {
        "colab": {
          "base_uri": "https://localhost:8080/"
        },
        "id": "SoxC0jy0KZ0I",
        "outputId": "d4868842-d8b6-40c4-ac87-bf8f0077bdc2"
      },
      "source": [
        "#Q13 What is an output of the following program? If there is an error message, what cause it?\n",
        "\n",
        "def adder(a, b):\n",
        "  c = a+b\n",
        "c = 100\n",
        "c = adder(10, 20)\n",
        "print(c)\n",
        "\n",
        "#no return from function, then None"
      ],
      "execution_count": null,
      "outputs": [
        {
          "output_type": "stream",
          "name": "stdout",
          "text": [
            "None\n"
          ]
        }
      ]
    },
    {
      "cell_type": "code",
      "metadata": {
        "colab": {
          "base_uri": "https://localhost:8080/",
          "height": 304
        },
        "id": "WLkL2VWVKZxr",
        "outputId": "230069fe-8cc3-47a9-fa9d-fe9bbfd1c9a1"
      },
      "source": [
        "#Q14 What is an output of the following program? If there is an error message, what cause it?\n",
        "\n",
        "\n",
        "def multiply(a, b):\n",
        "  print(a*b)\n",
        "multiply(\"Super\",\"man\")\n",
        "#TypeError: can't multiply sequence by non-int of type 'str'"
      ],
      "execution_count": null,
      "outputs": [
        {
          "output_type": "error",
          "ename": "TypeError",
          "evalue": "ignored",
          "traceback": [
            "\u001b[0;31m---------------------------------------------------------------------------\u001b[0m",
            "\u001b[0;31mTypeError\u001b[0m                                 Traceback (most recent call last)",
            "\u001b[0;32m<ipython-input-22-98f70f8b3a7a>\u001b[0m in \u001b[0;36m<module>\u001b[0;34m()\u001b[0m\n\u001b[1;32m      4\u001b[0m \u001b[0;32mdef\u001b[0m \u001b[0mmultiply\u001b[0m\u001b[0;34m(\u001b[0m\u001b[0ma\u001b[0m\u001b[0;34m,\u001b[0m \u001b[0mb\u001b[0m\u001b[0;34m)\u001b[0m\u001b[0;34m:\u001b[0m\u001b[0;34m\u001b[0m\u001b[0;34m\u001b[0m\u001b[0m\n\u001b[1;32m      5\u001b[0m   \u001b[0mprint\u001b[0m\u001b[0;34m(\u001b[0m\u001b[0ma\u001b[0m\u001b[0;34m*\u001b[0m\u001b[0mb\u001b[0m\u001b[0;34m)\u001b[0m\u001b[0;34m\u001b[0m\u001b[0;34m\u001b[0m\u001b[0m\n\u001b[0;32m----> 6\u001b[0;31m \u001b[0mmultiply\u001b[0m\u001b[0;34m(\u001b[0m\u001b[0;34m\"Super\"\u001b[0m\u001b[0;34m,\u001b[0m\u001b[0;34m\"man\"\u001b[0m\u001b[0;34m)\u001b[0m\u001b[0;34m\u001b[0m\u001b[0;34m\u001b[0m\u001b[0m\n\u001b[0m",
            "\u001b[0;32m<ipython-input-22-98f70f8b3a7a>\u001b[0m in \u001b[0;36mmultiply\u001b[0;34m(a, b)\u001b[0m\n\u001b[1;32m      3\u001b[0m \u001b[0;34m\u001b[0m\u001b[0m\n\u001b[1;32m      4\u001b[0m \u001b[0;32mdef\u001b[0m \u001b[0mmultiply\u001b[0m\u001b[0;34m(\u001b[0m\u001b[0ma\u001b[0m\u001b[0;34m,\u001b[0m \u001b[0mb\u001b[0m\u001b[0;34m)\u001b[0m\u001b[0;34m:\u001b[0m\u001b[0;34m\u001b[0m\u001b[0;34m\u001b[0m\u001b[0m\n\u001b[0;32m----> 5\u001b[0;31m   \u001b[0mprint\u001b[0m\u001b[0;34m(\u001b[0m\u001b[0ma\u001b[0m\u001b[0;34m*\u001b[0m\u001b[0mb\u001b[0m\u001b[0;34m)\u001b[0m\u001b[0;34m\u001b[0m\u001b[0;34m\u001b[0m\u001b[0m\n\u001b[0m\u001b[1;32m      6\u001b[0m \u001b[0mmultiply\u001b[0m\u001b[0;34m(\u001b[0m\u001b[0;34m\"Super\"\u001b[0m\u001b[0;34m,\u001b[0m\u001b[0;34m\"man\"\u001b[0m\u001b[0;34m)\u001b[0m\u001b[0;34m\u001b[0m\u001b[0;34m\u001b[0m\u001b[0m\n",
            "\u001b[0;31mTypeError\u001b[0m: can't multiply sequence by non-int of type 'str'"
          ]
        }
      ]
    },
    {
      "cell_type": "code",
      "metadata": {
        "colab": {
          "base_uri": "https://localhost:8080/"
        },
        "id": "zO-kkC3lKZvQ",
        "outputId": "89de73a7-dcd1-4d03-ad65-3c8d65761c4f"
      },
      "source": [
        "#Q15 What is an output of the following program? If there is an error message, what cause it?\n",
        "\n",
        "def London():\n",
        "  global c\n",
        "  c = 9\n",
        "  print(c)\n",
        "  c = 3\n",
        "c = 5\n",
        "print(c)\n",
        "London()\n",
        "print(c)"
      ],
      "execution_count": null,
      "outputs": [
        {
          "output_type": "stream",
          "name": "stdout",
          "text": [
            "5\n",
            "9\n",
            "3\n"
          ]
        }
      ]
    },
    {
      "cell_type": "code",
      "metadata": {
        "colab": {
          "base_uri": "https://localhost:8080/"
        },
        "id": "oIUQTh1XKZsv",
        "outputId": "c2c1ec27-723b-4a2f-c861-49233aac439a"
      },
      "source": [
        "#Q16 How many superman will be printed?\n",
        "\n",
        "def Superman(n):\n",
        "  for i in range(n):\n",
        "    print(\"batman\")\n",
        "def Batman(n):\n",
        "  for i in range(1, n, 2):\n",
        "    print(\"superman\")\n",
        "Superman(5)\n",
        "Batman(6)\n"
      ],
      "execution_count": null,
      "outputs": [
        {
          "output_type": "stream",
          "name": "stdout",
          "text": [
            "batman\n",
            "batman\n",
            "batman\n",
            "batman\n",
            "batman\n",
            "superman\n",
            "superman\n",
            "superman\n"
          ]
        }
      ]
    },
    {
      "cell_type": "code",
      "metadata": {
        "colab": {
          "base_uri": "https://localhost:8080/"
        },
        "id": "qtw4FzqpKZqL",
        "outputId": "5819c84e-6965-4a21-d909-d13fecbb452f"
      },
      "source": [
        "#Q17 What is the objective of the following function?\n",
        "\n",
        "def superman(n=3):\n",
        "  for i in range(n):\n",
        "    print(\"superman\")\n",
        "\n",
        "#print super n time with default parameter of 3\n",
        "superman()"
      ],
      "execution_count": null,
      "outputs": [
        {
          "output_type": "stream",
          "name": "stdout",
          "text": [
            "superman\n",
            "superman\n",
            "superman\n"
          ]
        }
      ]
    },
    {
      "cell_type": "code",
      "metadata": {
        "colab": {
          "base_uri": "https://localhost:8080/"
        },
        "id": "bQtmyQVrQgAa",
        "outputId": "0ba56245-96e9-4734-caea-b42747b44b71"
      },
      "source": [
        "#Q18 What is an output of the following program? If there is an error message, what cause it? \n",
        "#How many different variables have been created in that program? What is the scope of variable x and y in the myfunc() function ?\n",
        "\n",
        "def myfunc():\n",
        "  global x\n",
        "  y = x+5\n",
        "  x = 10\n",
        "x = 1\n",
        "y = 50\n",
        "myfunc()\n",
        "print(x, y)\n",
        "\n",
        "# 3 variables = G[x,y],F[y]\n",
        "#Function=> G[x], F[y]\n"
      ],
      "execution_count": null,
      "outputs": [
        {
          "output_type": "stream",
          "name": "stdout",
          "text": [
            "10 50\n"
          ]
        }
      ]
    },
    {
      "cell_type": "code",
      "metadata": {
        "colab": {
          "base_uri": "https://localhost:8080/"
        },
        "id": "1U4qyl1AQf-E",
        "outputId": "f1b6155a-fde8-444a-945b-c7ea69df6b62"
      },
      "source": [
        "#Q19 What is an output of the following program? If there is an error message, what cause it?\n",
        "\n",
        "def myfunc(x=20):\n",
        "  x += 1\n",
        "  print(x, \"superman\")\n",
        "x = 5\n",
        "myfunc(10)\n",
        "print(x, \"superman\")"
      ],
      "execution_count": null,
      "outputs": [
        {
          "output_type": "stream",
          "name": "stdout",
          "text": [
            "11 superman\n",
            "5 superman\n"
          ]
        }
      ]
    },
    {
      "cell_type": "code",
      "metadata": {
        "colab": {
          "base_uri": "https://localhost:8080/"
        },
        "id": "T3wjkYrnQf7r",
        "outputId": "e44c8c41-4613-4a4c-9721-25818a44f31d"
      },
      "source": [
        "#Q20 What is an output of the following program? If there is an error message, what cause it? \n",
        "#How many dierent variables have been created in that program? What is the scope of variable a and c in the myfunc2() function ?\n",
        "\n",
        "def myfunc1():\n",
        "  a = 1\n",
        "  b = 5\n",
        "  c = a+b\n",
        "def myfunc2(c):\n",
        "  c = c+a\n",
        "a = 10\n",
        "b = 10\n",
        "c = 10\n",
        "myfunc1()\n",
        "myfunc2(5)\n",
        "print(a, b, c)\n",
        "\n",
        "#variables = G[a,b,c],F1[a,b,c],F2[c,a] = 18\n",
        "# F2[c,a] = local"
      ],
      "execution_count": null,
      "outputs": [
        {
          "output_type": "stream",
          "name": "stdout",
          "text": [
            "10 10 10\n"
          ]
        }
      ]
    },
    {
      "cell_type": "code",
      "metadata": {
        "id": "_EfnE8zTQf5O"
      },
      "source": [
        "#Q21 What is the correct statement to fill in the blank in order to print out a random color from list colours?"
      ],
      "execution_count": null,
      "outputs": []
    },
    {
      "cell_type": "code",
      "metadata": {
        "colab": {
          "base_uri": "https://localhost:8080/"
        },
        "id": "wEqREz94Qfpr",
        "outputId": "ef734a3f-912b-4eb8-d8c1-e390dd33e468"
      },
      "source": [
        "import random as r\n",
        "colours = [\"red\", \"green\", \"blue\"]\n",
        "#print(___________________)\n",
        "print(r.choice(colours))"
      ],
      "execution_count": null,
      "outputs": [
        {
          "output_type": "stream",
          "name": "stdout",
          "text": [
            "red\n"
          ]
        }
      ]
    },
    {
      "cell_type": "code",
      "metadata": {
        "colab": {
          "base_uri": "https://localhost:8080/",
          "height": 252
        },
        "id": "0pY3A-KCQfmq",
        "outputId": "4e6dc414-0812-40c2-a508-ce3a0844e962"
      },
      "source": [
        "#Q22 What line of the program that generates the error message?\n",
        "\n",
        "A = [10, 20]\n",
        "B = [\"cat\", \"rat\", \"bat\"]\n",
        "print(sum(A))\n",
        "print(sum(B))\n",
        "print(len(A)+len(B))\n",
        "print(min(A))\n",
        "print(max(B))\n",
        "\n",
        "#print(sum(B)) \n",
        "#TypeError: unsupported operand type(s) for +: 'int' and 'str'"
      ],
      "execution_count": null,
      "outputs": [
        {
          "output_type": "stream",
          "name": "stdout",
          "text": [
            "30\n"
          ]
        },
        {
          "output_type": "error",
          "ename": "TypeError",
          "evalue": "ignored",
          "traceback": [
            "\u001b[0;31m---------------------------------------------------------------------------\u001b[0m",
            "\u001b[0;31mTypeError\u001b[0m                                 Traceback (most recent call last)",
            "\u001b[0;32m<ipython-input-36-6ed715783267>\u001b[0m in \u001b[0;36m<module>\u001b[0;34m()\u001b[0m\n\u001b[1;32m      4\u001b[0m \u001b[0mB\u001b[0m \u001b[0;34m=\u001b[0m \u001b[0;34m[\u001b[0m\u001b[0;34m\"cat\"\u001b[0m\u001b[0;34m,\u001b[0m \u001b[0;34m\"rat\"\u001b[0m\u001b[0;34m,\u001b[0m \u001b[0;34m\"bat\"\u001b[0m\u001b[0;34m]\u001b[0m\u001b[0;34m\u001b[0m\u001b[0;34m\u001b[0m\u001b[0m\n\u001b[1;32m      5\u001b[0m \u001b[0mprint\u001b[0m\u001b[0;34m(\u001b[0m\u001b[0msum\u001b[0m\u001b[0;34m(\u001b[0m\u001b[0mA\u001b[0m\u001b[0;34m)\u001b[0m\u001b[0;34m)\u001b[0m\u001b[0;34m\u001b[0m\u001b[0;34m\u001b[0m\u001b[0m\n\u001b[0;32m----> 6\u001b[0;31m \u001b[0mprint\u001b[0m\u001b[0;34m(\u001b[0m\u001b[0msum\u001b[0m\u001b[0;34m(\u001b[0m\u001b[0mB\u001b[0m\u001b[0;34m)\u001b[0m\u001b[0;34m)\u001b[0m\u001b[0;34m\u001b[0m\u001b[0;34m\u001b[0m\u001b[0m\n\u001b[0m\u001b[1;32m      7\u001b[0m \u001b[0mprint\u001b[0m\u001b[0;34m(\u001b[0m\u001b[0mlen\u001b[0m\u001b[0;34m(\u001b[0m\u001b[0mA\u001b[0m\u001b[0;34m)\u001b[0m\u001b[0;34m+\u001b[0m\u001b[0mlen\u001b[0m\u001b[0;34m(\u001b[0m\u001b[0mB\u001b[0m\u001b[0;34m)\u001b[0m\u001b[0;34m)\u001b[0m\u001b[0;34m\u001b[0m\u001b[0;34m\u001b[0m\u001b[0m\n\u001b[1;32m      8\u001b[0m \u001b[0mprint\u001b[0m\u001b[0;34m(\u001b[0m\u001b[0mmin\u001b[0m\u001b[0;34m(\u001b[0m\u001b[0mA\u001b[0m\u001b[0;34m)\u001b[0m\u001b[0;34m)\u001b[0m\u001b[0;34m\u001b[0m\u001b[0;34m\u001b[0m\u001b[0m\n",
            "\u001b[0;31mTypeError\u001b[0m: unsupported operand type(s) for +: 'int' and 'str'"
          ]
        }
      ]
    },
    {
      "cell_type": "code",
      "metadata": {
        "colab": {
          "base_uri": "https://localhost:8080/"
        },
        "id": "ahFX5A8fQfkL",
        "outputId": "cd551e16-8c68-47dc-b348-f2d41c13d31e"
      },
      "source": [
        "#Q23 Which is the correct statement to remove 10 from the following list?\n",
        "\n",
        "numberList = [5, 10, 15, 20]\n",
        "\n",
        "numberList.remove(10)\n",
        "print(numberList)"
      ],
      "execution_count": null,
      "outputs": [
        {
          "output_type": "stream",
          "name": "stdout",
          "text": [
            "[5, 15, 20]\n"
          ]
        }
      ]
    },
    {
      "cell_type": "code",
      "metadata": {
        "colab": {
          "base_uri": "https://localhost:8080/"
        },
        "id": "MO5WFnsDQfiD",
        "outputId": "fde8cba4-8fa5-4dd5-bdaa-907b046af894"
      },
      "source": [
        "#Q24 What is the correct statement to print out ['rat', 'bat'] from myList defined below?\n",
        "\n",
        "myList = [\"cat\", \"rat\", \"bat\", \"hat\", \"fat\"]\n",
        "\n",
        "print(myList[1:3])"
      ],
      "execution_count": null,
      "outputs": [
        {
          "output_type": "stream",
          "name": "stdout",
          "text": [
            "['rat', 'bat']\n"
          ]
        }
      ]
    },
    {
      "cell_type": "code",
      "metadata": {
        "id": "tM0aXwNlQffk"
      },
      "source": [
        "#Q25 What is the correct statement to print out ['hat'] from myList defined below?\n",
        "\n",
        "myList = [\"cat\", \"rat\", \"bat\", \"hat\", \"fat\"]\n",
        "\n",
        "print(myList[1:3])\n",
        "\n"
      ],
      "execution_count": null,
      "outputs": []
    },
    {
      "cell_type": "code",
      "metadata": {
        "colab": {
          "base_uri": "https://localhost:8080/"
        },
        "id": "C0K_mP_HQfdJ",
        "outputId": "1e2d4f4a-8d02-4f65-dec1-49dd7c0214cc"
      },
      "source": [
        "#Q26 What is the correct statement to remove all elements from myList defined below?\n",
        "\n",
        "myList = [\"cat\", \"rat\", \"bat\", \"hat\", \"fat\"]\n",
        "\n",
        "myList.clear()\n",
        "print(myList)\n",
        "\n"
      ],
      "execution_count": null,
      "outputs": [
        {
          "output_type": "stream",
          "name": "stdout",
          "text": [
            "[]\n"
          ]
        }
      ]
    },
    {
      "cell_type": "code",
      "metadata": {
        "colab": {
          "base_uri": "https://localhost:8080/"
        },
        "id": "zjsrWw2_Qfa1",
        "outputId": "3d0ec514-5db8-4785-acad-5eb6f70089f9"
      },
      "source": [
        "#Q27 What is an output of the following program? If there is an error message, what cause it?\n",
        "\n",
        "a = [5, 4, 3, 2, 1]\n",
        "sum = 5\n",
        "for x in a:\n",
        "  if x >= 3:\n",
        "    sum = sum+x\n",
        "print(sum)\n",
        "\n",
        "#5+5+4+3"
      ],
      "execution_count": null,
      "outputs": [
        {
          "output_type": "stream",
          "name": "stdout",
          "text": [
            "17\n"
          ]
        }
      ]
    },
    {
      "cell_type": "code",
      "metadata": {
        "colab": {
          "base_uri": "https://localhost:8080/"
        },
        "id": "A7kcKpz6QfYN",
        "outputId": "24a72fea-95b0-4bdb-86f5-64a30d2f0fde"
      },
      "source": [
        "#Q28 What is an output of the following program? If there is an error message, what cause it?\n",
        "\n",
        "myList = [1, 4, 4, 4, 3, 1]\n",
        "max = myList[0]\n",
        "indexOfMax = 0\n",
        "for i in range(1, len(myList)):\n",
        "  if myList[i] > max:\n",
        "    max = myList[i]\n",
        "    indexOfMax = i\n",
        "print(indexOfMax)\n",
        "\n"
      ],
      "execution_count": null,
      "outputs": [
        {
          "output_type": "stream",
          "name": "stdout",
          "text": [
            "1\n"
          ]
        }
      ]
    },
    {
      "cell_type": "code",
      "metadata": {
        "colab": {
          "base_uri": "https://localhost:8080/"
        },
        "id": "Nls0ytzWQfVm",
        "outputId": "99f9c09f-a677-4403-8533-901aed2d928f"
      },
      "source": [
        "#Q29 What is an output of the following program? If there is an error message, what cause it?\n",
        "\n",
        "def myFunc(B):\n",
        "  B[0] = 99\n",
        "A = [1, 2, 3]\n",
        "myFunc(A)\n",
        "print(A)"
      ],
      "execution_count": null,
      "outputs": [
        {
          "output_type": "stream",
          "name": "stdout",
          "text": [
            "[99, 2, 3]\n"
          ]
        }
      ]
    },
    {
      "cell_type": "code",
      "metadata": {
        "colab": {
          "base_uri": "https://localhost:8080/"
        },
        "id": "ush18pUrQfRR",
        "outputId": "a4d0a214-c11b-4403-8b33-3f0f94a1cc62"
      },
      "source": [
        "#Q30 What is an output of the following program? If there is an error message, what cause it?\n",
        "\n",
        "name = [\"peter\", \"john\", \"somchai\", \"somying\"]\n",
        "print(name[2][-1])"
      ],
      "execution_count": null,
      "outputs": [
        {
          "output_type": "stream",
          "name": "stdout",
          "text": [
            "i\n"
          ]
        }
      ]
    },
    {
      "cell_type": "code",
      "metadata": {
        "colab": {
          "base_uri": "https://localhost:8080/"
        },
        "id": "7IFxsD-zYtjK",
        "outputId": "27e25916-8e7d-40e9-adaa-edc463fcfdda"
      },
      "source": [
        "#Q31 What is an output of the following program? If there is an error message, what cause it?\n",
        "\n",
        "A = \"hello\"\n",
        "s = 0\n",
        "for x in A:\n",
        "  if x in \"aeiou\":\n",
        "    s += 1\n",
        "print(s)"
      ],
      "execution_count": null,
      "outputs": [
        {
          "output_type": "stream",
          "name": "stdout",
          "text": [
            "2\n"
          ]
        }
      ]
    },
    {
      "cell_type": "code",
      "metadata": {
        "colab": {
          "base_uri": "https://localhost:8080/"
        },
        "id": "Ptm37IZ0YtcS",
        "outputId": "fdf4981d-df2e-4801-f406-9a15937d18fb"
      },
      "source": [
        "#Q32 What is an output of the following program? If there is an error message, what cause it?\n",
        "\n",
        "a = []\n",
        "for i in range(5):\n",
        "  a.append(i*i)\n",
        "print(a)\n",
        "x = sum(a)\n",
        "print(x)"
      ],
      "execution_count": null,
      "outputs": [
        {
          "output_type": "stream",
          "name": "stdout",
          "text": [
            "[0, 1, 4, 9, 16]\n",
            "30\n"
          ]
        }
      ]
    },
    {
      "cell_type": "code",
      "metadata": {
        "colab": {
          "base_uri": "https://localhost:8080/"
        },
        "id": "kG27RydQYtZN",
        "outputId": "443d7953-80fd-4304-efec-aa0af7c6ab1e"
      },
      "source": [
        "#Q33 What is an output of the following program? If there is an error message, what cause it?\n",
        "\n",
        "a = []\n",
        "for i in range(1, 10, 2):\n",
        "  if i%2 == 0:\n",
        "    a.append(i*i)\n",
        "print(a)\n",
        "x = sum(a)\n",
        "print(x)\n"
      ],
      "execution_count": null,
      "outputs": [
        {
          "output_type": "stream",
          "name": "stdout",
          "text": [
            "[]\n",
            "0\n"
          ]
        }
      ]
    },
    {
      "cell_type": "code",
      "metadata": {
        "colab": {
          "base_uri": "https://localhost:8080/"
        },
        "id": "VgBV9hC6YtW6",
        "outputId": "2927504a-292a-4ef0-d49b-2598c9cd88c9"
      },
      "source": [
        "#Q34 What is an output of the following program? If there is an error message, what cause it?\n",
        "\n",
        "a = [\"Arsenal\", \"Manchester\", \"Liverpool\"]\n",
        "b = [\"Duck\", \"Cat\", \"Gun\", \"Ghost\", \"Bat\"]\n",
        "def translate(x):\n",
        "  a.sort()\n",
        "  b.sort()\n",
        "  if x in a:\n",
        "    for i in range(len(a)):\n",
        "      if a[i] == x:\n",
        "        return(b[i])\n",
        "      else:\n",
        "        return \"Ship\"\n",
        "x = \"Arsenal\"\n",
        "y = translate(x)\n",
        "print(y)"
      ],
      "execution_count": null,
      "outputs": [
        {
          "output_type": "stream",
          "name": "stdout",
          "text": [
            "Bat\n"
          ]
        }
      ]
    },
    {
      "cell_type": "code",
      "metadata": {
        "colab": {
          "base_uri": "https://localhost:8080/"
        },
        "id": "fENgpNKAYtUv",
        "outputId": "5b1a19be-bda3-434f-b2e4-5683e8673530"
      },
      "source": [
        "#Q35 What is an output of the following program? If there is an error message, what cause it?\n",
        "\n",
        "A = [1, 2, 3, 4, 5]\n",
        "B = [10, 20, 30]\n",
        "C = A[1:4] + B[1:-1]\n",
        "print(C)\n",
        "print(sum(C))"
      ],
      "execution_count": null,
      "outputs": [
        {
          "output_type": "stream",
          "name": "stdout",
          "text": [
            "[2, 3, 4, 20]\n",
            "29\n"
          ]
        }
      ]
    },
    {
      "cell_type": "code",
      "metadata": {
        "colab": {
          "base_uri": "https://localhost:8080/"
        },
        "id": "xtcAxx8TYtST",
        "outputId": "38812a54-e3db-4ce9-c408-23887c0d1dee"
      },
      "source": [
        "#Q36 What is an output of the following program? If there is an error message, what cause it?\n",
        "\n",
        "A = [10, 20, 30, 40, 50]\n",
        "B = [\"Cat\", \"Rat\", \"Bat\"]\n",
        "A[1] = B[2]\n",
        "B[2] = A[3]\n",
        "A[3] = A[1]\n",
        "print(B)"
      ],
      "execution_count": null,
      "outputs": [
        {
          "output_type": "stream",
          "name": "stdout",
          "text": [
            "['Cat', 'Rat', 40]\n"
          ]
        }
      ]
    },
    {
      "cell_type": "code",
      "metadata": {
        "colab": {
          "base_uri": "https://localhost:8080/",
          "height": 234
        },
        "id": "MJo1GYK-YtPm",
        "outputId": "da2cb84c-eed8-4e11-8579-df0eb527ac6b"
      },
      "source": [
        "#Q37 What is an output of the following program? If there is an error message, what cause it?\n",
        "\n",
        "A = [20, 40, 30, 10, 50]\n",
        "A[5] = -50\n",
        "A.sort()\n",
        "print(A[2])\n",
        "\n",
        "#IndexError: list assignment index out of range\n"
      ],
      "execution_count": null,
      "outputs": [
        {
          "output_type": "error",
          "ename": "IndexError",
          "evalue": "ignored",
          "traceback": [
            "\u001b[0;31m---------------------------------------------------------------------------\u001b[0m",
            "\u001b[0;31mIndexError\u001b[0m                                Traceback (most recent call last)",
            "\u001b[0;32m<ipython-input-18-6dbd42126095>\u001b[0m in \u001b[0;36m<module>\u001b[0;34m()\u001b[0m\n\u001b[1;32m      2\u001b[0m \u001b[0;34m\u001b[0m\u001b[0m\n\u001b[1;32m      3\u001b[0m \u001b[0mA\u001b[0m \u001b[0;34m=\u001b[0m \u001b[0;34m[\u001b[0m\u001b[0;36m20\u001b[0m\u001b[0;34m,\u001b[0m \u001b[0;36m40\u001b[0m\u001b[0;34m,\u001b[0m \u001b[0;36m30\u001b[0m\u001b[0;34m,\u001b[0m \u001b[0;36m10\u001b[0m\u001b[0;34m,\u001b[0m \u001b[0;36m50\u001b[0m\u001b[0;34m]\u001b[0m\u001b[0;34m\u001b[0m\u001b[0;34m\u001b[0m\u001b[0m\n\u001b[0;32m----> 4\u001b[0;31m \u001b[0mA\u001b[0m\u001b[0;34m[\u001b[0m\u001b[0;36m5\u001b[0m\u001b[0;34m]\u001b[0m \u001b[0;34m=\u001b[0m \u001b[0;34m-\u001b[0m\u001b[0;36m50\u001b[0m\u001b[0;34m\u001b[0m\u001b[0;34m\u001b[0m\u001b[0m\n\u001b[0m\u001b[1;32m      5\u001b[0m \u001b[0mA\u001b[0m\u001b[0;34m.\u001b[0m\u001b[0msort\u001b[0m\u001b[0;34m(\u001b[0m\u001b[0;34m)\u001b[0m\u001b[0;34m\u001b[0m\u001b[0;34m\u001b[0m\u001b[0m\n\u001b[1;32m      6\u001b[0m \u001b[0mprint\u001b[0m\u001b[0;34m(\u001b[0m\u001b[0mA\u001b[0m\u001b[0;34m[\u001b[0m\u001b[0;36m2\u001b[0m\u001b[0;34m]\u001b[0m\u001b[0;34m)\u001b[0m\u001b[0;34m\u001b[0m\u001b[0;34m\u001b[0m\u001b[0m\n",
            "\u001b[0;31mIndexError\u001b[0m: list assignment index out of range"
          ]
        }
      ]
    },
    {
      "cell_type": "code",
      "metadata": {
        "colab": {
          "base_uri": "https://localhost:8080/"
        },
        "id": "QqqMghd9YtNB",
        "outputId": "5a633750-4d0c-4f73-8c70-fa4c900e2ee1"
      },
      "source": [
        "#Q38 What is the output of the following program?\n",
        "\n",
        "import numpy as np\n",
        "\n",
        "a = np.ones(25)\n",
        "a = np.reshape(a, (5, 5))\n",
        "b = np.identity(5)\n",
        "a = a + 3*b\n",
        "a = np.sum(a, axis=1)\n",
        "print(a)"
      ],
      "execution_count": null,
      "outputs": [
        {
          "output_type": "stream",
          "name": "stdout",
          "text": [
            "[8. 8. 8. 8. 8.]\n"
          ]
        }
      ]
    },
    {
      "cell_type": "code",
      "metadata": {
        "colab": {
          "base_uri": "https://localhost:8080/"
        },
        "id": "1acq1d2hYtKr",
        "outputId": "1f0f2a4d-254a-4d3b-ee1f-d8ece75c0378"
      },
      "source": [
        "#Q39 What is the output of the following program?\n",
        "import numpy as np\n",
        "\n",
        "a = np.array([2,1,6,5,3,7,9,8])\n",
        "print(np.argsort(a))"
      ],
      "execution_count": null,
      "outputs": [
        {
          "output_type": "stream",
          "name": "stdout",
          "text": [
            "[1 0 4 3 2 5 7 6]\n"
          ]
        }
      ]
    },
    {
      "cell_type": "code",
      "metadata": {
        "colab": {
          "base_uri": "https://localhost:8080/"
        },
        "id": "IHznZDixedj7",
        "outputId": "3de605f3-9dfc-4a47-947f-23c7de141da2"
      },
      "source": [
        "#Q40 Write a program that accepts an integer n. It then calculates 1+2+3+\u0001 \u0001 \u0001+n. The program must use NumPy arrays.\n",
        "\n",
        "import numpy as np\n",
        "\n",
        "n = input(\"input n: \")\n",
        "n = int(n)\n",
        "a = np.arange(1,n+1)\n",
        "sum_a = np.sum(a)\n",
        "print(sum_a)\n",
        "\n"
      ],
      "execution_count": null,
      "outputs": [
        {
          "output_type": "stream",
          "name": "stdout",
          "text": [
            "input n: 5\n",
            "15\n"
          ]
        }
      ]
    }
  ]
}