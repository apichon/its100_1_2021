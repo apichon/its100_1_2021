{
  "nbformat": 4,
  "nbformat_minor": 0,
  "metadata": {
    "colab": {
      "name": "ITS100-PracticeLabFinal.ipynb",
      "provenance": [],
      "authorship_tag": "ABX9TyNuhHKiBo2d0CpxytXJ0LYH",
      "include_colab_link": true
    },
    "kernelspec": {
      "name": "python3",
      "display_name": "Python 3"
    },
    "language_info": {
      "name": "python"
    }
  },
  "cells": [
    {
      "cell_type": "markdown",
      "metadata": {
        "id": "view-in-github",
        "colab_type": "text"
      },
      "source": [
        "<a href=\"https://colab.research.google.com/github/apichon/its100_1_2021/blob/main/ITS100_PracticeLabFinal.ipynb\" target=\"_parent\"><img src=\"https://colab.research.google.com/assets/colab-badge.svg\" alt=\"Open In Colab\"/></a>"
      ]
    },
    {
      "cell_type": "markdown",
      "metadata": {
        "id": "-gxn20RcPPlN"
      },
      "source": [
        "# ITS100 Lab Final Quiz"
      ]
    },
    {
      "cell_type": "code",
      "metadata": {
        "colab": {
          "base_uri": "https://localhost:8080/"
        },
        "id": "IReNovDsO7Fe",
        "outputId": "29903cee-bcd9-438b-ecb1-88160dc3eb00"
      },
      "source": [
        "#Q1 Write a program to calculate the transaction balance of a student’s bank account\n",
        "\n",
        "\n",
        "init_balance = input(\"Enter the initial balance: \")\n",
        "balance = int(init_balance)\n",
        "\n",
        "is_loop = True\n",
        "while is_loop:\n",
        "  transaction_type,amount = input('Transaction type and amount (\"done 0\" to exit): ').split()\n",
        "  if (amount.isnumeric()):\n",
        "    amount = int(amount)\n",
        "    if (transaction_type == \"D\"):\n",
        "      balance = balance+amount\n",
        "      print(\" Deposit = %d THB, current balance = %d THB.\" % (amount,balance))\n",
        "    elif (transaction_type == \"W\"):\n",
        "      if (balance>amount):\n",
        "        balance = balance-amount\n",
        "        print(\" Withdrawal = %d THB, current balance = %d THB.\" % (amount,balance))\n",
        "      else:\n",
        "        print(\"Invalid transaction!\")\n",
        "    elif (transaction_type == \"done\" and amount ==0):\n",
        "        is_loop = False\n",
        "        print(\"Current balance = %d THB.\" % balance)\n",
        "    else:\n",
        "      print(\"Invalid transaction!\")\n",
        "  else:\n",
        "    print(\"Invalid transaction!\")\n",
        "\n"
      ],
      "execution_count": null,
      "outputs": [
        {
          "output_type": "stream",
          "name": "stdout",
          "text": [
            "Enter the initial balance: 1000\n",
            "Transaction type and amount (\"done 0\" to exit): done 100\n",
            "Invalid transaction!\n",
            "Transaction type and amount (\"done 0\" to exit): done 0\n",
            "Current balance = 1000 THB.\n"
          ]
        }
      ]
    },
    {
      "cell_type": "code",
      "metadata": {
        "colab": {
          "base_uri": "https://localhost:8080/"
        },
        "id": "1SKStg1qXNVh",
        "outputId": "54221ed0-0d3d-4447-bd3c-bf033a2a3eff"
      },
      "source": [
        "#Q2 The program will display the list of students and scores sequenced from the highest score to the lowest score.\n",
        "\n",
        "def add_student_score(student_list,name,score):\n",
        "  if (name in [i[0] for i in student_list]):\n",
        "    print(\"Duplicate name!\")\n",
        "  elif (0<=score<=100):\n",
        "    student_list.append([name,score])\n",
        "  else:\n",
        "    print(\"Invalid score!\")\n",
        "  return\n",
        "\n",
        "def print_student_score(student_list):\n",
        "  if (len(student_list) == 0):\n",
        "    print(\"List:\\n> empty list!\")\n",
        "  else:\n",
        "    student_list.sort(key=sort_score,reverse=True)\n",
        "    print(\"List:\")\n",
        "    for item in student_list:\n",
        "      print(\"%s \\t\\t %d\" % (item[0],item[1]))\n",
        "  return\n",
        "\n",
        "def sort_score(item):\n",
        "  return item[1]\n",
        "\n",
        "student_list = []\n",
        "is_loop = True\n",
        "i = 1\n",
        "while is_loop:\n",
        "  input_user = input('Enter student name and score: ')\n",
        "  if (i == 1 and input_user==\"end\"):\n",
        "     print(\"List:\\n> empty list!\")\n",
        "     break\n",
        "  i+=1\n",
        "  name,score = input_user.split()\n",
        "  if (score.isnumeric()):\n",
        "    score = int(score)\n",
        "    if (name == \"end\" and score ==0):\n",
        "      is_loop = False\n",
        "      print_student_score(student_list)\n",
        "    else:\n",
        "      add_student_score(student_list,name,score)\n",
        "  else:\n",
        "    print(\"Invalid score!\")\n",
        "\n",
        "\n"
      ],
      "execution_count": null,
      "outputs": [
        {
          "output_type": "stream",
          "name": "stdout",
          "text": [
            "Enter student name and score: end\n",
            "List:\n",
            "> empty list!\n"
          ]
        }
      ]
    },
    {
      "cell_type": "code",
      "metadata": {
        "colab": {
          "base_uri": "https://localhost:8080/"
        },
        "id": "mwh3mje3XNSe",
        "outputId": "8b2be4e3-788e-49e0-ff24-4f079a29d65c"
      },
      "source": [
        "#Q3 Write a program that manages reward points of a convenient store for a user.\n",
        "\n",
        "\n",
        "current_points = 100\n",
        "\n",
        "is_loop = True\n",
        "while is_loop:\n",
        "  command, value = input('Command:').split()\n",
        "  if (value.isnumeric()):\n",
        "    value = int(value)\n",
        "    if (value == 0 and command in [\"P\",\"R\"]):\n",
        "      print(\"Invalid command\")\n",
        "    elif (command == \"done\" and value == 0):\n",
        "      is_loop = False \n",
        "    elif (command == \"P\"):\n",
        "      points = value // 50\n",
        "      current_points+= points\n",
        "      print(\"You earned %d points\" % points)\n",
        "      print(\"Your accumulated points = %d points\" % current_points)\n",
        "    elif (command == \"R\"):\n",
        "      if (value>current_points):\n",
        "         print(\"Not enough points\")\n",
        "      else:\n",
        "        current_points-= value\n",
        "        print(\"You redeemed %d points\" % value)\n",
        "        print(\"Your accumulated points = %d points\" % current_points)\n",
        "    else:\n",
        "      print(\"Invalid command\")\n",
        "\n",
        "  else:\n",
        "    print(\"Invalid command\")\n"
      ],
      "execution_count": null,
      "outputs": [
        {
          "name": "stdout",
          "output_type": "stream",
          "text": [
            "Command:P 100\n",
            "You earned 2 points\n",
            "Your accumulated points = 102 points\n",
            "Command:R 100\n",
            "You redeemed 100 points\n",
            "Your accumulated points = 2 points\n",
            "Command:done 0\n"
          ]
        }
      ]
    },
    {
      "cell_type": "code",
      "metadata": {
        "colab": {
          "base_uri": "https://localhost:8080/"
        },
        "id": "nzmDfE92XNPM",
        "outputId": "461065dc-70ae-462f-93f7-0dfe9252e86f"
      },
      "source": [
        "#Q4 The program then orders the players according to their scores from the highest to the lowest.\n",
        "\n",
        "def add_player_score(player_list,name,score):\n",
        "  if (name in [i[0] for i in player_list]):\n",
        "    print(\"Duplicated player\")\n",
        "  else:\n",
        "    player_list.append([name,score])\n",
        "  return\n",
        "\n",
        "def print_player_score(player_list):\n",
        "  if (len(player_list) == 0):\n",
        "    print(\"List:\\n> empty list!\")\n",
        "  else:\n",
        "    player_list.sort(key=sort_score,reverse=True)\n",
        "    scores = [i[1] for i in player_list]\n",
        "    max_score = max(scores)\n",
        "    avg_score = sum(scores)/len(scores)\n",
        "    for item in player_list:\n",
        "      if (item[1]==max_score):\n",
        "        print(\"%s\\t%d\\tGold\" % (item[0],item[1]))\n",
        "      elif (item[1]>avg_score):\n",
        "        print(\"%s\\t%d\\tSilver\" % (item[0],item[1]))\n",
        "      else:\n",
        "        print(\"%s\\t%d\" % (item[0],item[1]))\n",
        "  return\n",
        "\n",
        "def sort_score(item):\n",
        "  return item[1]\n",
        "\n",
        "player_list = []\n",
        "is_loop = True\n",
        "i = 1\n",
        "while is_loop:\n",
        "  input_user = input('Input: ')\n",
        "  if (i == 1 and input_user==\"done\"):\n",
        "     print(\"No players\")\n",
        "     break\n",
        "  elif (i > 1 and input_user==\"done\"):\n",
        "    is_loop = False\n",
        "    print_player_score(player_list)\n",
        "    break\n",
        "  i+=1\n",
        "  name,score = input_user.split()\n",
        "  if (score.isnumeric()):\n",
        "    score = int(score)\n",
        "    add_player_score(player_list,name,score)\n",
        "  else:\n",
        "    print(\"Invalid input\")"
      ],
      "execution_count": null,
      "outputs": [
        {
          "output_type": "stream",
          "name": "stdout",
          "text": [
            "Input: A 30\n",
            "Input: B 10\n",
            "Input: C 25\n",
            "Input: D 26\n",
            "Input: done\n",
            "A\t30\tGold\n",
            "D\t26\tSilver\n",
            "C\t25\tSilver\n",
            "B\t10\n"
          ]
        }
      ]
    },
    {
      "cell_type": "code",
      "metadata": {
        "colab": {
          "base_uri": "https://localhost:8080/"
        },
        "id": "494_P26yXNMn",
        "outputId": "0d6e8797-ac35-4a54-c822-115be1e4f2bf"
      },
      "source": [
        "#Q5 The program will display an isosceles triangle shape of the number as\n",
        "\n",
        "def print_isosceles_triangle(n):\n",
        "    # number of spaces\n",
        "    k = n - 1\n",
        " \n",
        "    # outer loop to handle number of rows\n",
        "    for i in range(0, n):\n",
        "     \n",
        "        # inner loop to handle number spaces\n",
        "        # values changing acc. to requirement\n",
        "        for j in range(0, k):\n",
        "            print(end=\" \")\n",
        "\n",
        "        # inner loop to handle number of columns\n",
        "        # values changing acc. to outer loop\n",
        "        for j in range(0, i+1):\n",
        "         \n",
        "            # printing n\n",
        "            print(\"%d \" % n, end=\"\")\n",
        "\n",
        "         # decrementing k after each loop\n",
        "        k = k - 1\n",
        "     \n",
        "        # ending line after each row\n",
        "        print(\"\")\n",
        "\n",
        "is_loop = True\n",
        "while is_loop:\n",
        "  input_user = input('Enter an integer number (0 to exit): ')\n",
        "  if (input_user.isnumeric()):\n",
        "    input_user = int(input_user)\n",
        "    if (1<=input_user<=9): \n",
        "      print_isosceles_triangle(input_user)\n",
        "    elif (input_user==0):\n",
        "      print(\"Exit program. Bye!\")\n",
        "      break\n",
        "    else:\n",
        "      print(\"Valid value is between 0 and 9!\")\n",
        "      break\n",
        "  else:\n",
        "    print(\"Valid value is between 0 and 9!\")\n",
        "    break"
      ],
      "execution_count": null,
      "outputs": [
        {
          "output_type": "stream",
          "name": "stdout",
          "text": [
            "Enter an integer number (0 to exit): 10\n",
            "Valid value is between 0 and 9!\n"
          ]
        }
      ]
    },
    {
      "cell_type": "code",
      "metadata": {
        "colab": {
          "base_uri": "https://localhost:8080/"
        },
        "id": "Gm5V0ch6XNKC",
        "outputId": "940e4269-ff46-41b4-dae0-3b68445cef62"
      },
      "source": [
        "#Q6 The program will display the list of student IDs and scores sequenced by student IDs.\n",
        "\n",
        "def add_student_score(student_list,name,score):\n",
        "  if (name in [i[0] for i in student_list]):\n",
        "    print(\"The ID is already recorded!\")\n",
        "  elif (0<=score<=100):\n",
        "    student_list.append([name,score])\n",
        "  else:\n",
        "    print(\"Invalid score!\")\n",
        "  return\n",
        "\n",
        "def print_student_score(student_list):\n",
        "  if (len(student_list) == 0):\n",
        "    print(\"List:\\n> no score is recorded!.\")\n",
        "  else:\n",
        "    student_list.sort(key=sort_score,reverse=False)\n",
        "    print(\"List:\")\n",
        "    for item in student_list:\n",
        "      print(\"%s\\t%d\" % (item[0],item[1]))\n",
        "    total_students = len(student_list)\n",
        "    scores = [i[1] for i in student_list]\n",
        "    avg_score = sum(scores)/len(scores)\n",
        "    print(\"There are %d student(s). The average score is %.2f points.\" % (total_students,avg_score))\n",
        "  return\n",
        "\n",
        "def sort_score(item):\n",
        "  return item[0]\n",
        "\n",
        "student_list = []\n",
        "is_loop = True\n",
        "i = 1\n",
        "while is_loop:\n",
        "  input_user = input('Enter student name and score: ')\n",
        "  if (i == 1 and input_user==\"done\"):\n",
        "     print(\"List:\\n> no score is recorded!.\")\n",
        "     break\n",
        "  i+=1\n",
        "  name,score = input_user.split()\n",
        "  if (score.isnumeric()):\n",
        "    score = int(score)\n",
        "    if (name == \"done\" and score ==0):\n",
        "      is_loop = False\n",
        "      print_student_score(student_list)\n",
        "    elif (len(name) != 4 or not(name.isnumeric())):\n",
        "        print(\"Invalid ID format!\")\n",
        "    else:\n",
        "      add_student_score(student_list,name,score)\n",
        "  else:\n",
        "    print(\"Invalid score!\")\n",
        "\n"
      ],
      "execution_count": null,
      "outputs": [
        {
          "output_type": "stream",
          "name": "stdout",
          "text": [
            "Enter student name and score: 1234 60\n",
            "Enter student name and score: 2345 55\n",
            "Enter student name and score: 2222 25\n",
            "Enter student name and score: 1122 65\n",
            "Enter student name and score: 1111 55\n",
            "Enter student name and score: 2222 50\n",
            "The ID is already recorded!\n",
            "Enter student name and score: nami 40\n",
            "Invalid ID format!\n",
            "Enter student name and score: 333 40\n",
            "Invalid ID format!\n",
            "Enter student name and score: 55555 40\n",
            "Invalid ID format!\n",
            "Enter student name and score: 4444 -1\n",
            "Invalid score!\n",
            "Enter student name and score: 4444 101\n",
            "Invalid score!\n",
            "Enter student name and score: done 0\n",
            "List:\n",
            "1111\t55\n",
            "1122\t65\n",
            "1234\t60\n",
            "2222\t25\n",
            "2345\t55\n",
            "There are 5 student(s). The average score is 52.00 points.\n"
          ]
        }
      ]
    },
    {
      "cell_type": "code",
      "metadata": {
        "colab": {
          "base_uri": "https://localhost:8080/"
        },
        "id": "Rry_r8aVXNH6",
        "outputId": "47fd74e9-be7a-4c3c-9d1d-9931296618a7"
      },
      "source": [
        "#Q7 [Q2 in pdf page 15] The program then displays the number of the students in each program\n",
        "\n",
        "def is_float(num):\n",
        "    try:\n",
        "        #float(num)\n",
        "        float(num.replace(',', ''))\n",
        "        return True\n",
        "    except ValueError:\n",
        "        return False\n",
        "        \n",
        "def print_summary(ce,che,ec,ie,me):\n",
        "  print(\"----SUMMARY----\")\n",
        "  print(\"ce =\",ce)\n",
        "  print(\"che =\",che)\n",
        "  print(\"ec =\",ec)\n",
        "  print(\"ie =\",ie)\n",
        "  print(\"me =\",me)\n",
        "\n",
        "def print_student_score(student_list):\n",
        "  if (len(student_list) == 0):\n",
        "    print(\"The list is empty.\")\n",
        "  else:\n",
        "    student_list.sort(key=sort_score,reverse=True)\n",
        "    print(\"----LIST----\")\n",
        "    for item in student_list:\n",
        "      print(\"%s\\t%s\\t%.2f\" % (item[0],item[1],item[2]))\n",
        "  return\n",
        "\n",
        "def sort_score(item):\n",
        "  return item[2]\n",
        "\n",
        "ce = 0\n",
        "che = 0\n",
        "ec = 0\n",
        "ie = 0\n",
        "me = 0\n",
        "student_list = []\n",
        "is_loop = True\n",
        "while is_loop:\n",
        "  input_user = input('Input: ')\n",
        "  if (input_user==\"done\"):\n",
        "     print_summary(ce,che,ec,ie,me)\n",
        "     print_student_score(student_list)\n",
        "     break\n",
        "\n",
        "  name,dept,score = input_user.split()\n",
        "  if (dept not in [\"ce\",\"che\",\"ec\",\"ie\",\"me\"]):\n",
        "    print(\"ERROR\")\n",
        "  elif (not is_float(score)):\n",
        "    print(\"ERROR\")\n",
        "  else:\n",
        "    score = float(score)\n",
        "    if (0.00 <=score<=4.00):\n",
        "      student_list.append([name,dept,score])\n",
        "      if (dept==\"ce\"): ce+=1\n",
        "      elif (dept==\"che\"): che+=1\n",
        "      elif (dept==\"ec\"): ec+=1\n",
        "      elif (dept==\"ie\"): ie+=1\n",
        "      elif (dept==\"me\"): me+=1\n",
        "    else:\n",
        "       print(\"ERROR\")\n",
        "\n"
      ],
      "execution_count": null,
      "outputs": [
        {
          "output_type": "stream",
          "name": "stdout",
          "text": [
            "Input: clint ie 2.21\n",
            "Input: bruce ce 2.75\n",
            "Input: done\n",
            "----SUMMARY----\n",
            "ce = 1\n",
            "che = 0\n",
            "ec = 0\n",
            "ie = 1\n",
            "me = 0\n",
            "----LIST----\n",
            "bruce\tce\t2.75\n",
            "clint\tie\t2.21\n"
          ]
        }
      ]
    },
    {
      "cell_type": "code",
      "metadata": {
        "colab": {
          "base_uri": "https://localhost:8080/"
        },
        "id": "L3jUUFneXNFN",
        "outputId": "aff38247-3719-425d-b7a4-477630630f7e"
      },
      "source": [
        "#Q8 [Q3 in pdf page 16] Write a Python program to help tally the voting results.\n",
        "\n",
        "def add_vote(vote_results,value):\n",
        "  matches = [x for x in vote_results if (x[0] == value)]\n",
        "  \n",
        "  if (len(matches) >0):\n",
        "    matches[0][1] += 1\n",
        "  else:\n",
        "    vote_results.append([value,1])\n",
        "  \n",
        "  return\n",
        "\n",
        "def print_summary(vote_results):\n",
        "  print(\"----SUMMARY----\")\n",
        "  if (len(vote_results) == 0):\n",
        "    print(\"The list is empty.\")\n",
        "  else:\n",
        "    vote_results.sort(key=sort_score,reverse=False)\n",
        "    for item in vote_results:\n",
        "      print(\"%d\\t%d\" % (item[0],item[1]))\n",
        "\n",
        "def sort_score(item):\n",
        "  return item[0]\n",
        "\n",
        "vote_results = []\n",
        "is_loop = True\n",
        "while is_loop:\n",
        "  value = input('Input:')\n",
        "  if (value ==\"done\"):\n",
        "    is_loop = False \n",
        "    # print sum\n",
        "    print_summary(vote_results)\n",
        "    break\n",
        "  elif (value.isnumeric()):\n",
        "    value = int(value)\n",
        "    if (1<= value <= 1000):\n",
        "       add_vote(vote_results,value)\n",
        "    else:\n",
        "      print(\"ERROR\")\n",
        "\n",
        "  else:\n",
        "    print(\"ERROR\")\n"
      ],
      "execution_count": null,
      "outputs": [
        {
          "output_type": "stream",
          "name": "stdout",
          "text": [
            "Input:1\n",
            "Input:5\n",
            "Input:10\n",
            "Input:one\n",
            "ERROR\n",
            "Input:1001\n",
            "ERROR\n",
            "Input:1000\n",
            "Input:42\n",
            "Input:5\n",
            "Input:done\n",
            "----SUMMARY----\n",
            "1\t1\n",
            "5\t2\n",
            "10\t1\n",
            "42\t1\n",
            "1000\t1\n"
          ]
        }
      ]
    },
    {
      "cell_type": "code",
      "metadata": {
        "colab": {
          "base_uri": "https://localhost:8080/"
        },
        "id": "Nkg6CT8_XNDG",
        "outputId": "55511a97-6029-460a-df3c-76185ae31446"
      },
      "source": [
        "#Q9 [Q7 in pdf page 17] An XO-board has 3 columns and 3 rows\n",
        "\n",
        "xo_list = []\n",
        "\n",
        "while len(xo_list) <9:\n",
        "  value = input('Input:')\n",
        "  if (value in [\"x\",\"o\"]):\n",
        "    xo_list.append(value)\n",
        "  else:\n",
        "    print(\"Wrong input\")\n",
        "    break\n",
        "\n",
        "if (len(xo_list) ==9):\n",
        "  print(\"-------\")\n",
        "  print(\"|%s|%s|%s|\" %(xo_list[0],xo_list[1],xo_list[2]))\n",
        "  print(\"-------\")\n",
        "  print(\"|%s|%s|%s|\" %(xo_list[3],xo_list[4],xo_list[5]))\n",
        "  print(\"-------\")\n",
        "  print(\"|%s|%s|%s|\" %(xo_list[6],xo_list[7],xo_list[8]))\n",
        "  print(\"-------\")\n",
        "\n",
        "\n",
        "\n"
      ],
      "execution_count": null,
      "outputs": [
        {
          "output_type": "stream",
          "name": "stdout",
          "text": [
            "Input:o\n",
            "Input:x\n",
            "Input:o\n",
            "Input:o\n",
            "Input:x\n",
            "Input:x\n",
            "Input:x\n",
            "Input:o\n",
            "Input:o\n",
            "-------\n",
            "|o|x|o|\n",
            "-------\n",
            "|o|x|x|\n",
            "-------\n",
            "|x|o|o|\n",
            "-------\n"
          ]
        }
      ]
    },
    {
      "cell_type": "code",
      "metadata": {
        "colab": {
          "base_uri": "https://localhost:8080/"
        },
        "id": "0FBjSjA6XNAG",
        "outputId": "5b519211-c6d1-43ff-a69d-08a6c3de3564"
      },
      "source": [
        "#Q10 [Q8 in pdf page 18] Write a program that repeatedly accepts currencies and their amount\n",
        "\n",
        "def is_float(num):\n",
        "    try:\n",
        "        #float(num)\n",
        "        float(num.replace(',', ''))\n",
        "        return True\n",
        "    except ValueError:\n",
        "        return False\n",
        "\n",
        "def add_conversion(conversion_result,currency,amount):\n",
        "   converted_amount=0\n",
        "   if (currency==\"JPY\"):\n",
        "     converted_amount=amount*0.29\n",
        "   elif (currency==\"USD\"):\n",
        "     converted_amount=amount*31.99\n",
        "   elif (currency==\"EUR\"):\n",
        "     converted_amount=amount*35.62\n",
        "   conversion_result.append([currency,amount,converted_amount])\n",
        "   return\n",
        "\n",
        "\n",
        "def print_summary(conversion_result):\n",
        "  for item in conversion_result:\n",
        "    print(\"%.2f %s is %.2f THB\" % (item[1],item[0],item[2]))\n",
        "\n",
        "conversion_result = []\n",
        "is_loop = True\n",
        "i = 1\n",
        "while is_loop:\n",
        "  input_user = input('Input: ')\n",
        "  if (input_user==\"end\"):\n",
        "    print_summary(conversion_result)\n",
        "    break\n",
        "  \n",
        "  currency,amount = input_user.split()\n",
        "  if (currency not in [\"JPY\",\"USD\",\"EUR\"]):\n",
        "    print(\"ERROR\")\n",
        "  elif (not is_float(amount)):\n",
        "    print(\"ERROR\")\n",
        "  else:\n",
        "    amount = float(amount)\n",
        "    if (amount>=1):\n",
        "        add_conversion(conversion_result,currency,amount)\n",
        "    else:\n",
        "      print(\"ERROR\")\n",
        "\n",
        "\n"
      ],
      "execution_count": null,
      "outputs": [
        {
          "output_type": "stream",
          "name": "stdout",
          "text": [
            "Input: USD 8\n",
            "Input: ABC 3\n",
            "ERROR”\n",
            "Input: JPY 5000\n",
            "Input: end\n",
            "8.00 USD is 255.92 THB\n",
            "5000.00 JPY is 1450.00 THB\n"
          ]
        }
      ]
    },
    {
      "cell_type": "code",
      "metadata": {
        "colab": {
          "base_uri": "https://localhost:8080/"
        },
        "id": "U2Zf7_BaXM9v",
        "outputId": "aedba92f-589b-40e2-9d74-9a5d6d02d4d7"
      },
      "source": [
        "#Q11 [Q9 in pdf page 19]  Write a program to repeatedly take two inputs animal name and amount then keep\n",
        "\n",
        "\n",
        "def add_animal(animal_results,animal,value):\n",
        "  matches = [x for x in animal_results if (x[0] == animal)]\n",
        "  if (len(matches) >0):\n",
        "    matches[0][1] += value\n",
        "  else:\n",
        "    animal_results.append([animal,value])\n",
        "  \n",
        "  return\n",
        "\n",
        "def print_summary(animal_results):\n",
        "  if (len(animal_results) == 0):\n",
        "    print(\"Empty List\")\n",
        "    print(\"###Summary###\")\n",
        "  else:\n",
        "    print(\"###Summary###\")\n",
        "    for item in animal_results:\n",
        "      print(\"Total Number of %s : %d\" % (item[0],item[1]))\n",
        "  \n",
        "animal_results = []\n",
        "is_loop = True\n",
        "while is_loop:\n",
        "  input_user = input('Input:')\n",
        "  if (input_user ==\"done\"):\n",
        "    is_loop = False \n",
        "    # print sum\n",
        "    print_summary(animal_results)\n",
        "    break\n",
        "\n",
        "  animal,amount = input_user.split()\n",
        "  amount = int(amount)\n",
        "  add_animal(animal_results,animal,amount)\n",
        "\n"
      ],
      "execution_count": null,
      "outputs": [
        {
          "output_type": "stream",
          "name": "stdout",
          "text": [
            "Input:snail 2\n",
            "Input:ant 2\n",
            "Input:dog 3\n",
            "Input:fish 2\n",
            "Input:dog 1\n",
            "Input:fish 3\n",
            "Input:done\n",
            "###Summary###\n",
            "Total Number of snail : 2\n",
            "Total Number of ant : 2\n",
            "Total Number of dog : 4\n",
            "Total Number of fish : 5\n"
          ]
        }
      ]
    },
    {
      "cell_type": "code",
      "metadata": {
        "colab": {
          "base_uri": "https://localhost:8080/"
        },
        "id": "I7Wx91BnNZXn",
        "outputId": "6a4261ab-c6ab-4ebd-fbf1-851dbb20e4c3"
      },
      "source": [
        "#Q12 [Q11 in pdf page 20] Write a coin deposit program to repeatedly take user input then store the values inside list.\n",
        "\n",
        "def add_coin(coin_result,coin):\n",
        "  matches = [x for x in coin_result if (x[0] == coin)]\n",
        "  if (len(matches) >0):\n",
        "    matches[0][1] += 1\n",
        "    print(\"You inserted %d baht coin\" % coin)\n",
        "    item_sum = [i[0]*i[1] for i in coin_result]\n",
        "    total = sum(item_sum)\n",
        "    print(\"Current Balance: %d baht\" % total)\n",
        "\n",
        "  return\n",
        "\n",
        "def print_summary(coin_result):\n",
        "  print(\"<-----Deposit Summary----->\")\n",
        "  for item in coin_result:\n",
        "    print(\"%d baht coins -> %d\" % (item[0],item[1]))\n",
        "  \n",
        "  item_sum = [i[0]*i[1] for i in coin_result]\n",
        "  total = sum(item_sum)\n",
        "  print(\"Deposit Amount: %d baht\" % (total))\n",
        "\n",
        "print(\"Welcome to coin deposit machine\")\n",
        "\n",
        "coin_result = [[1,0],[2,0],[5,0],[10,0]]\n",
        "is_loop = True\n",
        "while is_loop:\n",
        "  input_user = input('Please insert coin: ')\n",
        "  if (input_user ==\"done\"):\n",
        "    is_loop = False \n",
        "    # print sum\n",
        "    print_summary(coin_result)\n",
        "    break\n",
        "  elif (input_user not in [\"1\",\"2\",\"5\",\"10\"]):\n",
        "    print(\"Only 1,2,5 and 10 baht coin are allowed\")\n",
        "  else:\n",
        "    coin = int(input_user)\n",
        "    add_coin(coin_result,coin)\n",
        "\n",
        "\n",
        "\n",
        "\n",
        "\n"
      ],
      "execution_count": null,
      "outputs": [
        {
          "output_type": "stream",
          "name": "stdout",
          "text": [
            "Welcome to coin deposit machine\n",
            "Please insert coin: 10\n",
            "You inserted 10 baht coin\n",
            "Current Balance: 10 baht\n",
            "Please insert coin: 5\n",
            "You inserted 5 baht coin\n",
            "Current Balance: 15 baht\n",
            "Please insert coin: 20\n",
            "Only 1,2,5 and 10 baht coin are allowed\n",
            "Please insert coin: 1\n",
            "You inserted 1 baht coin\n",
            "Current Balance: 16 baht\n",
            "Please insert coin: done\n",
            "<-----Deposit Summary----->\n",
            "1 baht coins -> 1\n",
            "2 baht coins -> 0\n",
            "5 baht coins -> 1\n",
            "10 baht coins -> 1\n",
            "Deposit Amount: 16 baht\n"
          ]
        }
      ]
    },
    {
      "cell_type": "code",
      "metadata": {
        "id": "u-lRgj79NZVD"
      },
      "source": [
        ""
      ],
      "execution_count": null,
      "outputs": []
    },
    {
      "cell_type": "code",
      "metadata": {
        "id": "3HuIAo01NZSe"
      },
      "source": [
        ""
      ],
      "execution_count": null,
      "outputs": []
    },
    {
      "cell_type": "code",
      "metadata": {
        "id": "_xBwC89BNZQH"
      },
      "source": [
        ""
      ],
      "execution_count": null,
      "outputs": []
    },
    {
      "cell_type": "code",
      "metadata": {
        "id": "t9Ks93eZNZM3"
      },
      "source": [
        ""
      ],
      "execution_count": null,
      "outputs": []
    },
    {
      "cell_type": "code",
      "metadata": {
        "id": "CAYC050jNZJz"
      },
      "source": [
        ""
      ],
      "execution_count": null,
      "outputs": []
    }
  ]
}